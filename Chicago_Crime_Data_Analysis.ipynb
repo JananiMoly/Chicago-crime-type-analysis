{
  "nbformat": 4,
  "nbformat_minor": 0,
  "metadata": {
    "colab": {
      "provenance": []
    },
    "kernelspec": {
      "name": "python3",
      "display_name": "Python 3"
    },
    "language_info": {
      "name": "python"
    }
  },
  "cells": [
    {
      "cell_type": "code",
      "execution_count": null,
      "metadata": {
        "id": "RNVwdxacNS95"
      },
      "outputs": [],
      "source": [
        "!apt-get install openjdk-8-jdk-headless -qq > /dev/null"
      ]
    },
    {
      "cell_type": "code",
      "source": [
        "!wget -q https://archive.apache.org/dist/spark/spark-3.3.1/spark-3.3.1-bin-hadoop3.tgz"
      ],
      "metadata": {
        "id": "ixj4owN4NdWU"
      },
      "execution_count": null,
      "outputs": []
    },
    {
      "cell_type": "code",
      "source": [
        "!ls"
      ],
      "metadata": {
        "colab": {
          "base_uri": "https://localhost:8080/"
        },
        "id": "M0-SDmUOPM-Q",
        "outputId": "6ac49439-dd58-4787-ed6f-ec77126993f6"
      },
      "execution_count": null,
      "outputs": [
        {
          "output_type": "stream",
          "name": "stdout",
          "text": [
            "sample_data  spark-3.3.1-bin-hadoop3.tgz\n"
          ]
        }
      ]
    },
    {
      "cell_type": "code",
      "source": [
        "!tar xvf spark-3.3.1-bin-hadoop3.tgz\n",
        "!pip install -q findspark"
      ],
      "metadata": {
        "colab": {
          "base_uri": "https://localhost:8080/"
        },
        "id": "-N79UVM2Ou_N",
        "outputId": "7e27d919-dc3d-475a-ff0d-88a0af2bba88"
      },
      "execution_count": null,
      "outputs": [
        {
          "output_type": "stream",
          "name": "stdout",
          "text": [
            "spark-3.3.1-bin-hadoop3/\n",
            "spark-3.3.1-bin-hadoop3/LICENSE\n",
            "spark-3.3.1-bin-hadoop3/NOTICE\n",
            "spark-3.3.1-bin-hadoop3/R/\n",
            "spark-3.3.1-bin-hadoop3/R/lib/\n",
            "spark-3.3.1-bin-hadoop3/R/lib/SparkR/\n",
            "spark-3.3.1-bin-hadoop3/R/lib/SparkR/DESCRIPTION\n",
            "spark-3.3.1-bin-hadoop3/R/lib/SparkR/INDEX\n",
            "spark-3.3.1-bin-hadoop3/R/lib/SparkR/Meta/\n",
            "spark-3.3.1-bin-hadoop3/R/lib/SparkR/Meta/Rd.rds\n",
            "spark-3.3.1-bin-hadoop3/R/lib/SparkR/Meta/features.rds\n",
            "spark-3.3.1-bin-hadoop3/R/lib/SparkR/Meta/hsearch.rds\n",
            "spark-3.3.1-bin-hadoop3/R/lib/SparkR/Meta/links.rds\n",
            "spark-3.3.1-bin-hadoop3/R/lib/SparkR/Meta/nsInfo.rds\n",
            "spark-3.3.1-bin-hadoop3/R/lib/SparkR/Meta/package.rds\n",
            "spark-3.3.1-bin-hadoop3/R/lib/SparkR/Meta/vignette.rds\n",
            "spark-3.3.1-bin-hadoop3/R/lib/SparkR/NAMESPACE\n",
            "spark-3.3.1-bin-hadoop3/R/lib/SparkR/R/\n",
            "spark-3.3.1-bin-hadoop3/R/lib/SparkR/R/SparkR\n",
            "spark-3.3.1-bin-hadoop3/R/lib/SparkR/R/SparkR.rdb\n",
            "spark-3.3.1-bin-hadoop3/R/lib/SparkR/R/SparkR.rdx\n",
            "spark-3.3.1-bin-hadoop3/R/lib/SparkR/doc/\n",
            "spark-3.3.1-bin-hadoop3/R/lib/SparkR/doc/index.html\n",
            "spark-3.3.1-bin-hadoop3/R/lib/SparkR/doc/sparkr-vignettes.R\n",
            "spark-3.3.1-bin-hadoop3/R/lib/SparkR/doc/sparkr-vignettes.Rmd\n",
            "spark-3.3.1-bin-hadoop3/R/lib/SparkR/doc/sparkr-vignettes.html\n",
            "spark-3.3.1-bin-hadoop3/R/lib/SparkR/help/\n",
            "spark-3.3.1-bin-hadoop3/R/lib/SparkR/help/AnIndex\n",
            "spark-3.3.1-bin-hadoop3/R/lib/SparkR/help/SparkR.rdb\n",
            "spark-3.3.1-bin-hadoop3/R/lib/SparkR/help/SparkR.rdx\n",
            "spark-3.3.1-bin-hadoop3/R/lib/SparkR/help/aliases.rds\n",
            "spark-3.3.1-bin-hadoop3/R/lib/SparkR/help/paths.rds\n",
            "spark-3.3.1-bin-hadoop3/R/lib/SparkR/html/\n",
            "spark-3.3.1-bin-hadoop3/R/lib/SparkR/html/00Index.html\n",
            "spark-3.3.1-bin-hadoop3/R/lib/SparkR/html/R.css\n",
            "spark-3.3.1-bin-hadoop3/R/lib/SparkR/profile/\n",
            "spark-3.3.1-bin-hadoop3/R/lib/SparkR/profile/general.R\n",
            "spark-3.3.1-bin-hadoop3/R/lib/SparkR/profile/shell.R\n",
            "spark-3.3.1-bin-hadoop3/R/lib/SparkR/tests/\n",
            "spark-3.3.1-bin-hadoop3/R/lib/SparkR/tests/testthat/\n",
            "spark-3.3.1-bin-hadoop3/R/lib/SparkR/tests/testthat/test_basic.R\n",
            "spark-3.3.1-bin-hadoop3/R/lib/SparkR/worker/\n",
            "spark-3.3.1-bin-hadoop3/R/lib/SparkR/worker/daemon.R\n",
            "spark-3.3.1-bin-hadoop3/R/lib/SparkR/worker/worker.R\n",
            "spark-3.3.1-bin-hadoop3/R/lib/sparkr.zip\n",
            "spark-3.3.1-bin-hadoop3/README.md\n",
            "spark-3.3.1-bin-hadoop3/RELEASE\n",
            "spark-3.3.1-bin-hadoop3/bin/\n",
            "spark-3.3.1-bin-hadoop3/bin/beeline\n",
            "spark-3.3.1-bin-hadoop3/bin/beeline.cmd\n",
            "spark-3.3.1-bin-hadoop3/bin/docker-image-tool.sh\n",
            "spark-3.3.1-bin-hadoop3/bin/find-spark-home\n",
            "spark-3.3.1-bin-hadoop3/bin/find-spark-home.cmd\n",
            "spark-3.3.1-bin-hadoop3/bin/load-spark-env.cmd\n",
            "spark-3.3.1-bin-hadoop3/bin/load-spark-env.sh\n",
            "spark-3.3.1-bin-hadoop3/bin/pyspark\n",
            "spark-3.3.1-bin-hadoop3/bin/pyspark.cmd\n",
            "spark-3.3.1-bin-hadoop3/bin/pyspark2.cmd\n",
            "spark-3.3.1-bin-hadoop3/bin/run-example\n",
            "spark-3.3.1-bin-hadoop3/bin/run-example.cmd\n",
            "spark-3.3.1-bin-hadoop3/bin/spark-class\n",
            "spark-3.3.1-bin-hadoop3/bin/spark-class.cmd\n",
            "spark-3.3.1-bin-hadoop3/bin/spark-class2.cmd\n",
            "spark-3.3.1-bin-hadoop3/bin/spark-shell\n",
            "spark-3.3.1-bin-hadoop3/bin/spark-shell.cmd\n",
            "spark-3.3.1-bin-hadoop3/bin/spark-shell2.cmd\n",
            "spark-3.3.1-bin-hadoop3/bin/spark-sql\n",
            "spark-3.3.1-bin-hadoop3/bin/spark-sql.cmd\n",
            "spark-3.3.1-bin-hadoop3/bin/spark-sql2.cmd\n",
            "spark-3.3.1-bin-hadoop3/bin/spark-submit\n",
            "spark-3.3.1-bin-hadoop3/bin/spark-submit.cmd\n",
            "spark-3.3.1-bin-hadoop3/bin/spark-submit2.cmd\n",
            "spark-3.3.1-bin-hadoop3/bin/sparkR\n",
            "spark-3.3.1-bin-hadoop3/bin/sparkR.cmd\n",
            "spark-3.3.1-bin-hadoop3/bin/sparkR2.cmd\n",
            "spark-3.3.1-bin-hadoop3/conf/\n",
            "spark-3.3.1-bin-hadoop3/conf/fairscheduler.xml.template\n",
            "spark-3.3.1-bin-hadoop3/conf/log4j2.properties.template\n",
            "spark-3.3.1-bin-hadoop3/conf/metrics.properties.template\n",
            "spark-3.3.1-bin-hadoop3/conf/spark-defaults.conf.template\n",
            "spark-3.3.1-bin-hadoop3/conf/spark-env.sh.template\n",
            "spark-3.3.1-bin-hadoop3/conf/workers.template\n",
            "spark-3.3.1-bin-hadoop3/data/\n",
            "spark-3.3.1-bin-hadoop3/data/graphx/\n",
            "spark-3.3.1-bin-hadoop3/data/graphx/followers.txt\n",
            "spark-3.3.1-bin-hadoop3/data/graphx/users.txt\n",
            "spark-3.3.1-bin-hadoop3/data/mllib/\n",
            "spark-3.3.1-bin-hadoop3/data/mllib/als/\n",
            "spark-3.3.1-bin-hadoop3/data/mllib/als/sample_movielens_ratings.txt\n",
            "spark-3.3.1-bin-hadoop3/data/mllib/als/test.data\n",
            "spark-3.3.1-bin-hadoop3/data/mllib/gmm_data.txt\n",
            "spark-3.3.1-bin-hadoop3/data/mllib/images/\n",
            "spark-3.3.1-bin-hadoop3/data/mllib/images/license.txt\n",
            "spark-3.3.1-bin-hadoop3/data/mllib/images/origin/\n",
            "spark-3.3.1-bin-hadoop3/data/mllib/images/origin/kittens/\n",
            "spark-3.3.1-bin-hadoop3/data/mllib/images/origin/kittens/29.5.a_b_EGDP022204.jpg\n",
            "spark-3.3.1-bin-hadoop3/data/mllib/images/origin/kittens/54893.jpg\n",
            "spark-3.3.1-bin-hadoop3/data/mllib/images/origin/kittens/DP153539.jpg\n",
            "spark-3.3.1-bin-hadoop3/data/mllib/images/origin/kittens/DP802813.jpg\n",
            "spark-3.3.1-bin-hadoop3/data/mllib/images/origin/kittens/not-image.txt\n",
            "spark-3.3.1-bin-hadoop3/data/mllib/images/origin/license.txt\n",
            "spark-3.3.1-bin-hadoop3/data/mllib/images/origin/multi-channel/\n",
            "spark-3.3.1-bin-hadoop3/data/mllib/images/origin/multi-channel/BGRA.png\n",
            "spark-3.3.1-bin-hadoop3/data/mllib/images/origin/multi-channel/BGRA_alpha_60.png\n",
            "spark-3.3.1-bin-hadoop3/data/mllib/images/origin/multi-channel/chr30.4.184.jpg\n",
            "spark-3.3.1-bin-hadoop3/data/mllib/images/origin/multi-channel/grayscale.jpg\n",
            "spark-3.3.1-bin-hadoop3/data/mllib/kmeans_data.txt\n",
            "spark-3.3.1-bin-hadoop3/data/mllib/pagerank_data.txt\n",
            "spark-3.3.1-bin-hadoop3/data/mllib/pic_data.txt\n",
            "spark-3.3.1-bin-hadoop3/data/mllib/ridge-data/\n",
            "spark-3.3.1-bin-hadoop3/data/mllib/ridge-data/lpsa.data\n",
            "spark-3.3.1-bin-hadoop3/data/mllib/sample_binary_classification_data.txt\n",
            "spark-3.3.1-bin-hadoop3/data/mllib/sample_fpgrowth.txt\n",
            "spark-3.3.1-bin-hadoop3/data/mllib/sample_isotonic_regression_libsvm_data.txt\n",
            "spark-3.3.1-bin-hadoop3/data/mllib/sample_kmeans_data.txt\n",
            "spark-3.3.1-bin-hadoop3/data/mllib/sample_lda_data.txt\n",
            "spark-3.3.1-bin-hadoop3/data/mllib/sample_lda_libsvm_data.txt\n",
            "spark-3.3.1-bin-hadoop3/data/mllib/sample_libsvm_data.txt\n",
            "spark-3.3.1-bin-hadoop3/data/mllib/sample_linear_regression_data.txt\n",
            "spark-3.3.1-bin-hadoop3/data/mllib/sample_movielens_data.txt\n",
            "spark-3.3.1-bin-hadoop3/data/mllib/sample_multiclass_classification_data.txt\n",
            "spark-3.3.1-bin-hadoop3/data/mllib/sample_svm_data.txt\n",
            "spark-3.3.1-bin-hadoop3/data/mllib/streaming_kmeans_data_test.txt\n",
            "spark-3.3.1-bin-hadoop3/data/streaming/\n",
            "spark-3.3.1-bin-hadoop3/data/streaming/AFINN-111.txt\n",
            "spark-3.3.1-bin-hadoop3/examples/\n",
            "spark-3.3.1-bin-hadoop3/examples/jars/\n",
            "spark-3.3.1-bin-hadoop3/examples/jars/scopt_2.12-3.7.1.jar\n",
            "spark-3.3.1-bin-hadoop3/examples/jars/spark-examples_2.12-3.3.1.jar\n",
            "spark-3.3.1-bin-hadoop3/examples/src/\n",
            "spark-3.3.1-bin-hadoop3/examples/src/main/\n",
            "spark-3.3.1-bin-hadoop3/examples/src/main/java/\n",
            "spark-3.3.1-bin-hadoop3/examples/src/main/java/org/\n",
            "spark-3.3.1-bin-hadoop3/examples/src/main/java/org/apache/\n",
            "spark-3.3.1-bin-hadoop3/examples/src/main/java/org/apache/spark/\n",
            "spark-3.3.1-bin-hadoop3/examples/src/main/java/org/apache/spark/examples/\n",
            "spark-3.3.1-bin-hadoop3/examples/src/main/java/org/apache/spark/examples/JavaHdfsLR.java\n",
            "spark-3.3.1-bin-hadoop3/examples/src/main/java/org/apache/spark/examples/JavaLogQuery.java\n",
            "spark-3.3.1-bin-hadoop3/examples/src/main/java/org/apache/spark/examples/JavaPageRank.java\n",
            "spark-3.3.1-bin-hadoop3/examples/src/main/java/org/apache/spark/examples/JavaSparkPi.java\n",
            "spark-3.3.1-bin-hadoop3/examples/src/main/java/org/apache/spark/examples/JavaStatusTrackerDemo.java\n",
            "spark-3.3.1-bin-hadoop3/examples/src/main/java/org/apache/spark/examples/JavaTC.java\n",
            "spark-3.3.1-bin-hadoop3/examples/src/main/java/org/apache/spark/examples/JavaWordCount.java\n",
            "spark-3.3.1-bin-hadoop3/examples/src/main/java/org/apache/spark/examples/ml/\n",
            "spark-3.3.1-bin-hadoop3/examples/src/main/java/org/apache/spark/examples/ml/JavaAFTSurvivalRegressionExample.java\n",
            "spark-3.3.1-bin-hadoop3/examples/src/main/java/org/apache/spark/examples/ml/JavaALSExample.java\n",
            "spark-3.3.1-bin-hadoop3/examples/src/main/java/org/apache/spark/examples/ml/JavaBinarizerExample.java\n",
            "spark-3.3.1-bin-hadoop3/examples/src/main/java/org/apache/spark/examples/ml/JavaBisectingKMeansExample.java\n",
            "spark-3.3.1-bin-hadoop3/examples/src/main/java/org/apache/spark/examples/ml/JavaBucketedRandomProjectionLSHExample.java\n",
            "spark-3.3.1-bin-hadoop3/examples/src/main/java/org/apache/spark/examples/ml/JavaBucketizerExample.java\n",
            "spark-3.3.1-bin-hadoop3/examples/src/main/java/org/apache/spark/examples/ml/JavaChiSqSelectorExample.java\n",
            "spark-3.3.1-bin-hadoop3/examples/src/main/java/org/apache/spark/examples/ml/JavaChiSquareTestExample.java\n",
            "spark-3.3.1-bin-hadoop3/examples/src/main/java/org/apache/spark/examples/ml/JavaCorrelationExample.java\n",
            "spark-3.3.1-bin-hadoop3/examples/src/main/java/org/apache/spark/examples/ml/JavaCountVectorizerExample.java\n",
            "spark-3.3.1-bin-hadoop3/examples/src/main/java/org/apache/spark/examples/ml/JavaDCTExample.java\n",
            "spark-3.3.1-bin-hadoop3/examples/src/main/java/org/apache/spark/examples/ml/JavaDecisionTreeClassificationExample.java\n",
            "spark-3.3.1-bin-hadoop3/examples/src/main/java/org/apache/spark/examples/ml/JavaDecisionTreeRegressionExample.java\n",
            "spark-3.3.1-bin-hadoop3/examples/src/main/java/org/apache/spark/examples/ml/JavaDocument.java\n",
            "spark-3.3.1-bin-hadoop3/examples/src/main/java/org/apache/spark/examples/ml/JavaElementwiseProductExample.java\n",
            "spark-3.3.1-bin-hadoop3/examples/src/main/java/org/apache/spark/examples/ml/JavaEstimatorTransformerParamExample.java\n",
            "spark-3.3.1-bin-hadoop3/examples/src/main/java/org/apache/spark/examples/ml/JavaFMClassifierExample.java\n",
            "spark-3.3.1-bin-hadoop3/examples/src/main/java/org/apache/spark/examples/ml/JavaFMRegressorExample.java\n",
            "spark-3.3.1-bin-hadoop3/examples/src/main/java/org/apache/spark/examples/ml/JavaFPGrowthExample.java\n",
            "spark-3.3.1-bin-hadoop3/examples/src/main/java/org/apache/spark/examples/ml/JavaFeatureHasherExample.java\n",
            "spark-3.3.1-bin-hadoop3/examples/src/main/java/org/apache/spark/examples/ml/JavaGaussianMixtureExample.java\n",
            "spark-3.3.1-bin-hadoop3/examples/src/main/java/org/apache/spark/examples/ml/JavaGeneralizedLinearRegressionExample.java\n",
            "spark-3.3.1-bin-hadoop3/examples/src/main/java/org/apache/spark/examples/ml/JavaGradientBoostedTreeClassifierExample.java\n",
            "spark-3.3.1-bin-hadoop3/examples/src/main/java/org/apache/spark/examples/ml/JavaGradientBoostedTreeRegressorExample.java\n",
            "spark-3.3.1-bin-hadoop3/examples/src/main/java/org/apache/spark/examples/ml/JavaImputerExample.java\n",
            "spark-3.3.1-bin-hadoop3/examples/src/main/java/org/apache/spark/examples/ml/JavaIndexToStringExample.java\n",
            "spark-3.3.1-bin-hadoop3/examples/src/main/java/org/apache/spark/examples/ml/JavaInteractionExample.java\n",
            "spark-3.3.1-bin-hadoop3/examples/src/main/java/org/apache/spark/examples/ml/JavaIsotonicRegressionExample.java\n",
            "spark-3.3.1-bin-hadoop3/examples/src/main/java/org/apache/spark/examples/ml/JavaKMeansExample.java\n",
            "spark-3.3.1-bin-hadoop3/examples/src/main/java/org/apache/spark/examples/ml/JavaLDAExample.java\n",
            "spark-3.3.1-bin-hadoop3/examples/src/main/java/org/apache/spark/examples/ml/JavaLabeledDocument.java\n",
            "spark-3.3.1-bin-hadoop3/examples/src/main/java/org/apache/spark/examples/ml/JavaLinearRegressionWithElasticNetExample.java\n",
            "spark-3.3.1-bin-hadoop3/examples/src/main/java/org/apache/spark/examples/ml/JavaLinearSVCExample.java\n",
            "spark-3.3.1-bin-hadoop3/examples/src/main/java/org/apache/spark/examples/ml/JavaLogisticRegressionSummaryExample.java\n",
            "spark-3.3.1-bin-hadoop3/examples/src/main/java/org/apache/spark/examples/ml/JavaLogisticRegressionWithElasticNetExample.java\n",
            "spark-3.3.1-bin-hadoop3/examples/src/main/java/org/apache/spark/examples/ml/JavaMaxAbsScalerExample.java\n",
            "spark-3.3.1-bin-hadoop3/examples/src/main/java/org/apache/spark/examples/ml/JavaMinHashLSHExample.java\n",
            "spark-3.3.1-bin-hadoop3/examples/src/main/java/org/apache/spark/examples/ml/JavaMinMaxScalerExample.java\n",
            "spark-3.3.1-bin-hadoop3/examples/src/main/java/org/apache/spark/examples/ml/JavaModelSelectionViaCrossValidationExample.java\n",
            "spark-3.3.1-bin-hadoop3/examples/src/main/java/org/apache/spark/examples/ml/JavaModelSelectionViaTrainValidationSplitExample.java\n",
            "spark-3.3.1-bin-hadoop3/examples/src/main/java/org/apache/spark/examples/ml/JavaMulticlassLogisticRegressionWithElasticNetExample.java\n",
            "spark-3.3.1-bin-hadoop3/examples/src/main/java/org/apache/spark/examples/ml/JavaMultilayerPerceptronClassifierExample.java\n",
            "spark-3.3.1-bin-hadoop3/examples/src/main/java/org/apache/spark/examples/ml/JavaNGramExample.java\n",
            "spark-3.3.1-bin-hadoop3/examples/src/main/java/org/apache/spark/examples/ml/JavaNaiveBayesExample.java\n",
            "spark-3.3.1-bin-hadoop3/examples/src/main/java/org/apache/spark/examples/ml/JavaNormalizerExample.java\n",
            "spark-3.3.1-bin-hadoop3/examples/src/main/java/org/apache/spark/examples/ml/JavaOneHotEncoderExample.java\n",
            "spark-3.3.1-bin-hadoop3/examples/src/main/java/org/apache/spark/examples/ml/JavaOneVsRestExample.java\n",
            "spark-3.3.1-bin-hadoop3/examples/src/main/java/org/apache/spark/examples/ml/JavaPCAExample.java\n",
            "spark-3.3.1-bin-hadoop3/examples/src/main/java/org/apache/spark/examples/ml/JavaPipelineExample.java\n",
            "spark-3.3.1-bin-hadoop3/examples/src/main/java/org/apache/spark/examples/ml/JavaPolynomialExpansionExample.java\n",
            "spark-3.3.1-bin-hadoop3/examples/src/main/java/org/apache/spark/examples/ml/JavaPowerIterationClusteringExample.java\n",
            "spark-3.3.1-bin-hadoop3/examples/src/main/java/org/apache/spark/examples/ml/JavaPrefixSpanExample.java\n",
            "spark-3.3.1-bin-hadoop3/examples/src/main/java/org/apache/spark/examples/ml/JavaQuantileDiscretizerExample.java\n",
            "spark-3.3.1-bin-hadoop3/examples/src/main/java/org/apache/spark/examples/ml/JavaRFormulaExample.java\n",
            "spark-3.3.1-bin-hadoop3/examples/src/main/java/org/apache/spark/examples/ml/JavaRandomForestClassifierExample.java\n",
            "spark-3.3.1-bin-hadoop3/examples/src/main/java/org/apache/spark/examples/ml/JavaRandomForestRegressorExample.java\n",
            "spark-3.3.1-bin-hadoop3/examples/src/main/java/org/apache/spark/examples/ml/JavaRobustScalerExample.java\n",
            "spark-3.3.1-bin-hadoop3/examples/src/main/java/org/apache/spark/examples/ml/JavaSQLTransformerExample.java\n",
            "spark-3.3.1-bin-hadoop3/examples/src/main/java/org/apache/spark/examples/ml/JavaStandardScalerExample.java\n",
            "spark-3.3.1-bin-hadoop3/examples/src/main/java/org/apache/spark/examples/ml/JavaStopWordsRemoverExample.java\n",
            "spark-3.3.1-bin-hadoop3/examples/src/main/java/org/apache/spark/examples/ml/JavaStringIndexerExample.java\n",
            "spark-3.3.1-bin-hadoop3/examples/src/main/java/org/apache/spark/examples/ml/JavaSummarizerExample.java\n",
            "spark-3.3.1-bin-hadoop3/examples/src/main/java/org/apache/spark/examples/ml/JavaTfIdfExample.java\n",
            "spark-3.3.1-bin-hadoop3/examples/src/main/java/org/apache/spark/examples/ml/JavaTokenizerExample.java\n",
            "spark-3.3.1-bin-hadoop3/examples/src/main/java/org/apache/spark/examples/ml/JavaUnivariateFeatureSelectorExample.java\n",
            "spark-3.3.1-bin-hadoop3/examples/src/main/java/org/apache/spark/examples/ml/JavaVarianceThresholdSelectorExample.java\n",
            "spark-3.3.1-bin-hadoop3/examples/src/main/java/org/apache/spark/examples/ml/JavaVectorAssemblerExample.java\n",
            "spark-3.3.1-bin-hadoop3/examples/src/main/java/org/apache/spark/examples/ml/JavaVectorIndexerExample.java\n",
            "spark-3.3.1-bin-hadoop3/examples/src/main/java/org/apache/spark/examples/ml/JavaVectorSizeHintExample.java\n",
            "spark-3.3.1-bin-hadoop3/examples/src/main/java/org/apache/spark/examples/ml/JavaVectorSlicerExample.java\n",
            "spark-3.3.1-bin-hadoop3/examples/src/main/java/org/apache/spark/examples/ml/JavaWord2VecExample.java\n",
            "spark-3.3.1-bin-hadoop3/examples/src/main/java/org/apache/spark/examples/mllib/\n",
            "spark-3.3.1-bin-hadoop3/examples/src/main/java/org/apache/spark/examples/mllib/JavaALS.java\n",
            "spark-3.3.1-bin-hadoop3/examples/src/main/java/org/apache/spark/examples/mllib/JavaAssociationRulesExample.java\n",
            "spark-3.3.1-bin-hadoop3/examples/src/main/java/org/apache/spark/examples/mllib/JavaBinaryClassificationMetricsExample.java\n",
            "spark-3.3.1-bin-hadoop3/examples/src/main/java/org/apache/spark/examples/mllib/JavaBisectingKMeansExample.java\n",
            "spark-3.3.1-bin-hadoop3/examples/src/main/java/org/apache/spark/examples/mllib/JavaChiSqSelectorExample.java\n",
            "spark-3.3.1-bin-hadoop3/examples/src/main/java/org/apache/spark/examples/mllib/JavaCorrelationsExample.java\n",
            "spark-3.3.1-bin-hadoop3/examples/src/main/java/org/apache/spark/examples/mllib/JavaDecisionTreeClassificationExample.java\n",
            "spark-3.3.1-bin-hadoop3/examples/src/main/java/org/apache/spark/examples/mllib/JavaDecisionTreeRegressionExample.java\n",
            "spark-3.3.1-bin-hadoop3/examples/src/main/java/org/apache/spark/examples/mllib/JavaElementwiseProductExample.java\n",
            "spark-3.3.1-bin-hadoop3/examples/src/main/java/org/apache/spark/examples/mllib/JavaGaussianMixtureExample.java\n",
            "spark-3.3.1-bin-hadoop3/examples/src/main/java/org/apache/spark/examples/mllib/JavaGradientBoostingClassificationExample.java\n",
            "spark-3.3.1-bin-hadoop3/examples/src/main/java/org/apache/spark/examples/mllib/JavaGradientBoostingRegressionExample.java\n",
            "spark-3.3.1-bin-hadoop3/examples/src/main/java/org/apache/spark/examples/mllib/JavaHypothesisTestingExample.java\n",
            "spark-3.3.1-bin-hadoop3/examples/src/main/java/org/apache/spark/examples/mllib/JavaHypothesisTestingKolmogorovSmirnovTestExample.java\n",
            "spark-3.3.1-bin-hadoop3/examples/src/main/java/org/apache/spark/examples/mllib/JavaIsotonicRegressionExample.java\n",
            "spark-3.3.1-bin-hadoop3/examples/src/main/java/org/apache/spark/examples/mllib/JavaKMeansExample.java\n",
            "spark-3.3.1-bin-hadoop3/examples/src/main/java/org/apache/spark/examples/mllib/JavaKernelDensityEstimationExample.java\n",
            "spark-3.3.1-bin-hadoop3/examples/src/main/java/org/apache/spark/examples/mllib/JavaLBFGSExample.java\n",
            "spark-3.3.1-bin-hadoop3/examples/src/main/java/org/apache/spark/examples/mllib/JavaLatentDirichletAllocationExample.java\n",
            "spark-3.3.1-bin-hadoop3/examples/src/main/java/org/apache/spark/examples/mllib/JavaLogisticRegressionWithLBFGSExample.java\n",
            "spark-3.3.1-bin-hadoop3/examples/src/main/java/org/apache/spark/examples/mllib/JavaMultiLabelClassificationMetricsExample.java\n",
            "spark-3.3.1-bin-hadoop3/examples/src/main/java/org/apache/spark/examples/mllib/JavaMulticlassClassificationMetricsExample.java\n",
            "spark-3.3.1-bin-hadoop3/examples/src/main/java/org/apache/spark/examples/mllib/JavaNaiveBayesExample.java\n",
            "spark-3.3.1-bin-hadoop3/examples/src/main/java/org/apache/spark/examples/mllib/JavaPCAExample.java\n",
            "spark-3.3.1-bin-hadoop3/examples/src/main/java/org/apache/spark/examples/mllib/JavaPowerIterationClusteringExample.java\n",
            "spark-3.3.1-bin-hadoop3/examples/src/main/java/org/apache/spark/examples/mllib/JavaPrefixSpanExample.java\n",
            "spark-3.3.1-bin-hadoop3/examples/src/main/java/org/apache/spark/examples/mllib/JavaRandomForestClassificationExample.java\n",
            "spark-3.3.1-bin-hadoop3/examples/src/main/java/org/apache/spark/examples/mllib/JavaRandomForestRegressionExample.java\n",
            "spark-3.3.1-bin-hadoop3/examples/src/main/java/org/apache/spark/examples/mllib/JavaRankingMetricsExample.java\n",
            "spark-3.3.1-bin-hadoop3/examples/src/main/java/org/apache/spark/examples/mllib/JavaRecommendationExample.java\n",
            "spark-3.3.1-bin-hadoop3/examples/src/main/java/org/apache/spark/examples/mllib/JavaSVDExample.java\n",
            "spark-3.3.1-bin-hadoop3/examples/src/main/java/org/apache/spark/examples/mllib/JavaSVMWithSGDExample.java\n",
            "spark-3.3.1-bin-hadoop3/examples/src/main/java/org/apache/spark/examples/mllib/JavaSimpleFPGrowth.java\n",
            "spark-3.3.1-bin-hadoop3/examples/src/main/java/org/apache/spark/examples/mllib/JavaStratifiedSamplingExample.java\n",
            "spark-3.3.1-bin-hadoop3/examples/src/main/java/org/apache/spark/examples/mllib/JavaStreamingTestExample.java\n",
            "spark-3.3.1-bin-hadoop3/examples/src/main/java/org/apache/spark/examples/mllib/JavaSummaryStatisticsExample.java\n",
            "spark-3.3.1-bin-hadoop3/examples/src/main/java/org/apache/spark/examples/sql/\n",
            "spark-3.3.1-bin-hadoop3/examples/src/main/java/org/apache/spark/examples/sql/JavaSQLDataSourceExample.java\n",
            "spark-3.3.1-bin-hadoop3/examples/src/main/java/org/apache/spark/examples/sql/JavaSparkSQLExample.java\n",
            "spark-3.3.1-bin-hadoop3/examples/src/main/java/org/apache/spark/examples/sql/JavaUserDefinedScalar.java\n",
            "spark-3.3.1-bin-hadoop3/examples/src/main/java/org/apache/spark/examples/sql/JavaUserDefinedTypedAggregation.java\n",
            "spark-3.3.1-bin-hadoop3/examples/src/main/java/org/apache/spark/examples/sql/JavaUserDefinedUntypedAggregation.java\n",
            "spark-3.3.1-bin-hadoop3/examples/src/main/java/org/apache/spark/examples/sql/hive/\n",
            "spark-3.3.1-bin-hadoop3/examples/src/main/java/org/apache/spark/examples/sql/hive/JavaSparkHiveExample.java\n",
            "spark-3.3.1-bin-hadoop3/examples/src/main/java/org/apache/spark/examples/sql/streaming/\n",
            "spark-3.3.1-bin-hadoop3/examples/src/main/java/org/apache/spark/examples/sql/streaming/JavaStructuredComplexSessionization.java\n",
            "spark-3.3.1-bin-hadoop3/examples/src/main/java/org/apache/spark/examples/sql/streaming/JavaStructuredKafkaWordCount.java\n",
            "spark-3.3.1-bin-hadoop3/examples/src/main/java/org/apache/spark/examples/sql/streaming/JavaStructuredKerberizedKafkaWordCount.java\n",
            "spark-3.3.1-bin-hadoop3/examples/src/main/java/org/apache/spark/examples/sql/streaming/JavaStructuredNetworkWordCount.java\n",
            "spark-3.3.1-bin-hadoop3/examples/src/main/java/org/apache/spark/examples/sql/streaming/JavaStructuredNetworkWordCountWindowed.java\n",
            "spark-3.3.1-bin-hadoop3/examples/src/main/java/org/apache/spark/examples/sql/streaming/JavaStructuredSessionization.java\n",
            "spark-3.3.1-bin-hadoop3/examples/src/main/java/org/apache/spark/examples/streaming/\n",
            "spark-3.3.1-bin-hadoop3/examples/src/main/java/org/apache/spark/examples/streaming/JavaCustomReceiver.java\n",
            "spark-3.3.1-bin-hadoop3/examples/src/main/java/org/apache/spark/examples/streaming/JavaDirectKafkaWordCount.java\n",
            "spark-3.3.1-bin-hadoop3/examples/src/main/java/org/apache/spark/examples/streaming/JavaDirectKerberizedKafkaWordCount.java\n",
            "spark-3.3.1-bin-hadoop3/examples/src/main/java/org/apache/spark/examples/streaming/JavaNetworkWordCount.java\n",
            "spark-3.3.1-bin-hadoop3/examples/src/main/java/org/apache/spark/examples/streaming/JavaQueueStream.java\n",
            "spark-3.3.1-bin-hadoop3/examples/src/main/java/org/apache/spark/examples/streaming/JavaRecord.java\n",
            "spark-3.3.1-bin-hadoop3/examples/src/main/java/org/apache/spark/examples/streaming/JavaRecoverableNetworkWordCount.java\n",
            "spark-3.3.1-bin-hadoop3/examples/src/main/java/org/apache/spark/examples/streaming/JavaSqlNetworkWordCount.java\n",
            "spark-3.3.1-bin-hadoop3/examples/src/main/java/org/apache/spark/examples/streaming/JavaStatefulNetworkWordCount.java\n",
            "spark-3.3.1-bin-hadoop3/examples/src/main/python/\n",
            "spark-3.3.1-bin-hadoop3/examples/src/main/python/__init__.py\n",
            "spark-3.3.1-bin-hadoop3/examples/src/main/python/als.py\n",
            "spark-3.3.1-bin-hadoop3/examples/src/main/python/avro_inputformat.py\n",
            "spark-3.3.1-bin-hadoop3/examples/src/main/python/kmeans.py\n",
            "spark-3.3.1-bin-hadoop3/examples/src/main/python/logistic_regression.py\n",
            "spark-3.3.1-bin-hadoop3/examples/src/main/python/ml/\n",
            "spark-3.3.1-bin-hadoop3/examples/src/main/python/ml/__init__,py\n",
            "spark-3.3.1-bin-hadoop3/examples/src/main/python/ml/aft_survival_regression.py\n",
            "spark-3.3.1-bin-hadoop3/examples/src/main/python/ml/als_example.py\n",
            "spark-3.3.1-bin-hadoop3/examples/src/main/python/ml/binarizer_example.py\n",
            "spark-3.3.1-bin-hadoop3/examples/src/main/python/ml/bisecting_k_means_example.py\n",
            "spark-3.3.1-bin-hadoop3/examples/src/main/python/ml/bucketed_random_projection_lsh_example.py\n",
            "spark-3.3.1-bin-hadoop3/examples/src/main/python/ml/bucketizer_example.py\n",
            "spark-3.3.1-bin-hadoop3/examples/src/main/python/ml/chi_square_test_example.py\n",
            "spark-3.3.1-bin-hadoop3/examples/src/main/python/ml/chisq_selector_example.py\n",
            "spark-3.3.1-bin-hadoop3/examples/src/main/python/ml/correlation_example.py\n",
            "spark-3.3.1-bin-hadoop3/examples/src/main/python/ml/count_vectorizer_example.py\n",
            "spark-3.3.1-bin-hadoop3/examples/src/main/python/ml/cross_validator.py\n",
            "spark-3.3.1-bin-hadoop3/examples/src/main/python/ml/dataframe_example.py\n",
            "spark-3.3.1-bin-hadoop3/examples/src/main/python/ml/dct_example.py\n",
            "spark-3.3.1-bin-hadoop3/examples/src/main/python/ml/decision_tree_classification_example.py\n",
            "spark-3.3.1-bin-hadoop3/examples/src/main/python/ml/decision_tree_regression_example.py\n",
            "spark-3.3.1-bin-hadoop3/examples/src/main/python/ml/elementwise_product_example.py\n",
            "spark-3.3.1-bin-hadoop3/examples/src/main/python/ml/estimator_transformer_param_example.py\n",
            "spark-3.3.1-bin-hadoop3/examples/src/main/python/ml/feature_hasher_example.py\n",
            "spark-3.3.1-bin-hadoop3/examples/src/main/python/ml/fm_classifier_example.py\n",
            "spark-3.3.1-bin-hadoop3/examples/src/main/python/ml/fm_regressor_example.py\n",
            "spark-3.3.1-bin-hadoop3/examples/src/main/python/ml/fpgrowth_example.py\n",
            "spark-3.3.1-bin-hadoop3/examples/src/main/python/ml/gaussian_mixture_example.py\n",
            "spark-3.3.1-bin-hadoop3/examples/src/main/python/ml/generalized_linear_regression_example.py\n",
            "spark-3.3.1-bin-hadoop3/examples/src/main/python/ml/gradient_boosted_tree_classifier_example.py\n",
            "spark-3.3.1-bin-hadoop3/examples/src/main/python/ml/gradient_boosted_tree_regressor_example.py\n",
            "spark-3.3.1-bin-hadoop3/examples/src/main/python/ml/imputer_example.py\n",
            "spark-3.3.1-bin-hadoop3/examples/src/main/python/ml/index_to_string_example.py\n",
            "spark-3.3.1-bin-hadoop3/examples/src/main/python/ml/interaction_example.py\n",
            "spark-3.3.1-bin-hadoop3/examples/src/main/python/ml/isotonic_regression_example.py\n",
            "spark-3.3.1-bin-hadoop3/examples/src/main/python/ml/kmeans_example.py\n",
            "spark-3.3.1-bin-hadoop3/examples/src/main/python/ml/lda_example.py\n",
            "spark-3.3.1-bin-hadoop3/examples/src/main/python/ml/linear_regression_with_elastic_net.py\n",
            "spark-3.3.1-bin-hadoop3/examples/src/main/python/ml/linearsvc.py\n",
            "spark-3.3.1-bin-hadoop3/examples/src/main/python/ml/logistic_regression_summary_example.py\n",
            "spark-3.3.1-bin-hadoop3/examples/src/main/python/ml/logistic_regression_with_elastic_net.py\n",
            "spark-3.3.1-bin-hadoop3/examples/src/main/python/ml/max_abs_scaler_example.py\n",
            "spark-3.3.1-bin-hadoop3/examples/src/main/python/ml/min_hash_lsh_example.py\n",
            "spark-3.3.1-bin-hadoop3/examples/src/main/python/ml/min_max_scaler_example.py\n",
            "spark-3.3.1-bin-hadoop3/examples/src/main/python/ml/multiclass_logistic_regression_with_elastic_net.py\n",
            "spark-3.3.1-bin-hadoop3/examples/src/main/python/ml/multilayer_perceptron_classification.py\n",
            "spark-3.3.1-bin-hadoop3/examples/src/main/python/ml/n_gram_example.py\n",
            "spark-3.3.1-bin-hadoop3/examples/src/main/python/ml/naive_bayes_example.py\n",
            "spark-3.3.1-bin-hadoop3/examples/src/main/python/ml/normalizer_example.py\n",
            "spark-3.3.1-bin-hadoop3/examples/src/main/python/ml/one_vs_rest_example.py\n",
            "spark-3.3.1-bin-hadoop3/examples/src/main/python/ml/onehot_encoder_example.py\n",
            "spark-3.3.1-bin-hadoop3/examples/src/main/python/ml/pca_example.py\n",
            "spark-3.3.1-bin-hadoop3/examples/src/main/python/ml/pipeline_example.py\n",
            "spark-3.3.1-bin-hadoop3/examples/src/main/python/ml/polynomial_expansion_example.py\n",
            "spark-3.3.1-bin-hadoop3/examples/src/main/python/ml/power_iteration_clustering_example.py\n",
            "spark-3.3.1-bin-hadoop3/examples/src/main/python/ml/prefixspan_example.py\n",
            "spark-3.3.1-bin-hadoop3/examples/src/main/python/ml/quantile_discretizer_example.py\n",
            "spark-3.3.1-bin-hadoop3/examples/src/main/python/ml/random_forest_classifier_example.py\n",
            "spark-3.3.1-bin-hadoop3/examples/src/main/python/ml/random_forest_regressor_example.py\n",
            "spark-3.3.1-bin-hadoop3/examples/src/main/python/ml/rformula_example.py\n",
            "spark-3.3.1-bin-hadoop3/examples/src/main/python/ml/robust_scaler_example.py\n",
            "spark-3.3.1-bin-hadoop3/examples/src/main/python/ml/sql_transformer.py\n",
            "spark-3.3.1-bin-hadoop3/examples/src/main/python/ml/standard_scaler_example.py\n",
            "spark-3.3.1-bin-hadoop3/examples/src/main/python/ml/stopwords_remover_example.py\n",
            "spark-3.3.1-bin-hadoop3/examples/src/main/python/ml/string_indexer_example.py\n",
            "spark-3.3.1-bin-hadoop3/examples/src/main/python/ml/summarizer_example.py\n",
            "spark-3.3.1-bin-hadoop3/examples/src/main/python/ml/tf_idf_example.py\n",
            "spark-3.3.1-bin-hadoop3/examples/src/main/python/ml/tokenizer_example.py\n",
            "spark-3.3.1-bin-hadoop3/examples/src/main/python/ml/train_validation_split.py\n",
            "spark-3.3.1-bin-hadoop3/examples/src/main/python/ml/univariate_feature_selector_example.py\n",
            "spark-3.3.1-bin-hadoop3/examples/src/main/python/ml/variance_threshold_selector_example.py\n",
            "spark-3.3.1-bin-hadoop3/examples/src/main/python/ml/vector_assembler_example.py\n",
            "spark-3.3.1-bin-hadoop3/examples/src/main/python/ml/vector_indexer_example.py\n",
            "spark-3.3.1-bin-hadoop3/examples/src/main/python/ml/vector_size_hint_example.py\n",
            "spark-3.3.1-bin-hadoop3/examples/src/main/python/ml/vector_slicer_example.py\n",
            "spark-3.3.1-bin-hadoop3/examples/src/main/python/ml/word2vec_example.py\n",
            "spark-3.3.1-bin-hadoop3/examples/src/main/python/mllib/\n",
            "spark-3.3.1-bin-hadoop3/examples/src/main/python/mllib/__init__.py\n",
            "spark-3.3.1-bin-hadoop3/examples/src/main/python/mllib/binary_classification_metrics_example.py\n",
            "spark-3.3.1-bin-hadoop3/examples/src/main/python/mllib/bisecting_k_means_example.py\n",
            "spark-3.3.1-bin-hadoop3/examples/src/main/python/mllib/correlations.py\n",
            "spark-3.3.1-bin-hadoop3/examples/src/main/python/mllib/correlations_example.py\n",
            "spark-3.3.1-bin-hadoop3/examples/src/main/python/mllib/decision_tree_classification_example.py\n",
            "spark-3.3.1-bin-hadoop3/examples/src/main/python/mllib/decision_tree_regression_example.py\n",
            "spark-3.3.1-bin-hadoop3/examples/src/main/python/mllib/elementwise_product_example.py\n",
            "spark-3.3.1-bin-hadoop3/examples/src/main/python/mllib/fpgrowth_example.py\n",
            "spark-3.3.1-bin-hadoop3/examples/src/main/python/mllib/gaussian_mixture_example.py\n",
            "spark-3.3.1-bin-hadoop3/examples/src/main/python/mllib/gaussian_mixture_model.py\n",
            "spark-3.3.1-bin-hadoop3/examples/src/main/python/mllib/gradient_boosting_classification_example.py\n",
            "spark-3.3.1-bin-hadoop3/examples/src/main/python/mllib/gradient_boosting_regression_example.py\n",
            "spark-3.3.1-bin-hadoop3/examples/src/main/python/mllib/hypothesis_testing_example.py\n",
            "spark-3.3.1-bin-hadoop3/examples/src/main/python/mllib/hypothesis_testing_kolmogorov_smirnov_test_example.py\n",
            "spark-3.3.1-bin-hadoop3/examples/src/main/python/mllib/isotonic_regression_example.py\n",
            "spark-3.3.1-bin-hadoop3/examples/src/main/python/mllib/k_means_example.py\n",
            "spark-3.3.1-bin-hadoop3/examples/src/main/python/mllib/kernel_density_estimation_example.py\n",
            "spark-3.3.1-bin-hadoop3/examples/src/main/python/mllib/kmeans.py\n",
            "spark-3.3.1-bin-hadoop3/examples/src/main/python/mllib/latent_dirichlet_allocation_example.py\n",
            "spark-3.3.1-bin-hadoop3/examples/src/main/python/mllib/linear_regression_with_sgd_example.py\n",
            "spark-3.3.1-bin-hadoop3/examples/src/main/python/mllib/logistic_regression.py\n",
            "spark-3.3.1-bin-hadoop3/examples/src/main/python/mllib/logistic_regression_with_lbfgs_example.py\n",
            "spark-3.3.1-bin-hadoop3/examples/src/main/python/mllib/multi_class_metrics_example.py\n",
            "spark-3.3.1-bin-hadoop3/examples/src/main/python/mllib/multi_label_metrics_example.py\n",
            "spark-3.3.1-bin-hadoop3/examples/src/main/python/mllib/naive_bayes_example.py\n",
            "spark-3.3.1-bin-hadoop3/examples/src/main/python/mllib/normalizer_example.py\n",
            "spark-3.3.1-bin-hadoop3/examples/src/main/python/mllib/pca_rowmatrix_example.py\n",
            "spark-3.3.1-bin-hadoop3/examples/src/main/python/mllib/power_iteration_clustering_example.py\n",
            "spark-3.3.1-bin-hadoop3/examples/src/main/python/mllib/random_forest_classification_example.py\n",
            "spark-3.3.1-bin-hadoop3/examples/src/main/python/mllib/random_forest_regression_example.py\n",
            "spark-3.3.1-bin-hadoop3/examples/src/main/python/mllib/random_rdd_generation.py\n",
            "spark-3.3.1-bin-hadoop3/examples/src/main/python/mllib/ranking_metrics_example.py\n",
            "spark-3.3.1-bin-hadoop3/examples/src/main/python/mllib/recommendation_example.py\n",
            "spark-3.3.1-bin-hadoop3/examples/src/main/python/mllib/regression_metrics_example.py\n",
            "spark-3.3.1-bin-hadoop3/examples/src/main/python/mllib/sampled_rdds.py\n",
            "spark-3.3.1-bin-hadoop3/examples/src/main/python/mllib/standard_scaler_example.py\n",
            "spark-3.3.1-bin-hadoop3/examples/src/main/python/mllib/stratified_sampling_example.py\n",
            "spark-3.3.1-bin-hadoop3/examples/src/main/python/mllib/streaming_k_means_example.py\n",
            "spark-3.3.1-bin-hadoop3/examples/src/main/python/mllib/streaming_linear_regression_example.py\n",
            "spark-3.3.1-bin-hadoop3/examples/src/main/python/mllib/summary_statistics_example.py\n",
            "spark-3.3.1-bin-hadoop3/examples/src/main/python/mllib/svd_example.py\n",
            "spark-3.3.1-bin-hadoop3/examples/src/main/python/mllib/svm_with_sgd_example.py\n",
            "spark-3.3.1-bin-hadoop3/examples/src/main/python/mllib/tf_idf_example.py\n",
            "spark-3.3.1-bin-hadoop3/examples/src/main/python/mllib/word2vec.py\n",
            "spark-3.3.1-bin-hadoop3/examples/src/main/python/mllib/word2vec_example.py\n",
            "spark-3.3.1-bin-hadoop3/examples/src/main/python/pagerank.py\n",
            "spark-3.3.1-bin-hadoop3/examples/src/main/python/parquet_inputformat.py\n",
            "spark-3.3.1-bin-hadoop3/examples/src/main/python/pi.py\n",
            "spark-3.3.1-bin-hadoop3/examples/src/main/python/sort.py\n",
            "spark-3.3.1-bin-hadoop3/examples/src/main/python/sql/\n",
            "spark-3.3.1-bin-hadoop3/examples/src/main/python/sql/__init__.py\n",
            "spark-3.3.1-bin-hadoop3/examples/src/main/python/sql/arrow.py\n",
            "spark-3.3.1-bin-hadoop3/examples/src/main/python/sql/basic.py\n",
            "spark-3.3.1-bin-hadoop3/examples/src/main/python/sql/datasource.py\n",
            "spark-3.3.1-bin-hadoop3/examples/src/main/python/sql/hive.py\n",
            "spark-3.3.1-bin-hadoop3/examples/src/main/python/sql/streaming/\n",
            "spark-3.3.1-bin-hadoop3/examples/src/main/python/sql/streaming/__init__,py\n",
            "spark-3.3.1-bin-hadoop3/examples/src/main/python/sql/streaming/structured_kafka_wordcount.py\n",
            "spark-3.3.1-bin-hadoop3/examples/src/main/python/sql/streaming/structured_network_wordcount.py\n",
            "spark-3.3.1-bin-hadoop3/examples/src/main/python/sql/streaming/structured_network_wordcount_windowed.py\n",
            "spark-3.3.1-bin-hadoop3/examples/src/main/python/sql/streaming/structured_sessionization.py\n",
            "spark-3.3.1-bin-hadoop3/examples/src/main/python/status_api_demo.py\n",
            "spark-3.3.1-bin-hadoop3/examples/src/main/python/streaming/\n",
            "spark-3.3.1-bin-hadoop3/examples/src/main/python/streaming/__init__.py\n",
            "spark-3.3.1-bin-hadoop3/examples/src/main/python/streaming/hdfs_wordcount.py\n",
            "spark-3.3.1-bin-hadoop3/examples/src/main/python/streaming/network_wordcount.py\n",
            "spark-3.3.1-bin-hadoop3/examples/src/main/python/streaming/network_wordjoinsentiments.py\n",
            "spark-3.3.1-bin-hadoop3/examples/src/main/python/streaming/queue_stream.py\n",
            "spark-3.3.1-bin-hadoop3/examples/src/main/python/streaming/recoverable_network_wordcount.py\n",
            "spark-3.3.1-bin-hadoop3/examples/src/main/python/streaming/sql_network_wordcount.py\n",
            "spark-3.3.1-bin-hadoop3/examples/src/main/python/streaming/stateful_network_wordcount.py\n",
            "spark-3.3.1-bin-hadoop3/examples/src/main/python/transitive_closure.py\n",
            "spark-3.3.1-bin-hadoop3/examples/src/main/python/wordcount.py\n",
            "spark-3.3.1-bin-hadoop3/examples/src/main/r/\n",
            "spark-3.3.1-bin-hadoop3/examples/src/main/r/RSparkSQLExample.R\n",
            "spark-3.3.1-bin-hadoop3/examples/src/main/r/data-manipulation.R\n",
            "spark-3.3.1-bin-hadoop3/examples/src/main/r/dataframe.R\n",
            "spark-3.3.1-bin-hadoop3/examples/src/main/r/ml/\n",
            "spark-3.3.1-bin-hadoop3/examples/src/main/r/ml/als.R\n",
            "spark-3.3.1-bin-hadoop3/examples/src/main/r/ml/bisectingKmeans.R\n",
            "spark-3.3.1-bin-hadoop3/examples/src/main/r/ml/decisionTree.R\n",
            "spark-3.3.1-bin-hadoop3/examples/src/main/r/ml/fmClassifier.R\n",
            "spark-3.3.1-bin-hadoop3/examples/src/main/r/ml/fmRegressor.R\n",
            "spark-3.3.1-bin-hadoop3/examples/src/main/r/ml/fpm.R\n",
            "spark-3.3.1-bin-hadoop3/examples/src/main/r/ml/gaussianMixture.R\n",
            "spark-3.3.1-bin-hadoop3/examples/src/main/r/ml/gbt.R\n",
            "spark-3.3.1-bin-hadoop3/examples/src/main/r/ml/glm.R\n",
            "spark-3.3.1-bin-hadoop3/examples/src/main/r/ml/isoreg.R\n",
            "spark-3.3.1-bin-hadoop3/examples/src/main/r/ml/kmeans.R\n",
            "spark-3.3.1-bin-hadoop3/examples/src/main/r/ml/kstest.R\n",
            "spark-3.3.1-bin-hadoop3/examples/src/main/r/ml/lda.R\n",
            "spark-3.3.1-bin-hadoop3/examples/src/main/r/ml/lm_with_elastic_net.R\n",
            "spark-3.3.1-bin-hadoop3/examples/src/main/r/ml/logit.R\n",
            "spark-3.3.1-bin-hadoop3/examples/src/main/r/ml/ml.R\n",
            "spark-3.3.1-bin-hadoop3/examples/src/main/r/ml/mlp.R\n",
            "spark-3.3.1-bin-hadoop3/examples/src/main/r/ml/naiveBayes.R\n",
            "spark-3.3.1-bin-hadoop3/examples/src/main/r/ml/powerIterationClustering.R\n",
            "spark-3.3.1-bin-hadoop3/examples/src/main/r/ml/prefixSpan.R\n",
            "spark-3.3.1-bin-hadoop3/examples/src/main/r/ml/randomForest.R\n",
            "spark-3.3.1-bin-hadoop3/examples/src/main/r/ml/survreg.R\n",
            "spark-3.3.1-bin-hadoop3/examples/src/main/r/ml/svmLinear.R\n",
            "spark-3.3.1-bin-hadoop3/examples/src/main/r/streaming/\n",
            "spark-3.3.1-bin-hadoop3/examples/src/main/r/streaming/structured_network_wordcount.R\n",
            "spark-3.3.1-bin-hadoop3/examples/src/main/resources/\n",
            "spark-3.3.1-bin-hadoop3/examples/src/main/resources/META-INF/\n",
            "spark-3.3.1-bin-hadoop3/examples/src/main/resources/META-INF/services/\n",
            "spark-3.3.1-bin-hadoop3/examples/src/main/resources/META-INF/services/org.apache.spark.sql.SparkSessionExtensionsProvider\n",
            "spark-3.3.1-bin-hadoop3/examples/src/main/resources/META-INF/services/org.apache.spark.sql.jdbc.JdbcConnectionProvider\n",
            "spark-3.3.1-bin-hadoop3/examples/src/main/resources/dir1/\n",
            "spark-3.3.1-bin-hadoop3/examples/src/main/resources/dir1/dir2/\n",
            "spark-3.3.1-bin-hadoop3/examples/src/main/resources/dir1/dir2/file2.parquet\n",
            "spark-3.3.1-bin-hadoop3/examples/src/main/resources/dir1/file1.parquet\n",
            "spark-3.3.1-bin-hadoop3/examples/src/main/resources/dir1/file3.json\n",
            "spark-3.3.1-bin-hadoop3/examples/src/main/resources/employees.json\n",
            "spark-3.3.1-bin-hadoop3/examples/src/main/resources/full_user.avsc\n",
            "spark-3.3.1-bin-hadoop3/examples/src/main/resources/kv1.txt\n",
            "spark-3.3.1-bin-hadoop3/examples/src/main/resources/people.csv\n",
            "spark-3.3.1-bin-hadoop3/examples/src/main/resources/people.json\n",
            "spark-3.3.1-bin-hadoop3/examples/src/main/resources/people.txt\n",
            "spark-3.3.1-bin-hadoop3/examples/src/main/resources/user.avsc\n",
            "spark-3.3.1-bin-hadoop3/examples/src/main/resources/users.avro\n",
            "spark-3.3.1-bin-hadoop3/examples/src/main/resources/users.orc\n",
            "spark-3.3.1-bin-hadoop3/examples/src/main/resources/users.parquet\n",
            "spark-3.3.1-bin-hadoop3/examples/src/main/scala/\n",
            "spark-3.3.1-bin-hadoop3/examples/src/main/scala/org/\n",
            "spark-3.3.1-bin-hadoop3/examples/src/main/scala/org/apache/\n",
            "spark-3.3.1-bin-hadoop3/examples/src/main/scala/org/apache/spark/\n",
            "spark-3.3.1-bin-hadoop3/examples/src/main/scala/org/apache/spark/examples/\n",
            "spark-3.3.1-bin-hadoop3/examples/src/main/scala/org/apache/spark/examples/AccumulatorMetricsTest.scala\n",
            "spark-3.3.1-bin-hadoop3/examples/src/main/scala/org/apache/spark/examples/BroadcastTest.scala\n",
            "spark-3.3.1-bin-hadoop3/examples/src/main/scala/org/apache/spark/examples/DFSReadWriteTest.scala\n",
            "spark-3.3.1-bin-hadoop3/examples/src/main/scala/org/apache/spark/examples/DriverSubmissionTest.scala\n",
            "spark-3.3.1-bin-hadoop3/examples/src/main/scala/org/apache/spark/examples/ExceptionHandlingTest.scala\n",
            "spark-3.3.1-bin-hadoop3/examples/src/main/scala/org/apache/spark/examples/GroupByTest.scala\n",
            "spark-3.3.1-bin-hadoop3/examples/src/main/scala/org/apache/spark/examples/HdfsTest.scala\n",
            "spark-3.3.1-bin-hadoop3/examples/src/main/scala/org/apache/spark/examples/LocalALS.scala\n",
            "spark-3.3.1-bin-hadoop3/examples/src/main/scala/org/apache/spark/examples/LocalFileLR.scala\n",
            "spark-3.3.1-bin-hadoop3/examples/src/main/scala/org/apache/spark/examples/LocalKMeans.scala\n",
            "spark-3.3.1-bin-hadoop3/examples/src/main/scala/org/apache/spark/examples/LocalLR.scala\n",
            "spark-3.3.1-bin-hadoop3/examples/src/main/scala/org/apache/spark/examples/LocalPi.scala\n",
            "spark-3.3.1-bin-hadoop3/examples/src/main/scala/org/apache/spark/examples/LogQuery.scala\n",
            "spark-3.3.1-bin-hadoop3/examples/src/main/scala/org/apache/spark/examples/MiniReadWriteTest.scala\n",
            "spark-3.3.1-bin-hadoop3/examples/src/main/scala/org/apache/spark/examples/MultiBroadcastTest.scala\n",
            "spark-3.3.1-bin-hadoop3/examples/src/main/scala/org/apache/spark/examples/SimpleSkewedGroupByTest.scala\n",
            "spark-3.3.1-bin-hadoop3/examples/src/main/scala/org/apache/spark/examples/SkewedGroupByTest.scala\n",
            "spark-3.3.1-bin-hadoop3/examples/src/main/scala/org/apache/spark/examples/SparkALS.scala\n",
            "spark-3.3.1-bin-hadoop3/examples/src/main/scala/org/apache/spark/examples/SparkHdfsLR.scala\n",
            "spark-3.3.1-bin-hadoop3/examples/src/main/scala/org/apache/spark/examples/SparkKMeans.scala\n",
            "spark-3.3.1-bin-hadoop3/examples/src/main/scala/org/apache/spark/examples/SparkLR.scala\n",
            "spark-3.3.1-bin-hadoop3/examples/src/main/scala/org/apache/spark/examples/SparkPageRank.scala\n",
            "spark-3.3.1-bin-hadoop3/examples/src/main/scala/org/apache/spark/examples/SparkPi.scala\n",
            "spark-3.3.1-bin-hadoop3/examples/src/main/scala/org/apache/spark/examples/SparkRemoteFileTest.scala\n",
            "spark-3.3.1-bin-hadoop3/examples/src/main/scala/org/apache/spark/examples/SparkTC.scala\n",
            "spark-3.3.1-bin-hadoop3/examples/src/main/scala/org/apache/spark/examples/extensions/\n",
            "spark-3.3.1-bin-hadoop3/examples/src/main/scala/org/apache/spark/examples/extensions/AgeExample.scala\n",
            "spark-3.3.1-bin-hadoop3/examples/src/main/scala/org/apache/spark/examples/extensions/SessionExtensionsWithLoader.scala\n",
            "spark-3.3.1-bin-hadoop3/examples/src/main/scala/org/apache/spark/examples/extensions/SessionExtensionsWithoutLoader.scala\n",
            "spark-3.3.1-bin-hadoop3/examples/src/main/scala/org/apache/spark/examples/extensions/SparkSessionExtensionsTest.scala\n",
            "spark-3.3.1-bin-hadoop3/examples/src/main/scala/org/apache/spark/examples/graphx/\n",
            "spark-3.3.1-bin-hadoop3/examples/src/main/scala/org/apache/spark/examples/graphx/AggregateMessagesExample.scala\n",
            "spark-3.3.1-bin-hadoop3/examples/src/main/scala/org/apache/spark/examples/graphx/Analytics.scala\n",
            "spark-3.3.1-bin-hadoop3/examples/src/main/scala/org/apache/spark/examples/graphx/ComprehensiveExample.scala\n",
            "spark-3.3.1-bin-hadoop3/examples/src/main/scala/org/apache/spark/examples/graphx/ConnectedComponentsExample.scala\n",
            "spark-3.3.1-bin-hadoop3/examples/src/main/scala/org/apache/spark/examples/graphx/LiveJournalPageRank.scala\n",
            "spark-3.3.1-bin-hadoop3/examples/src/main/scala/org/apache/spark/examples/graphx/PageRankExample.scala\n",
            "spark-3.3.1-bin-hadoop3/examples/src/main/scala/org/apache/spark/examples/graphx/SSSPExample.scala\n",
            "spark-3.3.1-bin-hadoop3/examples/src/main/scala/org/apache/spark/examples/graphx/SynthBenchmark.scala\n",
            "spark-3.3.1-bin-hadoop3/examples/src/main/scala/org/apache/spark/examples/graphx/TriangleCountingExample.scala\n",
            "spark-3.3.1-bin-hadoop3/examples/src/main/scala/org/apache/spark/examples/ml/\n",
            "spark-3.3.1-bin-hadoop3/examples/src/main/scala/org/apache/spark/examples/ml/AFTSurvivalRegressionExample.scala\n",
            "spark-3.3.1-bin-hadoop3/examples/src/main/scala/org/apache/spark/examples/ml/ALSExample.scala\n",
            "spark-3.3.1-bin-hadoop3/examples/src/main/scala/org/apache/spark/examples/ml/BinarizerExample.scala\n",
            "spark-3.3.1-bin-hadoop3/examples/src/main/scala/org/apache/spark/examples/ml/BisectingKMeansExample.scala\n",
            "spark-3.3.1-bin-hadoop3/examples/src/main/scala/org/apache/spark/examples/ml/BucketedRandomProjectionLSHExample.scala\n",
            "spark-3.3.1-bin-hadoop3/examples/src/main/scala/org/apache/spark/examples/ml/BucketizerExample.scala\n",
            "spark-3.3.1-bin-hadoop3/examples/src/main/scala/org/apache/spark/examples/ml/ChiSqSelectorExample.scala\n",
            "spark-3.3.1-bin-hadoop3/examples/src/main/scala/org/apache/spark/examples/ml/ChiSquareTestExample.scala\n",
            "spark-3.3.1-bin-hadoop3/examples/src/main/scala/org/apache/spark/examples/ml/CorrelationExample.scala\n",
            "spark-3.3.1-bin-hadoop3/examples/src/main/scala/org/apache/spark/examples/ml/CountVectorizerExample.scala\n",
            "spark-3.3.1-bin-hadoop3/examples/src/main/scala/org/apache/spark/examples/ml/DCTExample.scala\n",
            "spark-3.3.1-bin-hadoop3/examples/src/main/scala/org/apache/spark/examples/ml/DataFrameExample.scala\n",
            "spark-3.3.1-bin-hadoop3/examples/src/main/scala/org/apache/spark/examples/ml/DecisionTreeClassificationExample.scala\n",
            "spark-3.3.1-bin-hadoop3/examples/src/main/scala/org/apache/spark/examples/ml/DecisionTreeExample.scala\n",
            "spark-3.3.1-bin-hadoop3/examples/src/main/scala/org/apache/spark/examples/ml/DecisionTreeRegressionExample.scala\n",
            "spark-3.3.1-bin-hadoop3/examples/src/main/scala/org/apache/spark/examples/ml/DeveloperApiExample.scala\n",
            "spark-3.3.1-bin-hadoop3/examples/src/main/scala/org/apache/spark/examples/ml/ElementwiseProductExample.scala\n",
            "spark-3.3.1-bin-hadoop3/examples/src/main/scala/org/apache/spark/examples/ml/EstimatorTransformerParamExample.scala\n",
            "spark-3.3.1-bin-hadoop3/examples/src/main/scala/org/apache/spark/examples/ml/FMClassifierExample.scala\n",
            "spark-3.3.1-bin-hadoop3/examples/src/main/scala/org/apache/spark/examples/ml/FMRegressorExample.scala\n",
            "spark-3.3.1-bin-hadoop3/examples/src/main/scala/org/apache/spark/examples/ml/FPGrowthExample.scala\n",
            "spark-3.3.1-bin-hadoop3/examples/src/main/scala/org/apache/spark/examples/ml/FeatureHasherExample.scala\n",
            "spark-3.3.1-bin-hadoop3/examples/src/main/scala/org/apache/spark/examples/ml/GBTExample.scala\n",
            "spark-3.3.1-bin-hadoop3/examples/src/main/scala/org/apache/spark/examples/ml/GaussianMixtureExample.scala\n",
            "spark-3.3.1-bin-hadoop3/examples/src/main/scala/org/apache/spark/examples/ml/GeneralizedLinearRegressionExample.scala\n",
            "spark-3.3.1-bin-hadoop3/examples/src/main/scala/org/apache/spark/examples/ml/GradientBoostedTreeClassifierExample.scala\n",
            "spark-3.3.1-bin-hadoop3/examples/src/main/scala/org/apache/spark/examples/ml/GradientBoostedTreeRegressorExample.scala\n",
            "spark-3.3.1-bin-hadoop3/examples/src/main/scala/org/apache/spark/examples/ml/ImputerExample.scala\n",
            "spark-3.3.1-bin-hadoop3/examples/src/main/scala/org/apache/spark/examples/ml/IndexToStringExample.scala\n",
            "spark-3.3.1-bin-hadoop3/examples/src/main/scala/org/apache/spark/examples/ml/InteractionExample.scala\n",
            "spark-3.3.1-bin-hadoop3/examples/src/main/scala/org/apache/spark/examples/ml/IsotonicRegressionExample.scala\n",
            "spark-3.3.1-bin-hadoop3/examples/src/main/scala/org/apache/spark/examples/ml/KMeansExample.scala\n",
            "spark-3.3.1-bin-hadoop3/examples/src/main/scala/org/apache/spark/examples/ml/LDAExample.scala\n",
            "spark-3.3.1-bin-hadoop3/examples/src/main/scala/org/apache/spark/examples/ml/LinearRegressionExample.scala\n",
            "spark-3.3.1-bin-hadoop3/examples/src/main/scala/org/apache/spark/examples/ml/LinearRegressionWithElasticNetExample.scala\n",
            "spark-3.3.1-bin-hadoop3/examples/src/main/scala/org/apache/spark/examples/ml/LinearSVCExample.scala\n",
            "spark-3.3.1-bin-hadoop3/examples/src/main/scala/org/apache/spark/examples/ml/LogisticRegressionExample.scala\n",
            "spark-3.3.1-bin-hadoop3/examples/src/main/scala/org/apache/spark/examples/ml/LogisticRegressionSummaryExample.scala\n",
            "spark-3.3.1-bin-hadoop3/examples/src/main/scala/org/apache/spark/examples/ml/LogisticRegressionWithElasticNetExample.scala\n",
            "spark-3.3.1-bin-hadoop3/examples/src/main/scala/org/apache/spark/examples/ml/MaxAbsScalerExample.scala\n",
            "spark-3.3.1-bin-hadoop3/examples/src/main/scala/org/apache/spark/examples/ml/MinHashLSHExample.scala\n",
            "spark-3.3.1-bin-hadoop3/examples/src/main/scala/org/apache/spark/examples/ml/MinMaxScalerExample.scala\n",
            "spark-3.3.1-bin-hadoop3/examples/src/main/scala/org/apache/spark/examples/ml/ModelSelectionViaCrossValidationExample.scala\n",
            "spark-3.3.1-bin-hadoop3/examples/src/main/scala/org/apache/spark/examples/ml/ModelSelectionViaTrainValidationSplitExample.scala\n",
            "spark-3.3.1-bin-hadoop3/examples/src/main/scala/org/apache/spark/examples/ml/MulticlassLogisticRegressionWithElasticNetExample.scala\n",
            "spark-3.3.1-bin-hadoop3/examples/src/main/scala/org/apache/spark/examples/ml/MultilayerPerceptronClassifierExample.scala\n",
            "spark-3.3.1-bin-hadoop3/examples/src/main/scala/org/apache/spark/examples/ml/NGramExample.scala\n",
            "spark-3.3.1-bin-hadoop3/examples/src/main/scala/org/apache/spark/examples/ml/NaiveBayesExample.scala\n",
            "spark-3.3.1-bin-hadoop3/examples/src/main/scala/org/apache/spark/examples/ml/NormalizerExample.scala\n",
            "spark-3.3.1-bin-hadoop3/examples/src/main/scala/org/apache/spark/examples/ml/OneHotEncoderExample.scala\n",
            "spark-3.3.1-bin-hadoop3/examples/src/main/scala/org/apache/spark/examples/ml/OneVsRestExample.scala\n",
            "spark-3.3.1-bin-hadoop3/examples/src/main/scala/org/apache/spark/examples/ml/PCAExample.scala\n",
            "spark-3.3.1-bin-hadoop3/examples/src/main/scala/org/apache/spark/examples/ml/PipelineExample.scala\n",
            "spark-3.3.1-bin-hadoop3/examples/src/main/scala/org/apache/spark/examples/ml/PolynomialExpansionExample.scala\n",
            "spark-3.3.1-bin-hadoop3/examples/src/main/scala/org/apache/spark/examples/ml/PowerIterationClusteringExample.scala\n",
            "spark-3.3.1-bin-hadoop3/examples/src/main/scala/org/apache/spark/examples/ml/PrefixSpanExample.scala\n",
            "spark-3.3.1-bin-hadoop3/examples/src/main/scala/org/apache/spark/examples/ml/QuantileDiscretizerExample.scala\n",
            "spark-3.3.1-bin-hadoop3/examples/src/main/scala/org/apache/spark/examples/ml/RFormulaExample.scala\n",
            "spark-3.3.1-bin-hadoop3/examples/src/main/scala/org/apache/spark/examples/ml/RandomForestClassifierExample.scala\n",
            "spark-3.3.1-bin-hadoop3/examples/src/main/scala/org/apache/spark/examples/ml/RandomForestExample.scala\n",
            "spark-3.3.1-bin-hadoop3/examples/src/main/scala/org/apache/spark/examples/ml/RandomForestRegressorExample.scala\n",
            "spark-3.3.1-bin-hadoop3/examples/src/main/scala/org/apache/spark/examples/ml/RobustScalerExample.scala\n",
            "spark-3.3.1-bin-hadoop3/examples/src/main/scala/org/apache/spark/examples/ml/SQLTransformerExample.scala\n",
            "spark-3.3.1-bin-hadoop3/examples/src/main/scala/org/apache/spark/examples/ml/StandardScalerExample.scala\n",
            "spark-3.3.1-bin-hadoop3/examples/src/main/scala/org/apache/spark/examples/ml/StopWordsRemoverExample.scala\n",
            "spark-3.3.1-bin-hadoop3/examples/src/main/scala/org/apache/spark/examples/ml/StringIndexerExample.scala\n",
            "spark-3.3.1-bin-hadoop3/examples/src/main/scala/org/apache/spark/examples/ml/SummarizerExample.scala\n",
            "spark-3.3.1-bin-hadoop3/examples/src/main/scala/org/apache/spark/examples/ml/TfIdfExample.scala\n",
            "spark-3.3.1-bin-hadoop3/examples/src/main/scala/org/apache/spark/examples/ml/TokenizerExample.scala\n",
            "spark-3.3.1-bin-hadoop3/examples/src/main/scala/org/apache/spark/examples/ml/UnaryTransformerExample.scala\n",
            "spark-3.3.1-bin-hadoop3/examples/src/main/scala/org/apache/spark/examples/ml/UnivariateFeatureSelectorExample.scala\n",
            "spark-3.3.1-bin-hadoop3/examples/src/main/scala/org/apache/spark/examples/ml/VarianceThresholdSelectorExample.scala\n",
            "spark-3.3.1-bin-hadoop3/examples/src/main/scala/org/apache/spark/examples/ml/VectorAssemblerExample.scala\n",
            "spark-3.3.1-bin-hadoop3/examples/src/main/scala/org/apache/spark/examples/ml/VectorIndexerExample.scala\n",
            "spark-3.3.1-bin-hadoop3/examples/src/main/scala/org/apache/spark/examples/ml/VectorSizeHintExample.scala\n",
            "spark-3.3.1-bin-hadoop3/examples/src/main/scala/org/apache/spark/examples/ml/VectorSlicerExample.scala\n",
            "spark-3.3.1-bin-hadoop3/examples/src/main/scala/org/apache/spark/examples/ml/Word2VecExample.scala\n",
            "spark-3.3.1-bin-hadoop3/examples/src/main/scala/org/apache/spark/examples/mllib/\n",
            "spark-3.3.1-bin-hadoop3/examples/src/main/scala/org/apache/spark/examples/mllib/AbstractParams.scala\n",
            "spark-3.3.1-bin-hadoop3/examples/src/main/scala/org/apache/spark/examples/mllib/AssociationRulesExample.scala\n",
            "spark-3.3.1-bin-hadoop3/examples/src/main/scala/org/apache/spark/examples/mllib/BinaryClassification.scala\n",
            "spark-3.3.1-bin-hadoop3/examples/src/main/scala/org/apache/spark/examples/mllib/BinaryClassificationMetricsExample.scala\n",
            "spark-3.3.1-bin-hadoop3/examples/src/main/scala/org/apache/spark/examples/mllib/BisectingKMeansExample.scala\n",
            "spark-3.3.1-bin-hadoop3/examples/src/main/scala/org/apache/spark/examples/mllib/ChiSqSelectorExample.scala\n",
            "spark-3.3.1-bin-hadoop3/examples/src/main/scala/org/apache/spark/examples/mllib/Correlations.scala\n",
            "spark-3.3.1-bin-hadoop3/examples/src/main/scala/org/apache/spark/examples/mllib/CorrelationsExample.scala\n",
            "spark-3.3.1-bin-hadoop3/examples/src/main/scala/org/apache/spark/examples/mllib/CosineSimilarity.scala\n",
            "spark-3.3.1-bin-hadoop3/examples/src/main/scala/org/apache/spark/examples/mllib/DecisionTreeClassificationExample.scala\n",
            "spark-3.3.1-bin-hadoop3/examples/src/main/scala/org/apache/spark/examples/mllib/DecisionTreeRegressionExample.scala\n",
            "spark-3.3.1-bin-hadoop3/examples/src/main/scala/org/apache/spark/examples/mllib/DecisionTreeRunner.scala\n",
            "spark-3.3.1-bin-hadoop3/examples/src/main/scala/org/apache/spark/examples/mllib/DenseKMeans.scala\n",
            "spark-3.3.1-bin-hadoop3/examples/src/main/scala/org/apache/spark/examples/mllib/ElementwiseProductExample.scala\n",
            "spark-3.3.1-bin-hadoop3/examples/src/main/scala/org/apache/spark/examples/mllib/FPGrowthExample.scala\n",
            "spark-3.3.1-bin-hadoop3/examples/src/main/scala/org/apache/spark/examples/mllib/GaussianMixtureExample.scala\n",
            "spark-3.3.1-bin-hadoop3/examples/src/main/scala/org/apache/spark/examples/mllib/GradientBoostedTreesRunner.scala\n",
            "spark-3.3.1-bin-hadoop3/examples/src/main/scala/org/apache/spark/examples/mllib/GradientBoostingClassificationExample.scala\n",
            "spark-3.3.1-bin-hadoop3/examples/src/main/scala/org/apache/spark/examples/mllib/GradientBoostingRegressionExample.scala\n",
            "spark-3.3.1-bin-hadoop3/examples/src/main/scala/org/apache/spark/examples/mllib/HypothesisTestingExample.scala\n",
            "spark-3.3.1-bin-hadoop3/examples/src/main/scala/org/apache/spark/examples/mllib/HypothesisTestingKolmogorovSmirnovTestExample.scala\n",
            "spark-3.3.1-bin-hadoop3/examples/src/main/scala/org/apache/spark/examples/mllib/IsotonicRegressionExample.scala\n",
            "spark-3.3.1-bin-hadoop3/examples/src/main/scala/org/apache/spark/examples/mllib/KMeansExample.scala\n",
            "spark-3.3.1-bin-hadoop3/examples/src/main/scala/org/apache/spark/examples/mllib/KernelDensityEstimationExample.scala\n",
            "spark-3.3.1-bin-hadoop3/examples/src/main/scala/org/apache/spark/examples/mllib/LBFGSExample.scala\n",
            "spark-3.3.1-bin-hadoop3/examples/src/main/scala/org/apache/spark/examples/mllib/LDAExample.scala\n",
            "spark-3.3.1-bin-hadoop3/examples/src/main/scala/org/apache/spark/examples/mllib/LatentDirichletAllocationExample.scala\n",
            "spark-3.3.1-bin-hadoop3/examples/src/main/scala/org/apache/spark/examples/mllib/LogisticRegressionWithLBFGSExample.scala\n",
            "spark-3.3.1-bin-hadoop3/examples/src/main/scala/org/apache/spark/examples/mllib/MovieLensALS.scala\n",
            "spark-3.3.1-bin-hadoop3/examples/src/main/scala/org/apache/spark/examples/mllib/MultiLabelMetricsExample.scala\n",
            "spark-3.3.1-bin-hadoop3/examples/src/main/scala/org/apache/spark/examples/mllib/MulticlassMetricsExample.scala\n",
            "spark-3.3.1-bin-hadoop3/examples/src/main/scala/org/apache/spark/examples/mllib/MultivariateSummarizer.scala\n",
            "spark-3.3.1-bin-hadoop3/examples/src/main/scala/org/apache/spark/examples/mllib/NaiveBayesExample.scala\n",
            "spark-3.3.1-bin-hadoop3/examples/src/main/scala/org/apache/spark/examples/mllib/NormalizerExample.scala\n",
            "spark-3.3.1-bin-hadoop3/examples/src/main/scala/org/apache/spark/examples/mllib/PCAOnRowMatrixExample.scala\n",
            "spark-3.3.1-bin-hadoop3/examples/src/main/scala/org/apache/spark/examples/mllib/PCAOnSourceVectorExample.scala\n",
            "spark-3.3.1-bin-hadoop3/examples/src/main/scala/org/apache/spark/examples/mllib/PMMLModelExportExample.scala\n",
            "spark-3.3.1-bin-hadoop3/examples/src/main/scala/org/apache/spark/examples/mllib/PowerIterationClusteringExample.scala\n",
            "spark-3.3.1-bin-hadoop3/examples/src/main/scala/org/apache/spark/examples/mllib/PrefixSpanExample.scala\n",
            "spark-3.3.1-bin-hadoop3/examples/src/main/scala/org/apache/spark/examples/mllib/RandomForestClassificationExample.scala\n",
            "spark-3.3.1-bin-hadoop3/examples/src/main/scala/org/apache/spark/examples/mllib/RandomForestRegressionExample.scala\n",
            "spark-3.3.1-bin-hadoop3/examples/src/main/scala/org/apache/spark/examples/mllib/RandomRDDGeneration.scala\n",
            "spark-3.3.1-bin-hadoop3/examples/src/main/scala/org/apache/spark/examples/mllib/RankingMetricsExample.scala\n",
            "spark-3.3.1-bin-hadoop3/examples/src/main/scala/org/apache/spark/examples/mllib/RecommendationExample.scala\n",
            "spark-3.3.1-bin-hadoop3/examples/src/main/scala/org/apache/spark/examples/mllib/SVDExample.scala\n",
            "spark-3.3.1-bin-hadoop3/examples/src/main/scala/org/apache/spark/examples/mllib/SVMWithSGDExample.scala\n",
            "spark-3.3.1-bin-hadoop3/examples/src/main/scala/org/apache/spark/examples/mllib/SampledRDDs.scala\n",
            "spark-3.3.1-bin-hadoop3/examples/src/main/scala/org/apache/spark/examples/mllib/SimpleFPGrowth.scala\n",
            "spark-3.3.1-bin-hadoop3/examples/src/main/scala/org/apache/spark/examples/mllib/SparseNaiveBayes.scala\n",
            "spark-3.3.1-bin-hadoop3/examples/src/main/scala/org/apache/spark/examples/mllib/StandardScalerExample.scala\n",
            "spark-3.3.1-bin-hadoop3/examples/src/main/scala/org/apache/spark/examples/mllib/StratifiedSamplingExample.scala\n",
            "spark-3.3.1-bin-hadoop3/examples/src/main/scala/org/apache/spark/examples/mllib/StreamingKMeansExample.scala\n",
            "spark-3.3.1-bin-hadoop3/examples/src/main/scala/org/apache/spark/examples/mllib/StreamingLinearRegressionExample.scala\n",
            "spark-3.3.1-bin-hadoop3/examples/src/main/scala/org/apache/spark/examples/mllib/StreamingLogisticRegression.scala\n",
            "spark-3.3.1-bin-hadoop3/examples/src/main/scala/org/apache/spark/examples/mllib/StreamingTestExample.scala\n",
            "spark-3.3.1-bin-hadoop3/examples/src/main/scala/org/apache/spark/examples/mllib/SummaryStatisticsExample.scala\n",
            "spark-3.3.1-bin-hadoop3/examples/src/main/scala/org/apache/spark/examples/mllib/TFIDFExample.scala\n",
            "spark-3.3.1-bin-hadoop3/examples/src/main/scala/org/apache/spark/examples/mllib/TallSkinnyPCA.scala\n",
            "spark-3.3.1-bin-hadoop3/examples/src/main/scala/org/apache/spark/examples/mllib/TallSkinnySVD.scala\n",
            "spark-3.3.1-bin-hadoop3/examples/src/main/scala/org/apache/spark/examples/mllib/Word2VecExample.scala\n",
            "spark-3.3.1-bin-hadoop3/examples/src/main/scala/org/apache/spark/examples/pythonconverters/\n",
            "spark-3.3.1-bin-hadoop3/examples/src/main/scala/org/apache/spark/examples/pythonconverters/AvroConverters.scala\n",
            "spark-3.3.1-bin-hadoop3/examples/src/main/scala/org/apache/spark/examples/sql/\n",
            "spark-3.3.1-bin-hadoop3/examples/src/main/scala/org/apache/spark/examples/sql/RDDRelation.scala\n",
            "spark-3.3.1-bin-hadoop3/examples/src/main/scala/org/apache/spark/examples/sql/SQLDataSourceExample.scala\n",
            "spark-3.3.1-bin-hadoop3/examples/src/main/scala/org/apache/spark/examples/sql/SimpleTypedAggregator.scala\n",
            "spark-3.3.1-bin-hadoop3/examples/src/main/scala/org/apache/spark/examples/sql/SparkSQLExample.scala\n",
            "spark-3.3.1-bin-hadoop3/examples/src/main/scala/org/apache/spark/examples/sql/UserDefinedScalar.scala\n",
            "spark-3.3.1-bin-hadoop3/examples/src/main/scala/org/apache/spark/examples/sql/UserDefinedTypedAggregation.scala\n",
            "spark-3.3.1-bin-hadoop3/examples/src/main/scala/org/apache/spark/examples/sql/UserDefinedUntypedAggregation.scala\n",
            "spark-3.3.1-bin-hadoop3/examples/src/main/scala/org/apache/spark/examples/sql/hive/\n",
            "spark-3.3.1-bin-hadoop3/examples/src/main/scala/org/apache/spark/examples/sql/hive/SparkHiveExample.scala\n",
            "spark-3.3.1-bin-hadoop3/examples/src/main/scala/org/apache/spark/examples/sql/jdbc/\n",
            "spark-3.3.1-bin-hadoop3/examples/src/main/scala/org/apache/spark/examples/sql/jdbc/ExampleJdbcConnectionProvider.scala\n",
            "spark-3.3.1-bin-hadoop3/examples/src/main/scala/org/apache/spark/examples/sql/streaming/\n",
            "spark-3.3.1-bin-hadoop3/examples/src/main/scala/org/apache/spark/examples/sql/streaming/StructuredComplexSessionization.scala\n",
            "spark-3.3.1-bin-hadoop3/examples/src/main/scala/org/apache/spark/examples/sql/streaming/StructuredKafkaWordCount.scala\n",
            "spark-3.3.1-bin-hadoop3/examples/src/main/scala/org/apache/spark/examples/sql/streaming/StructuredKerberizedKafkaWordCount.scala\n",
            "spark-3.3.1-bin-hadoop3/examples/src/main/scala/org/apache/spark/examples/sql/streaming/StructuredNetworkWordCount.scala\n",
            "spark-3.3.1-bin-hadoop3/examples/src/main/scala/org/apache/spark/examples/sql/streaming/StructuredNetworkWordCountWindowed.scala\n",
            "spark-3.3.1-bin-hadoop3/examples/src/main/scala/org/apache/spark/examples/sql/streaming/StructuredSessionization.scala\n",
            "spark-3.3.1-bin-hadoop3/examples/src/main/scala/org/apache/spark/examples/streaming/\n",
            "spark-3.3.1-bin-hadoop3/examples/src/main/scala/org/apache/spark/examples/streaming/CustomReceiver.scala\n",
            "spark-3.3.1-bin-hadoop3/examples/src/main/scala/org/apache/spark/examples/streaming/DirectKafkaWordCount.scala\n",
            "spark-3.3.1-bin-hadoop3/examples/src/main/scala/org/apache/spark/examples/streaming/DirectKerberizedKafkaWordCount.scala\n",
            "spark-3.3.1-bin-hadoop3/examples/src/main/scala/org/apache/spark/examples/streaming/HdfsWordCount.scala\n",
            "spark-3.3.1-bin-hadoop3/examples/src/main/scala/org/apache/spark/examples/streaming/NetworkWordCount.scala\n",
            "spark-3.3.1-bin-hadoop3/examples/src/main/scala/org/apache/spark/examples/streaming/QueueStream.scala\n",
            "spark-3.3.1-bin-hadoop3/examples/src/main/scala/org/apache/spark/examples/streaming/RawNetworkGrep.scala\n",
            "spark-3.3.1-bin-hadoop3/examples/src/main/scala/org/apache/spark/examples/streaming/RecoverableNetworkWordCount.scala\n",
            "spark-3.3.1-bin-hadoop3/examples/src/main/scala/org/apache/spark/examples/streaming/SqlNetworkWordCount.scala\n",
            "spark-3.3.1-bin-hadoop3/examples/src/main/scala/org/apache/spark/examples/streaming/StatefulNetworkWordCount.scala\n",
            "spark-3.3.1-bin-hadoop3/examples/src/main/scala/org/apache/spark/examples/streaming/StreamingExamples.scala\n",
            "spark-3.3.1-bin-hadoop3/examples/src/main/scala/org/apache/spark/examples/streaming/clickstream/\n",
            "spark-3.3.1-bin-hadoop3/examples/src/main/scala/org/apache/spark/examples/streaming/clickstream/PageViewGenerator.scala\n",
            "spark-3.3.1-bin-hadoop3/examples/src/main/scala/org/apache/spark/examples/streaming/clickstream/PageViewStream.scala\n",
            "spark-3.3.1-bin-hadoop3/examples/src/main/scripts/\n",
            "spark-3.3.1-bin-hadoop3/examples/src/main/scripts/getGpusResources.sh\n",
            "spark-3.3.1-bin-hadoop3/jars/\n",
            "spark-3.3.1-bin-hadoop3/jars/HikariCP-2.5.1.jar\n",
            "spark-3.3.1-bin-hadoop3/jars/JLargeArrays-1.5.jar\n",
            "spark-3.3.1-bin-hadoop3/jars/JTransforms-3.1.jar\n",
            "spark-3.3.1-bin-hadoop3/jars/RoaringBitmap-0.9.25.jar\n",
            "spark-3.3.1-bin-hadoop3/jars/ST4-4.0.4.jar\n",
            "spark-3.3.1-bin-hadoop3/jars/activation-1.1.1.jar\n",
            "spark-3.3.1-bin-hadoop3/jars/aircompressor-0.21.jar\n",
            "spark-3.3.1-bin-hadoop3/jars/algebra_2.12-2.0.1.jar\n",
            "spark-3.3.1-bin-hadoop3/jars/annotations-17.0.0.jar\n",
            "spark-3.3.1-bin-hadoop3/jars/antlr-runtime-3.5.2.jar\n",
            "spark-3.3.1-bin-hadoop3/jars/antlr4-runtime-4.8.jar\n",
            "spark-3.3.1-bin-hadoop3/jars/aopalliance-repackaged-2.6.1.jar\n",
            "spark-3.3.1-bin-hadoop3/jars/arpack-2.2.1.jar\n",
            "spark-3.3.1-bin-hadoop3/jars/arpack_combined_all-0.1.jar\n",
            "spark-3.3.1-bin-hadoop3/jars/arrow-format-7.0.0.jar\n",
            "spark-3.3.1-bin-hadoop3/jars/arrow-memory-core-7.0.0.jar\n",
            "spark-3.3.1-bin-hadoop3/jars/arrow-memory-netty-7.0.0.jar\n",
            "spark-3.3.1-bin-hadoop3/jars/arrow-vector-7.0.0.jar\n",
            "spark-3.3.1-bin-hadoop3/jars/audience-annotations-0.5.0.jar\n",
            "spark-3.3.1-bin-hadoop3/jars/automaton-1.11-8.jar\n",
            "spark-3.3.1-bin-hadoop3/jars/avro-1.11.0.jar\n",
            "spark-3.3.1-bin-hadoop3/jars/avro-ipc-1.11.0.jar\n",
            "spark-3.3.1-bin-hadoop3/jars/avro-mapred-1.11.0.jar\n",
            "spark-3.3.1-bin-hadoop3/jars/blas-2.2.1.jar\n",
            "spark-3.3.1-bin-hadoop3/jars/bonecp-0.8.0.RELEASE.jar\n",
            "spark-3.3.1-bin-hadoop3/jars/breeze-macros_2.12-1.2.jar\n",
            "spark-3.3.1-bin-hadoop3/jars/breeze_2.12-1.2.jar\n",
            "spark-3.3.1-bin-hadoop3/jars/cats-kernel_2.12-2.1.1.jar\n",
            "spark-3.3.1-bin-hadoop3/jars/chill-java-0.10.0.jar\n",
            "spark-3.3.1-bin-hadoop3/jars/chill_2.12-0.10.0.jar\n",
            "spark-3.3.1-bin-hadoop3/jars/commons-cli-1.5.0.jar\n",
            "spark-3.3.1-bin-hadoop3/jars/commons-codec-1.15.jar\n",
            "spark-3.3.1-bin-hadoop3/jars/commons-collections-3.2.2.jar\n",
            "spark-3.3.1-bin-hadoop3/jars/commons-collections4-4.4.jar\n",
            "spark-3.3.1-bin-hadoop3/jars/commons-compiler-3.0.16.jar\n",
            "spark-3.3.1-bin-hadoop3/jars/commons-compress-1.21.jar\n",
            "spark-3.3.1-bin-hadoop3/jars/commons-crypto-1.1.0.jar\n",
            "spark-3.3.1-bin-hadoop3/jars/commons-dbcp-1.4.jar\n",
            "spark-3.3.1-bin-hadoop3/jars/commons-io-2.11.0.jar\n",
            "spark-3.3.1-bin-hadoop3/jars/commons-lang-2.6.jar\n",
            "spark-3.3.1-bin-hadoop3/jars/commons-lang3-3.12.0.jar\n",
            "spark-3.3.1-bin-hadoop3/jars/commons-logging-1.1.3.jar\n",
            "spark-3.3.1-bin-hadoop3/jars/commons-math3-3.6.1.jar\n",
            "spark-3.3.1-bin-hadoop3/jars/commons-pool-1.5.4.jar\n",
            "spark-3.3.1-bin-hadoop3/jars/commons-text-1.9.jar\n",
            "spark-3.3.1-bin-hadoop3/jars/compress-lzf-1.1.jar\n",
            "spark-3.3.1-bin-hadoop3/jars/core-1.1.2.jar\n",
            "spark-3.3.1-bin-hadoop3/jars/curator-client-2.13.0.jar\n",
            "spark-3.3.1-bin-hadoop3/jars/curator-framework-2.13.0.jar\n",
            "spark-3.3.1-bin-hadoop3/jars/curator-recipes-2.13.0.jar\n",
            "spark-3.3.1-bin-hadoop3/jars/datanucleus-api-jdo-4.2.4.jar\n",
            "spark-3.3.1-bin-hadoop3/jars/datanucleus-core-4.1.17.jar\n",
            "spark-3.3.1-bin-hadoop3/jars/datanucleus-rdbms-4.1.19.jar\n",
            "spark-3.3.1-bin-hadoop3/jars/derby-10.14.2.0.jar\n",
            "spark-3.3.1-bin-hadoop3/jars/dropwizard-metrics-hadoop-metrics2-reporter-0.1.2.jar\n",
            "spark-3.3.1-bin-hadoop3/jars/flatbuffers-java-1.12.0.jar\n",
            "spark-3.3.1-bin-hadoop3/jars/generex-1.0.2.jar\n",
            "spark-3.3.1-bin-hadoop3/jars/gson-2.2.4.jar\n",
            "spark-3.3.1-bin-hadoop3/jars/guava-14.0.1.jar\n",
            "spark-3.3.1-bin-hadoop3/jars/hadoop-client-api-3.3.2.jar\n",
            "spark-3.3.1-bin-hadoop3/jars/hadoop-client-runtime-3.3.2.jar\n",
            "spark-3.3.1-bin-hadoop3/jars/hadoop-shaded-guava-1.1.1.jar\n",
            "spark-3.3.1-bin-hadoop3/jars/hadoop-yarn-server-web-proxy-3.3.2.jar\n",
            "spark-3.3.1-bin-hadoop3/jars/hive-beeline-2.3.9.jar\n",
            "spark-3.3.1-bin-hadoop3/jars/hive-cli-2.3.9.jar\n",
            "spark-3.3.1-bin-hadoop3/jars/hive-common-2.3.9.jar\n",
            "spark-3.3.1-bin-hadoop3/jars/hive-exec-2.3.9-core.jar\n",
            "spark-3.3.1-bin-hadoop3/jars/hive-jdbc-2.3.9.jar\n",
            "spark-3.3.1-bin-hadoop3/jars/hive-llap-common-2.3.9.jar\n",
            "spark-3.3.1-bin-hadoop3/jars/hive-metastore-2.3.9.jar\n",
            "spark-3.3.1-bin-hadoop3/jars/hive-serde-2.3.9.jar\n",
            "spark-3.3.1-bin-hadoop3/jars/hive-service-rpc-3.1.2.jar\n",
            "spark-3.3.1-bin-hadoop3/jars/hive-shims-0.23-2.3.9.jar\n",
            "spark-3.3.1-bin-hadoop3/jars/hive-shims-2.3.9.jar\n",
            "spark-3.3.1-bin-hadoop3/jars/hive-shims-common-2.3.9.jar\n",
            "spark-3.3.1-bin-hadoop3/jars/hive-shims-scheduler-2.3.9.jar\n",
            "spark-3.3.1-bin-hadoop3/jars/hive-storage-api-2.7.2.jar\n",
            "spark-3.3.1-bin-hadoop3/jars/hive-vector-code-gen-2.3.9.jar\n",
            "spark-3.3.1-bin-hadoop3/jars/hk2-api-2.6.1.jar\n",
            "spark-3.3.1-bin-hadoop3/jars/hk2-locator-2.6.1.jar\n",
            "spark-3.3.1-bin-hadoop3/jars/hk2-utils-2.6.1.jar\n",
            "spark-3.3.1-bin-hadoop3/jars/httpclient-4.5.13.jar\n",
            "spark-3.3.1-bin-hadoop3/jars/httpcore-4.4.14.jar\n",
            "spark-3.3.1-bin-hadoop3/jars/istack-commons-runtime-3.0.8.jar\n",
            "spark-3.3.1-bin-hadoop3/jars/ivy-2.5.0.jar\n",
            "spark-3.3.1-bin-hadoop3/jars/jackson-annotations-2.13.4.jar\n",
            "spark-3.3.1-bin-hadoop3/jars/jackson-core-2.13.4.jar\n",
            "spark-3.3.1-bin-hadoop3/jars/jackson-core-asl-1.9.13.jar\n",
            "spark-3.3.1-bin-hadoop3/jars/jackson-databind-2.13.4.1.jar\n",
            "spark-3.3.1-bin-hadoop3/jars/jackson-dataformat-yaml-2.13.4.jar\n",
            "spark-3.3.1-bin-hadoop3/jars/jackson-datatype-jsr310-2.13.4.jar\n",
            "spark-3.3.1-bin-hadoop3/jars/jackson-mapper-asl-1.9.13.jar\n",
            "spark-3.3.1-bin-hadoop3/jars/jackson-module-scala_2.12-2.13.4.jar\n",
            "spark-3.3.1-bin-hadoop3/jars/jakarta.annotation-api-1.3.5.jar\n",
            "spark-3.3.1-bin-hadoop3/jars/jakarta.inject-2.6.1.jar\n",
            "spark-3.3.1-bin-hadoop3/jars/jakarta.servlet-api-4.0.3.jar\n",
            "spark-3.3.1-bin-hadoop3/jars/jakarta.validation-api-2.0.2.jar\n",
            "spark-3.3.1-bin-hadoop3/jars/jakarta.ws.rs-api-2.1.6.jar\n",
            "spark-3.3.1-bin-hadoop3/jars/jakarta.xml.bind-api-2.3.2.jar\n",
            "spark-3.3.1-bin-hadoop3/jars/janino-3.0.16.jar\n",
            "spark-3.3.1-bin-hadoop3/jars/javassist-3.25.0-GA.jar\n",
            "spark-3.3.1-bin-hadoop3/jars/javax.jdo-3.2.0-m3.jar\n",
            "spark-3.3.1-bin-hadoop3/jars/javolution-5.5.1.jar\n",
            "spark-3.3.1-bin-hadoop3/jars/jaxb-runtime-2.3.2.jar\n",
            "spark-3.3.1-bin-hadoop3/jars/jcl-over-slf4j-1.7.32.jar\n",
            "spark-3.3.1-bin-hadoop3/jars/jdo-api-3.0.1.jar\n",
            "spark-3.3.1-bin-hadoop3/jars/jersey-client-2.36.jar\n",
            "spark-3.3.1-bin-hadoop3/jars/jersey-common-2.36.jar\n",
            "spark-3.3.1-bin-hadoop3/jars/jersey-container-servlet-2.36.jar\n",
            "spark-3.3.1-bin-hadoop3/jars/jersey-container-servlet-core-2.36.jar\n",
            "spark-3.3.1-bin-hadoop3/jars/jersey-hk2-2.36.jar\n",
            "spark-3.3.1-bin-hadoop3/jars/jersey-server-2.36.jar\n",
            "spark-3.3.1-bin-hadoop3/jars/jline-2.14.6.jar\n",
            "spark-3.3.1-bin-hadoop3/jars/joda-time-2.10.13.jar\n",
            "spark-3.3.1-bin-hadoop3/jars/jodd-core-3.5.2.jar\n",
            "spark-3.3.1-bin-hadoop3/jars/jpam-1.1.jar\n",
            "spark-3.3.1-bin-hadoop3/jars/json-1.8.jar\n",
            "spark-3.3.1-bin-hadoop3/jars/json4s-ast_2.12-3.7.0-M11.jar\n",
            "spark-3.3.1-bin-hadoop3/jars/json4s-core_2.12-3.7.0-M11.jar\n",
            "spark-3.3.1-bin-hadoop3/jars/json4s-jackson_2.12-3.7.0-M11.jar\n",
            "spark-3.3.1-bin-hadoop3/jars/json4s-scalap_2.12-3.7.0-M11.jar\n",
            "spark-3.3.1-bin-hadoop3/jars/jsr305-3.0.0.jar\n",
            "spark-3.3.1-bin-hadoop3/jars/jta-1.1.jar\n",
            "spark-3.3.1-bin-hadoop3/jars/jul-to-slf4j-1.7.32.jar\n",
            "spark-3.3.1-bin-hadoop3/jars/kryo-shaded-4.0.2.jar\n",
            "spark-3.3.1-bin-hadoop3/jars/kubernetes-client-5.12.2.jar\n",
            "spark-3.3.1-bin-hadoop3/jars/kubernetes-model-admissionregistration-5.12.2.jar\n",
            "spark-3.3.1-bin-hadoop3/jars/kubernetes-model-apiextensions-5.12.2.jar\n",
            "spark-3.3.1-bin-hadoop3/jars/kubernetes-model-apps-5.12.2.jar\n",
            "spark-3.3.1-bin-hadoop3/jars/kubernetes-model-autoscaling-5.12.2.jar\n",
            "spark-3.3.1-bin-hadoop3/jars/kubernetes-model-batch-5.12.2.jar\n",
            "spark-3.3.1-bin-hadoop3/jars/kubernetes-model-certificates-5.12.2.jar\n",
            "spark-3.3.1-bin-hadoop3/jars/kubernetes-model-common-5.12.2.jar\n",
            "spark-3.3.1-bin-hadoop3/jars/kubernetes-model-coordination-5.12.2.jar\n",
            "spark-3.3.1-bin-hadoop3/jars/kubernetes-model-core-5.12.2.jar\n",
            "spark-3.3.1-bin-hadoop3/jars/kubernetes-model-discovery-5.12.2.jar\n",
            "spark-3.3.1-bin-hadoop3/jars/kubernetes-model-events-5.12.2.jar\n",
            "spark-3.3.1-bin-hadoop3/jars/kubernetes-model-extensions-5.12.2.jar\n",
            "spark-3.3.1-bin-hadoop3/jars/kubernetes-model-flowcontrol-5.12.2.jar\n",
            "spark-3.3.1-bin-hadoop3/jars/kubernetes-model-metrics-5.12.2.jar\n",
            "spark-3.3.1-bin-hadoop3/jars/kubernetes-model-networking-5.12.2.jar\n",
            "spark-3.3.1-bin-hadoop3/jars/kubernetes-model-node-5.12.2.jar\n",
            "spark-3.3.1-bin-hadoop3/jars/kubernetes-model-policy-5.12.2.jar\n",
            "spark-3.3.1-bin-hadoop3/jars/kubernetes-model-rbac-5.12.2.jar\n",
            "spark-3.3.1-bin-hadoop3/jars/kubernetes-model-scheduling-5.12.2.jar\n",
            "spark-3.3.1-bin-hadoop3/jars/kubernetes-model-storageclass-5.12.2.jar\n",
            "spark-3.3.1-bin-hadoop3/jars/lapack-2.2.1.jar\n",
            "spark-3.3.1-bin-hadoop3/jars/leveldbjni-all-1.8.jar\n",
            "spark-3.3.1-bin-hadoop3/jars/libfb303-0.9.3.jar\n",
            "spark-3.3.1-bin-hadoop3/jars/libthrift-0.12.0.jar\n",
            "spark-3.3.1-bin-hadoop3/jars/log4j-1.2-api-2.17.2.jar\n",
            "spark-3.3.1-bin-hadoop3/jars/log4j-api-2.17.2.jar\n",
            "spark-3.3.1-bin-hadoop3/jars/log4j-core-2.17.2.jar\n",
            "spark-3.3.1-bin-hadoop3/jars/log4j-slf4j-impl-2.17.2.jar\n",
            "spark-3.3.1-bin-hadoop3/jars/logging-interceptor-3.12.12.jar\n",
            "spark-3.3.1-bin-hadoop3/jars/lz4-java-1.8.0.jar\n",
            "spark-3.3.1-bin-hadoop3/jars/mesos-1.4.3-shaded-protobuf.jar\n",
            "spark-3.3.1-bin-hadoop3/jars/metrics-core-4.2.7.jar\n",
            "spark-3.3.1-bin-hadoop3/jars/metrics-graphite-4.2.7.jar\n",
            "spark-3.3.1-bin-hadoop3/jars/metrics-jmx-4.2.7.jar\n",
            "spark-3.3.1-bin-hadoop3/jars/metrics-json-4.2.7.jar\n",
            "spark-3.3.1-bin-hadoop3/jars/metrics-jvm-4.2.7.jar\n",
            "spark-3.3.1-bin-hadoop3/jars/minlog-1.3.0.jar\n",
            "spark-3.3.1-bin-hadoop3/jars/netty-all-4.1.74.Final.jar\n",
            "spark-3.3.1-bin-hadoop3/jars/netty-buffer-4.1.74.Final.jar\n",
            "spark-3.3.1-bin-hadoop3/jars/netty-codec-4.1.74.Final.jar\n",
            "spark-3.3.1-bin-hadoop3/jars/netty-common-4.1.74.Final.jar\n",
            "spark-3.3.1-bin-hadoop3/jars/netty-handler-4.1.74.Final.jar\n",
            "spark-3.3.1-bin-hadoop3/jars/netty-resolver-4.1.74.Final.jar\n",
            "spark-3.3.1-bin-hadoop3/jars/netty-tcnative-classes-2.0.48.Final.jar\n",
            "spark-3.3.1-bin-hadoop3/jars/netty-transport-4.1.74.Final.jar\n",
            "spark-3.3.1-bin-hadoop3/jars/netty-transport-classes-epoll-4.1.74.Final.jar\n",
            "spark-3.3.1-bin-hadoop3/jars/netty-transport-classes-kqueue-4.1.74.Final.jar\n",
            "spark-3.3.1-bin-hadoop3/jars/netty-transport-native-epoll-4.1.74.Final-linux-aarch_64.jar\n",
            "spark-3.3.1-bin-hadoop3/jars/netty-transport-native-epoll-4.1.74.Final-linux-x86_64.jar\n",
            "spark-3.3.1-bin-hadoop3/jars/netty-transport-native-kqueue-4.1.74.Final-osx-aarch_64.jar\n",
            "spark-3.3.1-bin-hadoop3/jars/netty-transport-native-kqueue-4.1.74.Final-osx-x86_64.jar\n",
            "spark-3.3.1-bin-hadoop3/jars/netty-transport-native-unix-common-4.1.74.Final.jar\n",
            "spark-3.3.1-bin-hadoop3/jars/objenesis-3.2.jar\n",
            "spark-3.3.1-bin-hadoop3/jars/okhttp-3.12.12.jar\n",
            "spark-3.3.1-bin-hadoop3/jars/okio-1.14.0.jar\n",
            "spark-3.3.1-bin-hadoop3/jars/opencsv-2.3.jar\n",
            "spark-3.3.1-bin-hadoop3/jars/orc-core-1.7.6.jar\n",
            "spark-3.3.1-bin-hadoop3/jars/orc-mapreduce-1.7.6.jar\n",
            "spark-3.3.1-bin-hadoop3/jars/orc-shims-1.7.6.jar\n",
            "spark-3.3.1-bin-hadoop3/jars/oro-2.0.8.jar\n",
            "spark-3.3.1-bin-hadoop3/jars/osgi-resource-locator-1.0.3.jar\n",
            "spark-3.3.1-bin-hadoop3/jars/paranamer-2.8.jar\n",
            "spark-3.3.1-bin-hadoop3/jars/parquet-column-1.12.2.jar\n",
            "spark-3.3.1-bin-hadoop3/jars/parquet-common-1.12.2.jar\n",
            "spark-3.3.1-bin-hadoop3/jars/parquet-encoding-1.12.2.jar\n",
            "spark-3.3.1-bin-hadoop3/jars/parquet-format-structures-1.12.2.jar\n",
            "spark-3.3.1-bin-hadoop3/jars/parquet-hadoop-1.12.2.jar\n",
            "spark-3.3.1-bin-hadoop3/jars/parquet-jackson-1.12.2.jar\n",
            "spark-3.3.1-bin-hadoop3/jars/pickle-1.2.jar\n",
            "spark-3.3.1-bin-hadoop3/jars/protobuf-java-2.5.0.jar\n",
            "spark-3.3.1-bin-hadoop3/jars/py4j-0.10.9.5.jar\n",
            "spark-3.3.1-bin-hadoop3/jars/rocksdbjni-6.20.3.jar\n",
            "spark-3.3.1-bin-hadoop3/jars/scala-collection-compat_2.12-2.1.1.jar\n",
            "spark-3.3.1-bin-hadoop3/jars/scala-compiler-2.12.15.jar\n",
            "spark-3.3.1-bin-hadoop3/jars/scala-library-2.12.15.jar\n",
            "spark-3.3.1-bin-hadoop3/jars/scala-parser-combinators_2.12-1.1.2.jar\n",
            "spark-3.3.1-bin-hadoop3/jars/scala-reflect-2.12.15.jar\n",
            "spark-3.3.1-bin-hadoop3/jars/scala-xml_2.12-1.2.0.jar\n",
            "spark-3.3.1-bin-hadoop3/jars/shapeless_2.12-2.3.7.jar\n",
            "spark-3.3.1-bin-hadoop3/jars/shims-0.9.25.jar\n",
            "spark-3.3.1-bin-hadoop3/jars/slf4j-api-1.7.32.jar\n",
            "spark-3.3.1-bin-hadoop3/jars/snakeyaml-1.31.jar\n",
            "spark-3.3.1-bin-hadoop3/jars/snappy-java-1.1.8.4.jar\n",
            "spark-3.3.1-bin-hadoop3/jars/spark-catalyst_2.12-3.3.1.jar\n",
            "spark-3.3.1-bin-hadoop3/jars/spark-core_2.12-3.3.1.jar\n",
            "spark-3.3.1-bin-hadoop3/jars/spark-graphx_2.12-3.3.1.jar\n",
            "spark-3.3.1-bin-hadoop3/jars/spark-hive-thriftserver_2.12-3.3.1.jar\n",
            "spark-3.3.1-bin-hadoop3/jars/spark-hive_2.12-3.3.1.jar\n",
            "spark-3.3.1-bin-hadoop3/jars/spark-kubernetes_2.12-3.3.1.jar\n",
            "spark-3.3.1-bin-hadoop3/jars/spark-kvstore_2.12-3.3.1.jar\n",
            "spark-3.3.1-bin-hadoop3/jars/spark-launcher_2.12-3.3.1.jar\n",
            "spark-3.3.1-bin-hadoop3/jars/spark-mesos_2.12-3.3.1.jar\n",
            "spark-3.3.1-bin-hadoop3/jars/spark-mllib-local_2.12-3.3.1.jar\n",
            "spark-3.3.1-bin-hadoop3/jars/spark-mllib_2.12-3.3.1.jar\n",
            "spark-3.3.1-bin-hadoop3/jars/spark-network-common_2.12-3.3.1.jar\n",
            "spark-3.3.1-bin-hadoop3/jars/spark-network-shuffle_2.12-3.3.1.jar\n",
            "spark-3.3.1-bin-hadoop3/jars/spark-repl_2.12-3.3.1.jar\n",
            "spark-3.3.1-bin-hadoop3/jars/spark-sketch_2.12-3.3.1.jar\n",
            "spark-3.3.1-bin-hadoop3/jars/spark-sql_2.12-3.3.1.jar\n",
            "spark-3.3.1-bin-hadoop3/jars/spark-streaming_2.12-3.3.1.jar\n",
            "spark-3.3.1-bin-hadoop3/jars/spark-tags_2.12-3.3.1-tests.jar\n",
            "spark-3.3.1-bin-hadoop3/jars/spark-tags_2.12-3.3.1.jar\n",
            "spark-3.3.1-bin-hadoop3/jars/spark-unsafe_2.12-3.3.1.jar\n",
            "spark-3.3.1-bin-hadoop3/jars/spark-yarn_2.12-3.3.1.jar\n",
            "spark-3.3.1-bin-hadoop3/jars/spire-macros_2.12-0.17.0.jar\n",
            "spark-3.3.1-bin-hadoop3/jars/spire-platform_2.12-0.17.0.jar\n",
            "spark-3.3.1-bin-hadoop3/jars/spire-util_2.12-0.17.0.jar\n",
            "spark-3.3.1-bin-hadoop3/jars/spire_2.12-0.17.0.jar\n",
            "spark-3.3.1-bin-hadoop3/jars/stax-api-1.0.1.jar\n",
            "spark-3.3.1-bin-hadoop3/jars/stream-2.9.6.jar\n",
            "spark-3.3.1-bin-hadoop3/jars/super-csv-2.2.0.jar\n",
            "spark-3.3.1-bin-hadoop3/jars/threeten-extra-1.5.0.jar\n",
            "spark-3.3.1-bin-hadoop3/jars/tink-1.6.1.jar\n",
            "spark-3.3.1-bin-hadoop3/jars/transaction-api-1.1.jar\n",
            "spark-3.3.1-bin-hadoop3/jars/univocity-parsers-2.9.1.jar\n",
            "spark-3.3.1-bin-hadoop3/jars/velocity-1.5.jar\n",
            "spark-3.3.1-bin-hadoop3/jars/xbean-asm9-shaded-4.20.jar\n",
            "spark-3.3.1-bin-hadoop3/jars/xz-1.8.jar\n",
            "spark-3.3.1-bin-hadoop3/jars/zjsonpatch-0.3.0.jar\n",
            "spark-3.3.1-bin-hadoop3/jars/zookeeper-3.6.2.jar\n",
            "spark-3.3.1-bin-hadoop3/jars/zookeeper-jute-3.6.2.jar\n",
            "spark-3.3.1-bin-hadoop3/jars/zstd-jni-1.5.2-1.jar\n",
            "spark-3.3.1-bin-hadoop3/kubernetes/\n",
            "spark-3.3.1-bin-hadoop3/kubernetes/dockerfiles/\n",
            "spark-3.3.1-bin-hadoop3/kubernetes/dockerfiles/spark/\n",
            "spark-3.3.1-bin-hadoop3/kubernetes/dockerfiles/spark/Dockerfile\n",
            "spark-3.3.1-bin-hadoop3/kubernetes/dockerfiles/spark/Dockerfile.java17\n",
            "spark-3.3.1-bin-hadoop3/kubernetes/dockerfiles/spark/bindings/\n",
            "spark-3.3.1-bin-hadoop3/kubernetes/dockerfiles/spark/bindings/R/\n",
            "spark-3.3.1-bin-hadoop3/kubernetes/dockerfiles/spark/bindings/R/Dockerfile\n",
            "spark-3.3.1-bin-hadoop3/kubernetes/dockerfiles/spark/bindings/python/\n",
            "spark-3.3.1-bin-hadoop3/kubernetes/dockerfiles/spark/bindings/python/Dockerfile\n",
            "spark-3.3.1-bin-hadoop3/kubernetes/dockerfiles/spark/decom.sh\n",
            "spark-3.3.1-bin-hadoop3/kubernetes/dockerfiles/spark/entrypoint.sh\n",
            "spark-3.3.1-bin-hadoop3/kubernetes/tests/\n",
            "spark-3.3.1-bin-hadoop3/kubernetes/tests/autoscale.py\n",
            "spark-3.3.1-bin-hadoop3/kubernetes/tests/decommissioning.py\n",
            "spark-3.3.1-bin-hadoop3/kubernetes/tests/decommissioning_cleanup.py\n",
            "spark-3.3.1-bin-hadoop3/kubernetes/tests/py_container_checks.py\n",
            "spark-3.3.1-bin-hadoop3/kubernetes/tests/pyfiles.py\n",
            "spark-3.3.1-bin-hadoop3/kubernetes/tests/python_executable_check.py\n",
            "spark-3.3.1-bin-hadoop3/kubernetes/tests/worker_memory_check.py\n",
            "spark-3.3.1-bin-hadoop3/licenses/\n",
            "spark-3.3.1-bin-hadoop3/licenses/LICENSE-AnchorJS.txt\n",
            "spark-3.3.1-bin-hadoop3/licenses/LICENSE-CC0.txt\n",
            "spark-3.3.1-bin-hadoop3/licenses/LICENSE-JLargeArrays.txt\n",
            "spark-3.3.1-bin-hadoop3/licenses/LICENSE-JTransforms.txt\n",
            "spark-3.3.1-bin-hadoop3/licenses/LICENSE-antlr.txt\n",
            "spark-3.3.1-bin-hadoop3/licenses/LICENSE-arpack.txt\n",
            "spark-3.3.1-bin-hadoop3/licenses/LICENSE-automaton.txt\n",
            "spark-3.3.1-bin-hadoop3/licenses/LICENSE-blas.txt\n",
            "spark-3.3.1-bin-hadoop3/licenses/LICENSE-bootstrap.txt\n",
            "spark-3.3.1-bin-hadoop3/licenses/LICENSE-cloudpickle.txt\n",
            "spark-3.3.1-bin-hadoop3/licenses/LICENSE-d3.min.js.txt\n",
            "spark-3.3.1-bin-hadoop3/licenses/LICENSE-dagre-d3.txt\n",
            "spark-3.3.1-bin-hadoop3/licenses/LICENSE-datatables.txt\n",
            "spark-3.3.1-bin-hadoop3/licenses/LICENSE-dnsjava.txt\n",
            "spark-3.3.1-bin-hadoop3/licenses/LICENSE-f2j.txt\n",
            "spark-3.3.1-bin-hadoop3/licenses/LICENSE-graphlib-dot.txt\n",
            "spark-3.3.1-bin-hadoop3/licenses/LICENSE-istack-commons-runtime.txt\n",
            "spark-3.3.1-bin-hadoop3/licenses/LICENSE-jakarta-annotation-api\n",
            "spark-3.3.1-bin-hadoop3/licenses/LICENSE-jakarta-ws-rs-api\n",
            "spark-3.3.1-bin-hadoop3/licenses/LICENSE-jakarta.activation-api.txt\n",
            "spark-3.3.1-bin-hadoop3/licenses/LICENSE-jakarta.xml.bind-api.txt\n",
            "spark-3.3.1-bin-hadoop3/licenses/LICENSE-janino.txt\n",
            "spark-3.3.1-bin-hadoop3/licenses/LICENSE-javassist.html\n",
            "spark-3.3.1-bin-hadoop3/licenses/LICENSE-javax-transaction-transaction-api.txt\n",
            "spark-3.3.1-bin-hadoop3/licenses/LICENSE-javolution.txt\n",
            "spark-3.3.1-bin-hadoop3/licenses/LICENSE-jaxb-runtime.txt\n",
            "spark-3.3.1-bin-hadoop3/licenses/LICENSE-jline.txt\n",
            "spark-3.3.1-bin-hadoop3/licenses/LICENSE-jodd.txt\n",
            "spark-3.3.1-bin-hadoop3/licenses/LICENSE-join.txt\n",
            "spark-3.3.1-bin-hadoop3/licenses/LICENSE-jquery.txt\n",
            "spark-3.3.1-bin-hadoop3/licenses/LICENSE-json-formatter.txt\n",
            "spark-3.3.1-bin-hadoop3/licenses/LICENSE-jsp-api.txt\n",
            "spark-3.3.1-bin-hadoop3/licenses/LICENSE-kryo.txt\n",
            "spark-3.3.1-bin-hadoop3/licenses/LICENSE-leveldbjni.txt\n",
            "spark-3.3.1-bin-hadoop3/licenses/LICENSE-machinist.txt\n",
            "spark-3.3.1-bin-hadoop3/licenses/LICENSE-matchMedia-polyfill.txt\n",
            "spark-3.3.1-bin-hadoop3/licenses/LICENSE-minlog.txt\n",
            "spark-3.3.1-bin-hadoop3/licenses/LICENSE-modernizr.txt\n",
            "spark-3.3.1-bin-hadoop3/licenses/LICENSE-mustache.txt\n",
            "spark-3.3.1-bin-hadoop3/licenses/LICENSE-netlib.txt\n",
            "spark-3.3.1-bin-hadoop3/licenses/LICENSE-paranamer.txt\n",
            "spark-3.3.1-bin-hadoop3/licenses/LICENSE-pmml-model.txt\n",
            "spark-3.3.1-bin-hadoop3/licenses/LICENSE-protobuf.txt\n",
            "spark-3.3.1-bin-hadoop3/licenses/LICENSE-py4j.txt\n",
            "spark-3.3.1-bin-hadoop3/licenses/LICENSE-pyrolite.txt\n",
            "spark-3.3.1-bin-hadoop3/licenses/LICENSE-re2j.txt\n",
            "spark-3.3.1-bin-hadoop3/licenses/LICENSE-reflectasm.txt\n",
            "spark-3.3.1-bin-hadoop3/licenses/LICENSE-respond.txt\n",
            "spark-3.3.1-bin-hadoop3/licenses/LICENSE-sbt-launch-lib.txt\n",
            "spark-3.3.1-bin-hadoop3/licenses/LICENSE-scala.txt\n",
            "spark-3.3.1-bin-hadoop3/licenses/LICENSE-scopt.txt\n",
            "spark-3.3.1-bin-hadoop3/licenses/LICENSE-slf4j.txt\n",
            "spark-3.3.1-bin-hadoop3/licenses/LICENSE-sorttable.js.txt\n",
            "spark-3.3.1-bin-hadoop3/licenses/LICENSE-spire.txt\n",
            "spark-3.3.1-bin-hadoop3/licenses/LICENSE-vis-timeline.txt\n",
            "spark-3.3.1-bin-hadoop3/licenses/LICENSE-xmlenc.txt\n",
            "spark-3.3.1-bin-hadoop3/licenses/LICENSE-zstd-jni.txt\n",
            "spark-3.3.1-bin-hadoop3/licenses/LICENSE-zstd.txt\n",
            "spark-3.3.1-bin-hadoop3/python/\n",
            "spark-3.3.1-bin-hadoop3/python/.coveragerc\n",
            "spark-3.3.1-bin-hadoop3/python/.gitignore\n",
            "spark-3.3.1-bin-hadoop3/python/MANIFEST.in\n",
            "spark-3.3.1-bin-hadoop3/python/README.md\n",
            "spark-3.3.1-bin-hadoop3/python/dist/\n",
            "spark-3.3.1-bin-hadoop3/python/docs/\n",
            "spark-3.3.1-bin-hadoop3/python/docs/Makefile\n",
            "spark-3.3.1-bin-hadoop3/python/docs/make.bat\n",
            "spark-3.3.1-bin-hadoop3/python/docs/make2.bat\n",
            "spark-3.3.1-bin-hadoop3/python/docs/source/\n",
            "spark-3.3.1-bin-hadoop3/python/docs/source/_static/\n",
            "spark-3.3.1-bin-hadoop3/python/docs/source/_static/copybutton.js\n",
            "spark-3.3.1-bin-hadoop3/python/docs/source/_static/css/\n",
            "spark-3.3.1-bin-hadoop3/python/docs/source/_static/css/pyspark.css\n",
            "spark-3.3.1-bin-hadoop3/python/docs/source/_templates/\n",
            "spark-3.3.1-bin-hadoop3/python/docs/source/_templates/autosummary/\n",
            "spark-3.3.1-bin-hadoop3/python/docs/source/_templates/autosummary/class.rst\n",
            "spark-3.3.1-bin-hadoop3/python/docs/source/_templates/autosummary/class_with_docs.rst\n",
            "spark-3.3.1-bin-hadoop3/python/docs/source/conf.py\n",
            "spark-3.3.1-bin-hadoop3/python/docs/source/development/\n",
            "spark-3.3.1-bin-hadoop3/python/docs/source/development/contributing.rst\n",
            "spark-3.3.1-bin-hadoop3/python/docs/source/development/debugging.rst\n",
            "spark-3.3.1-bin-hadoop3/python/docs/source/development/index.rst\n",
            "spark-3.3.1-bin-hadoop3/python/docs/source/development/setting_ide.rst\n",
            "spark-3.3.1-bin-hadoop3/python/docs/source/development/testing.rst\n",
            "spark-3.3.1-bin-hadoop3/python/docs/source/getting_started/\n",
            "spark-3.3.1-bin-hadoop3/python/docs/source/getting_started/index.rst\n",
            "spark-3.3.1-bin-hadoop3/python/docs/source/getting_started/install.rst\n",
            "spark-3.3.1-bin-hadoop3/python/docs/source/getting_started/quickstart_df.ipynb\n",
            "spark-3.3.1-bin-hadoop3/python/docs/source/getting_started/quickstart_ps.ipynb\n",
            "spark-3.3.1-bin-hadoop3/python/docs/source/index.rst\n",
            "spark-3.3.1-bin-hadoop3/python/docs/source/migration_guide/\n",
            "spark-3.3.1-bin-hadoop3/python/docs/source/migration_guide/index.rst\n",
            "spark-3.3.1-bin-hadoop3/python/docs/source/migration_guide/koalas_to_pyspark.rst\n",
            "spark-3.3.1-bin-hadoop3/python/docs/source/migration_guide/pyspark_1.0_1.2_to_1.3.rst\n",
            "spark-3.3.1-bin-hadoop3/python/docs/source/migration_guide/pyspark_1.4_to_1.5.rst\n",
            "spark-3.3.1-bin-hadoop3/python/docs/source/migration_guide/pyspark_2.2_to_2.3.rst\n",
            "spark-3.3.1-bin-hadoop3/python/docs/source/migration_guide/pyspark_2.3.0_to_2.3.1_above.rst\n",
            "spark-3.3.1-bin-hadoop3/python/docs/source/migration_guide/pyspark_2.3_to_2.4.rst\n",
            "spark-3.3.1-bin-hadoop3/python/docs/source/migration_guide/pyspark_2.4_to_3.0.rst\n",
            "spark-3.3.1-bin-hadoop3/python/docs/source/migration_guide/pyspark_3.1_to_3.2.rst\n",
            "spark-3.3.1-bin-hadoop3/python/docs/source/migration_guide/pyspark_3.2_to_3.3.rst\n",
            "spark-3.3.1-bin-hadoop3/python/docs/source/reference/\n",
            "spark-3.3.1-bin-hadoop3/python/docs/source/reference/index.rst\n",
            "spark-3.3.1-bin-hadoop3/python/docs/source/reference/pyspark.ml.rst\n",
            "spark-3.3.1-bin-hadoop3/python/docs/source/reference/pyspark.mllib.rst\n",
            "spark-3.3.1-bin-hadoop3/python/docs/source/reference/pyspark.pandas/\n",
            "spark-3.3.1-bin-hadoop3/python/docs/source/reference/pyspark.pandas/extensions.rst\n",
            "spark-3.3.1-bin-hadoop3/python/docs/source/reference/pyspark.pandas/frame.rst\n",
            "spark-3.3.1-bin-hadoop3/python/docs/source/reference/pyspark.pandas/general_functions.rst\n",
            "spark-3.3.1-bin-hadoop3/python/docs/source/reference/pyspark.pandas/groupby.rst\n",
            "spark-3.3.1-bin-hadoop3/python/docs/source/reference/pyspark.pandas/index.rst\n",
            "spark-3.3.1-bin-hadoop3/python/docs/source/reference/pyspark.pandas/indexing.rst\n",
            "spark-3.3.1-bin-hadoop3/python/docs/source/reference/pyspark.pandas/io.rst\n",
            "spark-3.3.1-bin-hadoop3/python/docs/source/reference/pyspark.pandas/ml.rst\n",
            "spark-3.3.1-bin-hadoop3/python/docs/source/reference/pyspark.pandas/series.rst\n",
            "spark-3.3.1-bin-hadoop3/python/docs/source/reference/pyspark.pandas/window.rst\n",
            "spark-3.3.1-bin-hadoop3/python/docs/source/reference/pyspark.resource.rst\n",
            "spark-3.3.1-bin-hadoop3/python/docs/source/reference/pyspark.rst\n",
            "spark-3.3.1-bin-hadoop3/python/docs/source/reference/pyspark.sql/\n",
            "spark-3.3.1-bin-hadoop3/python/docs/source/reference/pyspark.sql/avro.rst\n",
            "spark-3.3.1-bin-hadoop3/python/docs/source/reference/pyspark.sql/catalog.rst\n",
            "spark-3.3.1-bin-hadoop3/python/docs/source/reference/pyspark.sql/column.rst\n",
            "spark-3.3.1-bin-hadoop3/python/docs/source/reference/pyspark.sql/configuration.rst\n",
            "spark-3.3.1-bin-hadoop3/python/docs/source/reference/pyspark.sql/core_classes.rst\n",
            "spark-3.3.1-bin-hadoop3/python/docs/source/reference/pyspark.sql/data_types.rst\n",
            "spark-3.3.1-bin-hadoop3/python/docs/source/reference/pyspark.sql/dataframe.rst\n",
            "spark-3.3.1-bin-hadoop3/python/docs/source/reference/pyspark.sql/functions.rst\n",
            "spark-3.3.1-bin-hadoop3/python/docs/source/reference/pyspark.sql/grouping.rst\n",
            "spark-3.3.1-bin-hadoop3/python/docs/source/reference/pyspark.sql/index.rst\n",
            "spark-3.3.1-bin-hadoop3/python/docs/source/reference/pyspark.sql/io.rst\n",
            "spark-3.3.1-bin-hadoop3/python/docs/source/reference/pyspark.sql/observation.rst\n",
            "spark-3.3.1-bin-hadoop3/python/docs/source/reference/pyspark.sql/row.rst\n",
            "spark-3.3.1-bin-hadoop3/python/docs/source/reference/pyspark.sql/spark_session.rst\n",
            "spark-3.3.1-bin-hadoop3/python/docs/source/reference/pyspark.sql/window.rst\n",
            "spark-3.3.1-bin-hadoop3/python/docs/source/reference/pyspark.ss/\n",
            "spark-3.3.1-bin-hadoop3/python/docs/source/reference/pyspark.ss/core_classes.rst\n",
            "spark-3.3.1-bin-hadoop3/python/docs/source/reference/pyspark.ss/index.rst\n",
            "spark-3.3.1-bin-hadoop3/python/docs/source/reference/pyspark.ss/io.rst\n",
            "spark-3.3.1-bin-hadoop3/python/docs/source/reference/pyspark.ss/query_management.rst\n",
            "spark-3.3.1-bin-hadoop3/python/docs/source/reference/pyspark.streaming.rst\n",
            "spark-3.3.1-bin-hadoop3/python/docs/source/user_guide/\n",
            "spark-3.3.1-bin-hadoop3/python/docs/source/user_guide/arrow_pandas.rst\n",
            "spark-3.3.1-bin-hadoop3/python/docs/source/user_guide/index.rst\n",
            "spark-3.3.1-bin-hadoop3/python/docs/source/user_guide/pandas_on_spark/\n",
            "spark-3.3.1-bin-hadoop3/python/docs/source/user_guide/pandas_on_spark/best_practices.rst\n",
            "spark-3.3.1-bin-hadoop3/python/docs/source/user_guide/pandas_on_spark/faq.rst\n",
            "spark-3.3.1-bin-hadoop3/python/docs/source/user_guide/pandas_on_spark/from_to_dbms.rst\n",
            "spark-3.3.1-bin-hadoop3/python/docs/source/user_guide/pandas_on_spark/index.rst\n",
            "spark-3.3.1-bin-hadoop3/python/docs/source/user_guide/pandas_on_spark/options.rst\n",
            "spark-3.3.1-bin-hadoop3/python/docs/source/user_guide/pandas_on_spark/pandas_pyspark.rst\n",
            "spark-3.3.1-bin-hadoop3/python/docs/source/user_guide/pandas_on_spark/supported_pandas_api.rst\n",
            "spark-3.3.1-bin-hadoop3/python/docs/source/user_guide/pandas_on_spark/transform_apply.rst\n",
            "spark-3.3.1-bin-hadoop3/python/docs/source/user_guide/pandas_on_spark/typehints.rst\n",
            "spark-3.3.1-bin-hadoop3/python/docs/source/user_guide/pandas_on_spark/types.rst\n",
            "spark-3.3.1-bin-hadoop3/python/docs/source/user_guide/python_packaging.rst\n",
            "spark-3.3.1-bin-hadoop3/python/docs/source/user_guide/sql/\n",
            "spark-3.3.1-bin-hadoop3/python/docs/source/user_guide/sql/arrow_pandas.rst\n",
            "spark-3.3.1-bin-hadoop3/python/docs/source/user_guide/sql/index.rst\n",
            "spark-3.3.1-bin-hadoop3/python/lib/\n",
            "spark-3.3.1-bin-hadoop3/python/lib/PY4J_LICENSE.txt\n",
            "spark-3.3.1-bin-hadoop3/python/lib/py4j-0.10.9.5-src.zip\n",
            "spark-3.3.1-bin-hadoop3/python/lib/pyspark.zip\n",
            "spark-3.3.1-bin-hadoop3/python/mypy.ini\n",
            "spark-3.3.1-bin-hadoop3/python/pyspark/\n",
            "spark-3.3.1-bin-hadoop3/python/pyspark/__init__.py\n",
            "spark-3.3.1-bin-hadoop3/python/pyspark/__pycache__/\n",
            "spark-3.3.1-bin-hadoop3/python/pyspark/__pycache__/install.cpython-38.pyc\n",
            "spark-3.3.1-bin-hadoop3/python/pyspark/_globals.py\n",
            "spark-3.3.1-bin-hadoop3/python/pyspark/_typing.pyi\n",
            "spark-3.3.1-bin-hadoop3/python/pyspark/accumulators.py\n",
            "spark-3.3.1-bin-hadoop3/python/pyspark/broadcast.py\n",
            "spark-3.3.1-bin-hadoop3/python/pyspark/cloudpickle/\n",
            "spark-3.3.1-bin-hadoop3/python/pyspark/cloudpickle/__init__.py\n",
            "spark-3.3.1-bin-hadoop3/python/pyspark/cloudpickle/cloudpickle.py\n",
            "spark-3.3.1-bin-hadoop3/python/pyspark/cloudpickle/cloudpickle_fast.py\n",
            "spark-3.3.1-bin-hadoop3/python/pyspark/cloudpickle/compat.py\n",
            "spark-3.3.1-bin-hadoop3/python/pyspark/conf.py\n",
            "spark-3.3.1-bin-hadoop3/python/pyspark/context.py\n",
            "spark-3.3.1-bin-hadoop3/python/pyspark/daemon.py\n",
            "spark-3.3.1-bin-hadoop3/python/pyspark/files.py\n",
            "spark-3.3.1-bin-hadoop3/python/pyspark/find_spark_home.py\n",
            "spark-3.3.1-bin-hadoop3/python/pyspark/install.py\n",
            "spark-3.3.1-bin-hadoop3/python/pyspark/instrumentation_utils.py\n",
            "spark-3.3.1-bin-hadoop3/python/pyspark/java_gateway.py\n",
            "spark-3.3.1-bin-hadoop3/python/pyspark/join.py\n",
            "spark-3.3.1-bin-hadoop3/python/pyspark/ml/\n",
            "spark-3.3.1-bin-hadoop3/python/pyspark/ml/__init__.py\n",
            "spark-3.3.1-bin-hadoop3/python/pyspark/ml/_typing.pyi\n",
            "spark-3.3.1-bin-hadoop3/python/pyspark/ml/base.py\n",
            "spark-3.3.1-bin-hadoop3/python/pyspark/ml/classification.py\n",
            "spark-3.3.1-bin-hadoop3/python/pyspark/ml/clustering.py\n",
            "spark-3.3.1-bin-hadoop3/python/pyspark/ml/common.py\n",
            "spark-3.3.1-bin-hadoop3/python/pyspark/ml/evaluation.py\n",
            "spark-3.3.1-bin-hadoop3/python/pyspark/ml/feature.py\n",
            "spark-3.3.1-bin-hadoop3/python/pyspark/ml/fpm.py\n",
            "spark-3.3.1-bin-hadoop3/python/pyspark/ml/functions.py\n",
            "spark-3.3.1-bin-hadoop3/python/pyspark/ml/image.py\n",
            "spark-3.3.1-bin-hadoop3/python/pyspark/ml/linalg/\n",
            "spark-3.3.1-bin-hadoop3/python/pyspark/ml/linalg/__init__.py\n",
            "spark-3.3.1-bin-hadoop3/python/pyspark/ml/param/\n",
            "spark-3.3.1-bin-hadoop3/python/pyspark/ml/param/__init__.py\n",
            "spark-3.3.1-bin-hadoop3/python/pyspark/ml/param/_shared_params_code_gen.py\n",
            "spark-3.3.1-bin-hadoop3/python/pyspark/ml/param/shared.py\n",
            "spark-3.3.1-bin-hadoop3/python/pyspark/ml/pipeline.py\n",
            "spark-3.3.1-bin-hadoop3/python/pyspark/ml/recommendation.py\n",
            "spark-3.3.1-bin-hadoop3/python/pyspark/ml/regression.py\n",
            "spark-3.3.1-bin-hadoop3/python/pyspark/ml/stat.py\n",
            "spark-3.3.1-bin-hadoop3/python/pyspark/ml/tests/\n",
            "spark-3.3.1-bin-hadoop3/python/pyspark/ml/tests/__init__.py\n",
            "spark-3.3.1-bin-hadoop3/python/pyspark/ml/tests/test_algorithms.py\n",
            "spark-3.3.1-bin-hadoop3/python/pyspark/ml/tests/test_base.py\n",
            "spark-3.3.1-bin-hadoop3/python/pyspark/ml/tests/test_evaluation.py\n",
            "spark-3.3.1-bin-hadoop3/python/pyspark/ml/tests/test_feature.py\n",
            "spark-3.3.1-bin-hadoop3/python/pyspark/ml/tests/test_image.py\n",
            "spark-3.3.1-bin-hadoop3/python/pyspark/ml/tests/test_linalg.py\n",
            "spark-3.3.1-bin-hadoop3/python/pyspark/ml/tests/test_param.py\n",
            "spark-3.3.1-bin-hadoop3/python/pyspark/ml/tests/test_persistence.py\n",
            "spark-3.3.1-bin-hadoop3/python/pyspark/ml/tests/test_pipeline.py\n",
            "spark-3.3.1-bin-hadoop3/python/pyspark/ml/tests/test_stat.py\n",
            "spark-3.3.1-bin-hadoop3/python/pyspark/ml/tests/test_training_summary.py\n",
            "spark-3.3.1-bin-hadoop3/python/pyspark/ml/tests/test_tuning.py\n",
            "spark-3.3.1-bin-hadoop3/python/pyspark/ml/tests/test_util.py\n",
            "spark-3.3.1-bin-hadoop3/python/pyspark/ml/tests/test_wrapper.py\n",
            "spark-3.3.1-bin-hadoop3/python/pyspark/ml/tests/typing/\n",
            "spark-3.3.1-bin-hadoop3/python/pyspark/ml/tests/typing/test_classification.yml\n",
            "spark-3.3.1-bin-hadoop3/python/pyspark/ml/tests/typing/test_clustering.yaml\n",
            "spark-3.3.1-bin-hadoop3/python/pyspark/ml/tests/typing/test_evaluation.yml\n",
            "spark-3.3.1-bin-hadoop3/python/pyspark/ml/tests/typing/test_feature.yml\n",
            "spark-3.3.1-bin-hadoop3/python/pyspark/ml/tests/typing/test_param.yml\n",
            "spark-3.3.1-bin-hadoop3/python/pyspark/ml/tests/typing/test_readable.yml\n",
            "spark-3.3.1-bin-hadoop3/python/pyspark/ml/tests/typing/test_regression.yml\n",
            "spark-3.3.1-bin-hadoop3/python/pyspark/ml/tree.py\n",
            "spark-3.3.1-bin-hadoop3/python/pyspark/ml/tuning.py\n",
            "spark-3.3.1-bin-hadoop3/python/pyspark/ml/util.py\n",
            "spark-3.3.1-bin-hadoop3/python/pyspark/ml/wrapper.py\n",
            "spark-3.3.1-bin-hadoop3/python/pyspark/mllib/\n",
            "spark-3.3.1-bin-hadoop3/python/pyspark/mllib/__init__.py\n",
            "spark-3.3.1-bin-hadoop3/python/pyspark/mllib/_typing.pyi\n",
            "spark-3.3.1-bin-hadoop3/python/pyspark/mllib/classification.py\n",
            "spark-3.3.1-bin-hadoop3/python/pyspark/mllib/clustering.py\n",
            "spark-3.3.1-bin-hadoop3/python/pyspark/mllib/common.py\n",
            "spark-3.3.1-bin-hadoop3/python/pyspark/mllib/evaluation.py\n",
            "spark-3.3.1-bin-hadoop3/python/pyspark/mllib/feature.py\n",
            "spark-3.3.1-bin-hadoop3/python/pyspark/mllib/fpm.py\n",
            "spark-3.3.1-bin-hadoop3/python/pyspark/mllib/linalg/\n",
            "spark-3.3.1-bin-hadoop3/python/pyspark/mllib/linalg/__init__.py\n",
            "spark-3.3.1-bin-hadoop3/python/pyspark/mllib/linalg/distributed.py\n",
            "spark-3.3.1-bin-hadoop3/python/pyspark/mllib/random.py\n",
            "spark-3.3.1-bin-hadoop3/python/pyspark/mllib/random.pyi\n",
            "spark-3.3.1-bin-hadoop3/python/pyspark/mllib/recommendation.py\n",
            "spark-3.3.1-bin-hadoop3/python/pyspark/mllib/recommendation.pyi\n",
            "spark-3.3.1-bin-hadoop3/python/pyspark/mllib/regression.py\n",
            "spark-3.3.1-bin-hadoop3/python/pyspark/mllib/stat/\n",
            "spark-3.3.1-bin-hadoop3/python/pyspark/mllib/stat/KernelDensity.py\n",
            "spark-3.3.1-bin-hadoop3/python/pyspark/mllib/stat/__init__.py\n",
            "spark-3.3.1-bin-hadoop3/python/pyspark/mllib/stat/_statistics.py\n",
            "spark-3.3.1-bin-hadoop3/python/pyspark/mllib/stat/distribution.py\n",
            "spark-3.3.1-bin-hadoop3/python/pyspark/mllib/stat/test.py\n",
            "spark-3.3.1-bin-hadoop3/python/pyspark/mllib/tests/\n",
            "spark-3.3.1-bin-hadoop3/python/pyspark/mllib/tests/__init__.py\n",
            "spark-3.3.1-bin-hadoop3/python/pyspark/mllib/tests/test_algorithms.py\n",
            "spark-3.3.1-bin-hadoop3/python/pyspark/mllib/tests/test_feature.py\n",
            "spark-3.3.1-bin-hadoop3/python/pyspark/mllib/tests/test_linalg.py\n",
            "spark-3.3.1-bin-hadoop3/python/pyspark/mllib/tests/test_stat.py\n",
            "spark-3.3.1-bin-hadoop3/python/pyspark/mllib/tests/test_streaming_algorithms.py\n",
            "spark-3.3.1-bin-hadoop3/python/pyspark/mllib/tests/test_util.py\n",
            "spark-3.3.1-bin-hadoop3/python/pyspark/mllib/tree.py\n",
            "spark-3.3.1-bin-hadoop3/python/pyspark/mllib/util.py\n",
            "spark-3.3.1-bin-hadoop3/python/pyspark/pandas/\n",
            "spark-3.3.1-bin-hadoop3/python/pyspark/pandas/__init__.py\n",
            "spark-3.3.1-bin-hadoop3/python/pyspark/pandas/_typing.py\n",
            "spark-3.3.1-bin-hadoop3/python/pyspark/pandas/accessors.py\n",
            "spark-3.3.1-bin-hadoop3/python/pyspark/pandas/base.py\n",
            "spark-3.3.1-bin-hadoop3/python/pyspark/pandas/categorical.py\n",
            "spark-3.3.1-bin-hadoop3/python/pyspark/pandas/config.py\n",
            "spark-3.3.1-bin-hadoop3/python/pyspark/pandas/data_type_ops/\n",
            "spark-3.3.1-bin-hadoop3/python/pyspark/pandas/data_type_ops/__init__.py\n",
            "spark-3.3.1-bin-hadoop3/python/pyspark/pandas/data_type_ops/base.py\n",
            "spark-3.3.1-bin-hadoop3/python/pyspark/pandas/data_type_ops/binary_ops.py\n",
            "spark-3.3.1-bin-hadoop3/python/pyspark/pandas/data_type_ops/boolean_ops.py\n",
            "spark-3.3.1-bin-hadoop3/python/pyspark/pandas/data_type_ops/categorical_ops.py\n",
            "spark-3.3.1-bin-hadoop3/python/pyspark/pandas/data_type_ops/complex_ops.py\n",
            "spark-3.3.1-bin-hadoop3/python/pyspark/pandas/data_type_ops/date_ops.py\n",
            "spark-3.3.1-bin-hadoop3/python/pyspark/pandas/data_type_ops/datetime_ops.py\n",
            "spark-3.3.1-bin-hadoop3/python/pyspark/pandas/data_type_ops/null_ops.py\n",
            "spark-3.3.1-bin-hadoop3/python/pyspark/pandas/data_type_ops/num_ops.py\n",
            "spark-3.3.1-bin-hadoop3/python/pyspark/pandas/data_type_ops/string_ops.py\n",
            "spark-3.3.1-bin-hadoop3/python/pyspark/pandas/data_type_ops/timedelta_ops.py\n",
            "spark-3.3.1-bin-hadoop3/python/pyspark/pandas/data_type_ops/udt_ops.py\n",
            "spark-3.3.1-bin-hadoop3/python/pyspark/pandas/datetimes.py\n",
            "spark-3.3.1-bin-hadoop3/python/pyspark/pandas/exceptions.py\n",
            "spark-3.3.1-bin-hadoop3/python/pyspark/pandas/extensions.py\n",
            "spark-3.3.1-bin-hadoop3/python/pyspark/pandas/frame.py\n",
            "spark-3.3.1-bin-hadoop3/python/pyspark/pandas/generic.py\n",
            "spark-3.3.1-bin-hadoop3/python/pyspark/pandas/groupby.py\n",
            "spark-3.3.1-bin-hadoop3/python/pyspark/pandas/indexes/\n",
            "spark-3.3.1-bin-hadoop3/python/pyspark/pandas/indexes/__init__.py\n",
            "spark-3.3.1-bin-hadoop3/python/pyspark/pandas/indexes/base.py\n",
            "spark-3.3.1-bin-hadoop3/python/pyspark/pandas/indexes/category.py\n",
            "spark-3.3.1-bin-hadoop3/python/pyspark/pandas/indexes/datetimes.py\n",
            "spark-3.3.1-bin-hadoop3/python/pyspark/pandas/indexes/multi.py\n",
            "spark-3.3.1-bin-hadoop3/python/pyspark/pandas/indexes/numeric.py\n",
            "spark-3.3.1-bin-hadoop3/python/pyspark/pandas/indexes/timedelta.py\n",
            "spark-3.3.1-bin-hadoop3/python/pyspark/pandas/indexing.py\n",
            "spark-3.3.1-bin-hadoop3/python/pyspark/pandas/internal.py\n",
            "spark-3.3.1-bin-hadoop3/python/pyspark/pandas/missing/\n",
            "spark-3.3.1-bin-hadoop3/python/pyspark/pandas/missing/__init__.py\n",
            "spark-3.3.1-bin-hadoop3/python/pyspark/pandas/missing/common.py\n",
            "spark-3.3.1-bin-hadoop3/python/pyspark/pandas/missing/frame.py\n",
            "spark-3.3.1-bin-hadoop3/python/pyspark/pandas/missing/general_functions.py\n",
            "spark-3.3.1-bin-hadoop3/python/pyspark/pandas/missing/groupby.py\n",
            "spark-3.3.1-bin-hadoop3/python/pyspark/pandas/missing/indexes.py\n",
            "spark-3.3.1-bin-hadoop3/python/pyspark/pandas/missing/series.py\n",
            "spark-3.3.1-bin-hadoop3/python/pyspark/pandas/missing/window.py\n",
            "spark-3.3.1-bin-hadoop3/python/pyspark/pandas/ml.py\n",
            "spark-3.3.1-bin-hadoop3/python/pyspark/pandas/mlflow.py\n",
            "spark-3.3.1-bin-hadoop3/python/pyspark/pandas/namespace.py\n",
            "spark-3.3.1-bin-hadoop3/python/pyspark/pandas/numpy_compat.py\n",
            "spark-3.3.1-bin-hadoop3/python/pyspark/pandas/plot/\n",
            "spark-3.3.1-bin-hadoop3/python/pyspark/pandas/plot/__init__.py\n",
            "spark-3.3.1-bin-hadoop3/python/pyspark/pandas/plot/core.py\n",
            "spark-3.3.1-bin-hadoop3/python/pyspark/pandas/plot/matplotlib.py\n",
            "spark-3.3.1-bin-hadoop3/python/pyspark/pandas/plot/plotly.py\n",
            "spark-3.3.1-bin-hadoop3/python/pyspark/pandas/series.py\n",
            "spark-3.3.1-bin-hadoop3/python/pyspark/pandas/spark/\n",
            "spark-3.3.1-bin-hadoop3/python/pyspark/pandas/spark/__init__.py\n",
            "spark-3.3.1-bin-hadoop3/python/pyspark/pandas/spark/accessors.py\n",
            "spark-3.3.1-bin-hadoop3/python/pyspark/pandas/spark/functions.py\n",
            "spark-3.3.1-bin-hadoop3/python/pyspark/pandas/spark/utils.py\n",
            "spark-3.3.1-bin-hadoop3/python/pyspark/pandas/sql_formatter.py\n",
            "spark-3.3.1-bin-hadoop3/python/pyspark/pandas/sql_processor.py\n",
            "spark-3.3.1-bin-hadoop3/python/pyspark/pandas/strings.py\n",
            "spark-3.3.1-bin-hadoop3/python/pyspark/pandas/tests/\n",
            "spark-3.3.1-bin-hadoop3/python/pyspark/pandas/tests/__init__.py\n",
            "spark-3.3.1-bin-hadoop3/python/pyspark/pandas/tests/data_type_ops/\n",
            "spark-3.3.1-bin-hadoop3/python/pyspark/pandas/tests/data_type_ops/__init__.py\n",
            "spark-3.3.1-bin-hadoop3/python/pyspark/pandas/tests/data_type_ops/test_base.py\n",
            "spark-3.3.1-bin-hadoop3/python/pyspark/pandas/tests/data_type_ops/test_binary_ops.py\n",
            "spark-3.3.1-bin-hadoop3/python/pyspark/pandas/tests/data_type_ops/test_boolean_ops.py\n",
            "spark-3.3.1-bin-hadoop3/python/pyspark/pandas/tests/data_type_ops/test_categorical_ops.py\n",
            "spark-3.3.1-bin-hadoop3/python/pyspark/pandas/tests/data_type_ops/test_complex_ops.py\n",
            "spark-3.3.1-bin-hadoop3/python/pyspark/pandas/tests/data_type_ops/test_date_ops.py\n",
            "spark-3.3.1-bin-hadoop3/python/pyspark/pandas/tests/data_type_ops/test_datetime_ops.py\n",
            "spark-3.3.1-bin-hadoop3/python/pyspark/pandas/tests/data_type_ops/test_null_ops.py\n",
            "spark-3.3.1-bin-hadoop3/python/pyspark/pandas/tests/data_type_ops/test_num_ops.py\n",
            "spark-3.3.1-bin-hadoop3/python/pyspark/pandas/tests/data_type_ops/test_string_ops.py\n",
            "spark-3.3.1-bin-hadoop3/python/pyspark/pandas/tests/data_type_ops/test_timedelta_ops.py\n",
            "spark-3.3.1-bin-hadoop3/python/pyspark/pandas/tests/data_type_ops/test_udt_ops.py\n",
            "spark-3.3.1-bin-hadoop3/python/pyspark/pandas/tests/data_type_ops/testing_utils.py\n",
            "spark-3.3.1-bin-hadoop3/python/pyspark/pandas/tests/indexes/\n",
            "spark-3.3.1-bin-hadoop3/python/pyspark/pandas/tests/indexes/__init__.py\n",
            "spark-3.3.1-bin-hadoop3/python/pyspark/pandas/tests/indexes/test_base.py\n",
            "spark-3.3.1-bin-hadoop3/python/pyspark/pandas/tests/indexes/test_category.py\n",
            "spark-3.3.1-bin-hadoop3/python/pyspark/pandas/tests/indexes/test_datetime.py\n",
            "spark-3.3.1-bin-hadoop3/python/pyspark/pandas/tests/indexes/test_timedelta.py\n",
            "spark-3.3.1-bin-hadoop3/python/pyspark/pandas/tests/plot/\n",
            "spark-3.3.1-bin-hadoop3/python/pyspark/pandas/tests/plot/__init__.py\n",
            "spark-3.3.1-bin-hadoop3/python/pyspark/pandas/tests/plot/test_frame_plot.py\n",
            "spark-3.3.1-bin-hadoop3/python/pyspark/pandas/tests/plot/test_frame_plot_matplotlib.py\n",
            "spark-3.3.1-bin-hadoop3/python/pyspark/pandas/tests/plot/test_frame_plot_plotly.py\n",
            "spark-3.3.1-bin-hadoop3/python/pyspark/pandas/tests/plot/test_series_plot.py\n",
            "spark-3.3.1-bin-hadoop3/python/pyspark/pandas/tests/plot/test_series_plot_matplotlib.py\n",
            "spark-3.3.1-bin-hadoop3/python/pyspark/pandas/tests/plot/test_series_plot_plotly.py\n",
            "spark-3.3.1-bin-hadoop3/python/pyspark/pandas/tests/test_categorical.py\n",
            "spark-3.3.1-bin-hadoop3/python/pyspark/pandas/tests/test_config.py\n",
            "spark-3.3.1-bin-hadoop3/python/pyspark/pandas/tests/test_csv.py\n",
            "spark-3.3.1-bin-hadoop3/python/pyspark/pandas/tests/test_dataframe.py\n",
            "spark-3.3.1-bin-hadoop3/python/pyspark/pandas/tests/test_dataframe_conversion.py\n",
            "spark-3.3.1-bin-hadoop3/python/pyspark/pandas/tests/test_dataframe_spark_io.py\n",
            "spark-3.3.1-bin-hadoop3/python/pyspark/pandas/tests/test_default_index.py\n",
            "spark-3.3.1-bin-hadoop3/python/pyspark/pandas/tests/test_expanding.py\n",
            "spark-3.3.1-bin-hadoop3/python/pyspark/pandas/tests/test_extension.py\n",
            "spark-3.3.1-bin-hadoop3/python/pyspark/pandas/tests/test_frame_spark.py\n",
            "spark-3.3.1-bin-hadoop3/python/pyspark/pandas/tests/test_groupby.py\n",
            "spark-3.3.1-bin-hadoop3/python/pyspark/pandas/tests/test_indexing.py\n",
            "spark-3.3.1-bin-hadoop3/python/pyspark/pandas/tests/test_indexops_spark.py\n",
            "spark-3.3.1-bin-hadoop3/python/pyspark/pandas/tests/test_internal.py\n",
            "spark-3.3.1-bin-hadoop3/python/pyspark/pandas/tests/test_namespace.py\n",
            "spark-3.3.1-bin-hadoop3/python/pyspark/pandas/tests/test_numpy_compat.py\n",
            "spark-3.3.1-bin-hadoop3/python/pyspark/pandas/tests/test_ops_on_diff_frames.py\n",
            "spark-3.3.1-bin-hadoop3/python/pyspark/pandas/tests/test_ops_on_diff_frames_groupby.py\n",
            "spark-3.3.1-bin-hadoop3/python/pyspark/pandas/tests/test_ops_on_diff_frames_groupby_expanding.py\n",
            "spark-3.3.1-bin-hadoop3/python/pyspark/pandas/tests/test_ops_on_diff_frames_groupby_rolling.py\n",
            "spark-3.3.1-bin-hadoop3/python/pyspark/pandas/tests/test_repr.py\n",
            "spark-3.3.1-bin-hadoop3/python/pyspark/pandas/tests/test_reshape.py\n",
            "spark-3.3.1-bin-hadoop3/python/pyspark/pandas/tests/test_rolling.py\n",
            "spark-3.3.1-bin-hadoop3/python/pyspark/pandas/tests/test_series.py\n",
            "spark-3.3.1-bin-hadoop3/python/pyspark/pandas/tests/test_series_conversion.py\n",
            "spark-3.3.1-bin-hadoop3/python/pyspark/pandas/tests/test_series_datetime.py\n",
            "spark-3.3.1-bin-hadoop3/python/pyspark/pandas/tests/test_series_string.py\n",
            "spark-3.3.1-bin-hadoop3/python/pyspark/pandas/tests/test_spark_functions.py\n",
            "spark-3.3.1-bin-hadoop3/python/pyspark/pandas/tests/test_sql.py\n",
            "spark-3.3.1-bin-hadoop3/python/pyspark/pandas/tests/test_stats.py\n",
            "spark-3.3.1-bin-hadoop3/python/pyspark/pandas/tests/test_typedef.py\n",
            "spark-3.3.1-bin-hadoop3/python/pyspark/pandas/tests/test_utils.py\n",
            "spark-3.3.1-bin-hadoop3/python/pyspark/pandas/tests/test_window.py\n",
            "spark-3.3.1-bin-hadoop3/python/pyspark/pandas/typedef/\n",
            "spark-3.3.1-bin-hadoop3/python/pyspark/pandas/typedef/__init__.py\n",
            "spark-3.3.1-bin-hadoop3/python/pyspark/pandas/typedef/typehints.py\n",
            "spark-3.3.1-bin-hadoop3/python/pyspark/pandas/usage_logging/\n",
            "spark-3.3.1-bin-hadoop3/python/pyspark/pandas/usage_logging/__init__.py\n",
            "spark-3.3.1-bin-hadoop3/python/pyspark/pandas/usage_logging/usage_logger.py\n",
            "spark-3.3.1-bin-hadoop3/python/pyspark/pandas/utils.py\n",
            "spark-3.3.1-bin-hadoop3/python/pyspark/pandas/window.py\n",
            "spark-3.3.1-bin-hadoop3/python/pyspark/profiler.py\n",
            "spark-3.3.1-bin-hadoop3/python/pyspark/py.typed\n",
            "spark-3.3.1-bin-hadoop3/python/pyspark/python/\n",
            "spark-3.3.1-bin-hadoop3/python/pyspark/python/pyspark/\n",
            "spark-3.3.1-bin-hadoop3/python/pyspark/python/pyspark/shell.py\n",
            "spark-3.3.1-bin-hadoop3/python/pyspark/rdd.py\n",
            "spark-3.3.1-bin-hadoop3/python/pyspark/rddsampler.py\n",
            "spark-3.3.1-bin-hadoop3/python/pyspark/resource/\n",
            "spark-3.3.1-bin-hadoop3/python/pyspark/resource/__init__.py\n",
            "spark-3.3.1-bin-hadoop3/python/pyspark/resource/information.py\n",
            "spark-3.3.1-bin-hadoop3/python/pyspark/resource/profile.py\n",
            "spark-3.3.1-bin-hadoop3/python/pyspark/resource/requests.py\n",
            "spark-3.3.1-bin-hadoop3/python/pyspark/resource/tests/\n",
            "spark-3.3.1-bin-hadoop3/python/pyspark/resource/tests/__init__.py\n",
            "spark-3.3.1-bin-hadoop3/python/pyspark/resource/tests/test_resources.py\n",
            "spark-3.3.1-bin-hadoop3/python/pyspark/resultiterable.py\n",
            "spark-3.3.1-bin-hadoop3/python/pyspark/serializers.py\n",
            "spark-3.3.1-bin-hadoop3/python/pyspark/shell.py\n",
            "spark-3.3.1-bin-hadoop3/python/pyspark/shuffle.py\n",
            "spark-3.3.1-bin-hadoop3/python/pyspark/sql/\n",
            "spark-3.3.1-bin-hadoop3/python/pyspark/sql/__init__.py\n",
            "spark-3.3.1-bin-hadoop3/python/pyspark/sql/_typing.pyi\n",
            "spark-3.3.1-bin-hadoop3/python/pyspark/sql/avro/\n",
            "spark-3.3.1-bin-hadoop3/python/pyspark/sql/avro/__init__.py\n",
            "spark-3.3.1-bin-hadoop3/python/pyspark/sql/avro/functions.py\n",
            "spark-3.3.1-bin-hadoop3/python/pyspark/sql/catalog.py\n",
            "spark-3.3.1-bin-hadoop3/python/pyspark/sql/column.py\n",
            "spark-3.3.1-bin-hadoop3/python/pyspark/sql/conf.py\n",
            "spark-3.3.1-bin-hadoop3/python/pyspark/sql/context.py\n",
            "spark-3.3.1-bin-hadoop3/python/pyspark/sql/dataframe.py\n",
            "spark-3.3.1-bin-hadoop3/python/pyspark/sql/functions.py\n",
            "spark-3.3.1-bin-hadoop3/python/pyspark/sql/group.py\n",
            "spark-3.3.1-bin-hadoop3/python/pyspark/sql/observation.py\n",
            "spark-3.3.1-bin-hadoop3/python/pyspark/sql/pandas/\n",
            "spark-3.3.1-bin-hadoop3/python/pyspark/sql/pandas/__init__.py\n",
            "spark-3.3.1-bin-hadoop3/python/pyspark/sql/pandas/_typing/\n",
            "spark-3.3.1-bin-hadoop3/python/pyspark/sql/pandas/_typing/__init__.pyi\n",
            "spark-3.3.1-bin-hadoop3/python/pyspark/sql/pandas/_typing/protocols/\n",
            "spark-3.3.1-bin-hadoop3/python/pyspark/sql/pandas/_typing/protocols/__init__.pyi\n",
            "spark-3.3.1-bin-hadoop3/python/pyspark/sql/pandas/_typing/protocols/frame.pyi\n",
            "spark-3.3.1-bin-hadoop3/python/pyspark/sql/pandas/_typing/protocols/series.pyi\n",
            "spark-3.3.1-bin-hadoop3/python/pyspark/sql/pandas/conversion.py\n",
            "spark-3.3.1-bin-hadoop3/python/pyspark/sql/pandas/functions.py\n",
            "spark-3.3.1-bin-hadoop3/python/pyspark/sql/pandas/functions.pyi\n",
            "spark-3.3.1-bin-hadoop3/python/pyspark/sql/pandas/group_ops.py\n",
            "spark-3.3.1-bin-hadoop3/python/pyspark/sql/pandas/map_ops.py\n",
            "spark-3.3.1-bin-hadoop3/python/pyspark/sql/pandas/serializers.py\n",
            "spark-3.3.1-bin-hadoop3/python/pyspark/sql/pandas/typehints.py\n",
            "spark-3.3.1-bin-hadoop3/python/pyspark/sql/pandas/types.py\n",
            "spark-3.3.1-bin-hadoop3/python/pyspark/sql/pandas/utils.py\n",
            "spark-3.3.1-bin-hadoop3/python/pyspark/sql/readwriter.py\n",
            "spark-3.3.1-bin-hadoop3/python/pyspark/sql/session.py\n",
            "spark-3.3.1-bin-hadoop3/python/pyspark/sql/sql_formatter.py\n",
            "spark-3.3.1-bin-hadoop3/python/pyspark/sql/streaming.py\n",
            "spark-3.3.1-bin-hadoop3/python/pyspark/sql/tests/\n",
            "spark-3.3.1-bin-hadoop3/python/pyspark/sql/tests/__init__.py\n",
            "spark-3.3.1-bin-hadoop3/python/pyspark/sql/tests/test_arrow.py\n",
            "spark-3.3.1-bin-hadoop3/python/pyspark/sql/tests/test_arrow_map.py\n",
            "spark-3.3.1-bin-hadoop3/python/pyspark/sql/tests/test_catalog.py\n",
            "spark-3.3.1-bin-hadoop3/python/pyspark/sql/tests/test_column.py\n",
            "spark-3.3.1-bin-hadoop3/python/pyspark/sql/tests/test_conf.py\n",
            "spark-3.3.1-bin-hadoop3/python/pyspark/sql/tests/test_context.py\n",
            "spark-3.3.1-bin-hadoop3/python/pyspark/sql/tests/test_dataframe.py\n",
            "spark-3.3.1-bin-hadoop3/python/pyspark/sql/tests/test_datasources.py\n",
            "spark-3.3.1-bin-hadoop3/python/pyspark/sql/tests/test_functions.py\n",
            "spark-3.3.1-bin-hadoop3/python/pyspark/sql/tests/test_group.py\n",
            "spark-3.3.1-bin-hadoop3/python/pyspark/sql/tests/test_pandas_cogrouped_map.py\n",
            "spark-3.3.1-bin-hadoop3/python/pyspark/sql/tests/test_pandas_grouped_map.py\n",
            "spark-3.3.1-bin-hadoop3/python/pyspark/sql/tests/test_pandas_map.py\n",
            "spark-3.3.1-bin-hadoop3/python/pyspark/sql/tests/test_pandas_udf.py\n",
            "spark-3.3.1-bin-hadoop3/python/pyspark/sql/tests/test_pandas_udf_grouped_agg.py\n",
            "spark-3.3.1-bin-hadoop3/python/pyspark/sql/tests/test_pandas_udf_scalar.py\n",
            "spark-3.3.1-bin-hadoop3/python/pyspark/sql/tests/test_pandas_udf_typehints.py\n",
            "spark-3.3.1-bin-hadoop3/python/pyspark/sql/tests/test_pandas_udf_typehints_with_future_annotations.py\n",
            "spark-3.3.1-bin-hadoop3/python/pyspark/sql/tests/test_pandas_udf_window.py\n",
            "spark-3.3.1-bin-hadoop3/python/pyspark/sql/tests/test_readwriter.py\n",
            "spark-3.3.1-bin-hadoop3/python/pyspark/sql/tests/test_serde.py\n",
            "spark-3.3.1-bin-hadoop3/python/pyspark/sql/tests/test_session.py\n",
            "spark-3.3.1-bin-hadoop3/python/pyspark/sql/tests/test_streaming.py\n",
            "spark-3.3.1-bin-hadoop3/python/pyspark/sql/tests/test_types.py\n",
            "spark-3.3.1-bin-hadoop3/python/pyspark/sql/tests/test_udf.py\n",
            "spark-3.3.1-bin-hadoop3/python/pyspark/sql/tests/test_udf_profiler.py\n",
            "spark-3.3.1-bin-hadoop3/python/pyspark/sql/tests/test_utils.py\n",
            "spark-3.3.1-bin-hadoop3/python/pyspark/sql/tests/typing/\n",
            "spark-3.3.1-bin-hadoop3/python/pyspark/sql/tests/typing/test_column.yml\n",
            "spark-3.3.1-bin-hadoop3/python/pyspark/sql/tests/typing/test_dataframe.yml\n",
            "spark-3.3.1-bin-hadoop3/python/pyspark/sql/tests/typing/test_functions.yml\n",
            "spark-3.3.1-bin-hadoop3/python/pyspark/sql/tests/typing/test_readwriter.yml\n",
            "spark-3.3.1-bin-hadoop3/python/pyspark/sql/tests/typing/test_session.yml\n",
            "spark-3.3.1-bin-hadoop3/python/pyspark/sql/tests/typing/test_udf.yml\n",
            "spark-3.3.1-bin-hadoop3/python/pyspark/sql/types.py\n",
            "spark-3.3.1-bin-hadoop3/python/pyspark/sql/udf.py\n",
            "spark-3.3.1-bin-hadoop3/python/pyspark/sql/utils.py\n",
            "spark-3.3.1-bin-hadoop3/python/pyspark/sql/window.py\n",
            "spark-3.3.1-bin-hadoop3/python/pyspark/statcounter.py\n",
            "spark-3.3.1-bin-hadoop3/python/pyspark/status.py\n",
            "spark-3.3.1-bin-hadoop3/python/pyspark/storagelevel.py\n",
            "spark-3.3.1-bin-hadoop3/python/pyspark/streaming/\n",
            "spark-3.3.1-bin-hadoop3/python/pyspark/streaming/__init__.py\n",
            "spark-3.3.1-bin-hadoop3/python/pyspark/streaming/context.py\n",
            "spark-3.3.1-bin-hadoop3/python/pyspark/streaming/dstream.py\n",
            "spark-3.3.1-bin-hadoop3/python/pyspark/streaming/kinesis.py\n",
            "spark-3.3.1-bin-hadoop3/python/pyspark/streaming/listener.py\n",
            "spark-3.3.1-bin-hadoop3/python/pyspark/streaming/tests/\n",
            "spark-3.3.1-bin-hadoop3/python/pyspark/streaming/tests/__init__.py\n",
            "spark-3.3.1-bin-hadoop3/python/pyspark/streaming/tests/test_context.py\n",
            "spark-3.3.1-bin-hadoop3/python/pyspark/streaming/tests/test_dstream.py\n",
            "spark-3.3.1-bin-hadoop3/python/pyspark/streaming/tests/test_kinesis.py\n",
            "spark-3.3.1-bin-hadoop3/python/pyspark/streaming/tests/test_listener.py\n",
            "spark-3.3.1-bin-hadoop3/python/pyspark/streaming/util.py\n",
            "spark-3.3.1-bin-hadoop3/python/pyspark/taskcontext.py\n",
            "spark-3.3.1-bin-hadoop3/python/pyspark/testing/\n",
            "spark-3.3.1-bin-hadoop3/python/pyspark/testing/__init__.py\n",
            "spark-3.3.1-bin-hadoop3/python/pyspark/testing/mllibutils.py\n",
            "spark-3.3.1-bin-hadoop3/python/pyspark/testing/mlutils.py\n",
            "spark-3.3.1-bin-hadoop3/python/pyspark/testing/pandasutils.py\n",
            "spark-3.3.1-bin-hadoop3/python/pyspark/testing/sqlutils.py\n",
            "spark-3.3.1-bin-hadoop3/python/pyspark/testing/streamingutils.py\n",
            "spark-3.3.1-bin-hadoop3/python/pyspark/testing/utils.py\n",
            "spark-3.3.1-bin-hadoop3/python/pyspark/tests/\n",
            "spark-3.3.1-bin-hadoop3/python/pyspark/tests/__init__.py\n",
            "spark-3.3.1-bin-hadoop3/python/pyspark/tests/test_appsubmit.py\n",
            "spark-3.3.1-bin-hadoop3/python/pyspark/tests/test_broadcast.py\n",
            "spark-3.3.1-bin-hadoop3/python/pyspark/tests/test_conf.py\n",
            "spark-3.3.1-bin-hadoop3/python/pyspark/tests/test_context.py\n",
            "spark-3.3.1-bin-hadoop3/python/pyspark/tests/test_daemon.py\n",
            "spark-3.3.1-bin-hadoop3/python/pyspark/tests/test_install_spark.py\n",
            "spark-3.3.1-bin-hadoop3/python/pyspark/tests/test_join.py\n",
            "spark-3.3.1-bin-hadoop3/python/pyspark/tests/test_pin_thread.py\n",
            "spark-3.3.1-bin-hadoop3/python/pyspark/tests/test_profiler.py\n",
            "spark-3.3.1-bin-hadoop3/python/pyspark/tests/test_rdd.py\n",
            "spark-3.3.1-bin-hadoop3/python/pyspark/tests/test_rddbarrier.py\n",
            "spark-3.3.1-bin-hadoop3/python/pyspark/tests/test_readwrite.py\n",
            "spark-3.3.1-bin-hadoop3/python/pyspark/tests/test_serializers.py\n",
            "spark-3.3.1-bin-hadoop3/python/pyspark/tests/test_shuffle.py\n",
            "spark-3.3.1-bin-hadoop3/python/pyspark/tests/test_statcounter.py\n",
            "spark-3.3.1-bin-hadoop3/python/pyspark/tests/test_taskcontext.py\n",
            "spark-3.3.1-bin-hadoop3/python/pyspark/tests/test_util.py\n",
            "spark-3.3.1-bin-hadoop3/python/pyspark/tests/test_worker.py\n",
            "spark-3.3.1-bin-hadoop3/python/pyspark/tests/typing/\n",
            "spark-3.3.1-bin-hadoop3/python/pyspark/tests/typing/test_context.yml\n",
            "spark-3.3.1-bin-hadoop3/python/pyspark/tests/typing/test_core.yml\n",
            "spark-3.3.1-bin-hadoop3/python/pyspark/tests/typing/test_rdd.yml\n",
            "spark-3.3.1-bin-hadoop3/python/pyspark/tests/typing/test_resultiterable.yml\n",
            "spark-3.3.1-bin-hadoop3/python/pyspark/traceback_utils.py\n",
            "spark-3.3.1-bin-hadoop3/python/pyspark/util.py\n",
            "spark-3.3.1-bin-hadoop3/python/pyspark/version.py\n",
            "spark-3.3.1-bin-hadoop3/python/pyspark/worker.py\n",
            "spark-3.3.1-bin-hadoop3/python/pyspark.egg-info/\n",
            "spark-3.3.1-bin-hadoop3/python/pyspark.egg-info/PKG-INFO\n",
            "spark-3.3.1-bin-hadoop3/python/pyspark.egg-info/SOURCES.txt\n",
            "spark-3.3.1-bin-hadoop3/python/pyspark.egg-info/dependency_links.txt\n",
            "spark-3.3.1-bin-hadoop3/python/pyspark.egg-info/requires.txt\n",
            "spark-3.3.1-bin-hadoop3/python/pyspark.egg-info/top_level.txt\n",
            "spark-3.3.1-bin-hadoop3/python/run-tests\n",
            "spark-3.3.1-bin-hadoop3/python/run-tests-with-coverage\n",
            "spark-3.3.1-bin-hadoop3/python/run-tests.py\n",
            "spark-3.3.1-bin-hadoop3/python/setup.cfg\n",
            "spark-3.3.1-bin-hadoop3/python/setup.py\n",
            "spark-3.3.1-bin-hadoop3/python/test_coverage/\n",
            "spark-3.3.1-bin-hadoop3/python/test_coverage/conf/\n",
            "spark-3.3.1-bin-hadoop3/python/test_coverage/conf/spark-defaults.conf\n",
            "spark-3.3.1-bin-hadoop3/python/test_coverage/coverage_daemon.py\n",
            "spark-3.3.1-bin-hadoop3/python/test_coverage/sitecustomize.py\n",
            "spark-3.3.1-bin-hadoop3/python/test_support/\n",
            "spark-3.3.1-bin-hadoop3/python/test_support/SimpleHTTPServer.py\n",
            "spark-3.3.1-bin-hadoop3/python/test_support/hello/\n",
            "spark-3.3.1-bin-hadoop3/python/test_support/hello/hello.txt\n",
            "spark-3.3.1-bin-hadoop3/python/test_support/hello/sub_hello/\n",
            "spark-3.3.1-bin-hadoop3/python/test_support/hello/sub_hello/sub_hello.txt\n",
            "spark-3.3.1-bin-hadoop3/python/test_support/sql/\n",
            "spark-3.3.1-bin-hadoop3/python/test_support/sql/ages.csv\n",
            "spark-3.3.1-bin-hadoop3/python/test_support/sql/ages_newlines.csv\n",
            "spark-3.3.1-bin-hadoop3/python/test_support/sql/orc_partitioned/\n",
            "spark-3.3.1-bin-hadoop3/python/test_support/sql/orc_partitioned/_SUCCESS\n",
            "spark-3.3.1-bin-hadoop3/python/test_support/sql/orc_partitioned/b=0/\n",
            "spark-3.3.1-bin-hadoop3/python/test_support/sql/orc_partitioned/b=0/c=0/\n",
            "spark-3.3.1-bin-hadoop3/python/test_support/sql/orc_partitioned/b=0/c=0/.part-r-00000-829af031-b970-49d6-ad39-30460a0be2c8.orc.crc\n",
            "spark-3.3.1-bin-hadoop3/python/test_support/sql/orc_partitioned/b=0/c=0/part-r-00000-829af031-b970-49d6-ad39-30460a0be2c8.orc\n",
            "spark-3.3.1-bin-hadoop3/python/test_support/sql/orc_partitioned/b=1/\n",
            "spark-3.3.1-bin-hadoop3/python/test_support/sql/orc_partitioned/b=1/c=1/\n",
            "spark-3.3.1-bin-hadoop3/python/test_support/sql/orc_partitioned/b=1/c=1/.part-r-00000-829af031-b970-49d6-ad39-30460a0be2c8.orc.crc\n",
            "spark-3.3.1-bin-hadoop3/python/test_support/sql/orc_partitioned/b=1/c=1/part-r-00000-829af031-b970-49d6-ad39-30460a0be2c8.orc\n",
            "spark-3.3.1-bin-hadoop3/python/test_support/sql/parquet_partitioned/\n",
            "spark-3.3.1-bin-hadoop3/python/test_support/sql/parquet_partitioned/_SUCCESS\n",
            "spark-3.3.1-bin-hadoop3/python/test_support/sql/parquet_partitioned/_common_metadata\n",
            "spark-3.3.1-bin-hadoop3/python/test_support/sql/parquet_partitioned/_metadata\n",
            "spark-3.3.1-bin-hadoop3/python/test_support/sql/parquet_partitioned/year=2014/\n",
            "spark-3.3.1-bin-hadoop3/python/test_support/sql/parquet_partitioned/year=2014/month=9/\n",
            "spark-3.3.1-bin-hadoop3/python/test_support/sql/parquet_partitioned/year=2014/month=9/day=1/\n",
            "spark-3.3.1-bin-hadoop3/python/test_support/sql/parquet_partitioned/year=2014/month=9/day=1/.part-r-00008.gz.parquet.crc\n",
            "spark-3.3.1-bin-hadoop3/python/test_support/sql/parquet_partitioned/year=2014/month=9/day=1/part-r-00008.gz.parquet\n",
            "spark-3.3.1-bin-hadoop3/python/test_support/sql/parquet_partitioned/year=2015/\n",
            "spark-3.3.1-bin-hadoop3/python/test_support/sql/parquet_partitioned/year=2015/month=10/\n",
            "spark-3.3.1-bin-hadoop3/python/test_support/sql/parquet_partitioned/year=2015/month=10/day=25/\n",
            "spark-3.3.1-bin-hadoop3/python/test_support/sql/parquet_partitioned/year=2015/month=10/day=25/.part-r-00002.gz.parquet.crc\n",
            "spark-3.3.1-bin-hadoop3/python/test_support/sql/parquet_partitioned/year=2015/month=10/day=25/.part-r-00004.gz.parquet.crc\n",
            "spark-3.3.1-bin-hadoop3/python/test_support/sql/parquet_partitioned/year=2015/month=10/day=25/part-r-00002.gz.parquet\n",
            "spark-3.3.1-bin-hadoop3/python/test_support/sql/parquet_partitioned/year=2015/month=10/day=25/part-r-00004.gz.parquet\n",
            "spark-3.3.1-bin-hadoop3/python/test_support/sql/parquet_partitioned/year=2015/month=10/day=26/\n",
            "spark-3.3.1-bin-hadoop3/python/test_support/sql/parquet_partitioned/year=2015/month=10/day=26/.part-r-00005.gz.parquet.crc\n",
            "spark-3.3.1-bin-hadoop3/python/test_support/sql/parquet_partitioned/year=2015/month=10/day=26/part-r-00005.gz.parquet\n",
            "spark-3.3.1-bin-hadoop3/python/test_support/sql/parquet_partitioned/year=2015/month=9/\n",
            "spark-3.3.1-bin-hadoop3/python/test_support/sql/parquet_partitioned/year=2015/month=9/day=1/\n",
            "spark-3.3.1-bin-hadoop3/python/test_support/sql/parquet_partitioned/year=2015/month=9/day=1/.part-r-00007.gz.parquet.crc\n",
            "spark-3.3.1-bin-hadoop3/python/test_support/sql/parquet_partitioned/year=2015/month=9/day=1/part-r-00007.gz.parquet\n",
            "spark-3.3.1-bin-hadoop3/python/test_support/sql/people.json\n",
            "spark-3.3.1-bin-hadoop3/python/test_support/sql/people1.json\n",
            "spark-3.3.1-bin-hadoop3/python/test_support/sql/people_array.json\n",
            "spark-3.3.1-bin-hadoop3/python/test_support/sql/people_array_utf16le.json\n",
            "spark-3.3.1-bin-hadoop3/python/test_support/sql/streaming/\n",
            "spark-3.3.1-bin-hadoop3/python/test_support/sql/streaming/text-test.txt\n",
            "spark-3.3.1-bin-hadoop3/python/test_support/sql/text-test.txt\n",
            "spark-3.3.1-bin-hadoop3/python/test_support/userlib-0.1.zip\n",
            "spark-3.3.1-bin-hadoop3/python/test_support/userlibrary.py\n",
            "spark-3.3.1-bin-hadoop3/sbin/\n",
            "spark-3.3.1-bin-hadoop3/sbin/decommission-slave.sh\n",
            "spark-3.3.1-bin-hadoop3/sbin/decommission-worker.sh\n",
            "spark-3.3.1-bin-hadoop3/sbin/slaves.sh\n",
            "spark-3.3.1-bin-hadoop3/sbin/spark-config.sh\n",
            "spark-3.3.1-bin-hadoop3/sbin/spark-daemon.sh\n",
            "spark-3.3.1-bin-hadoop3/sbin/spark-daemons.sh\n",
            "spark-3.3.1-bin-hadoop3/sbin/start-all.sh\n",
            "spark-3.3.1-bin-hadoop3/sbin/start-history-server.sh\n",
            "spark-3.3.1-bin-hadoop3/sbin/start-master.sh\n",
            "spark-3.3.1-bin-hadoop3/sbin/start-mesos-dispatcher.sh\n",
            "spark-3.3.1-bin-hadoop3/sbin/start-mesos-shuffle-service.sh\n",
            "spark-3.3.1-bin-hadoop3/sbin/start-slave.sh\n",
            "spark-3.3.1-bin-hadoop3/sbin/start-slaves.sh\n",
            "spark-3.3.1-bin-hadoop3/sbin/start-thriftserver.sh\n",
            "spark-3.3.1-bin-hadoop3/sbin/start-worker.sh\n",
            "spark-3.3.1-bin-hadoop3/sbin/start-workers.sh\n",
            "spark-3.3.1-bin-hadoop3/sbin/stop-all.sh\n",
            "spark-3.3.1-bin-hadoop3/sbin/stop-history-server.sh\n",
            "spark-3.3.1-bin-hadoop3/sbin/stop-master.sh\n",
            "spark-3.3.1-bin-hadoop3/sbin/stop-mesos-dispatcher.sh\n",
            "spark-3.3.1-bin-hadoop3/sbin/stop-mesos-shuffle-service.sh\n",
            "spark-3.3.1-bin-hadoop3/sbin/stop-slave.sh\n",
            "spark-3.3.1-bin-hadoop3/sbin/stop-slaves.sh\n",
            "spark-3.3.1-bin-hadoop3/sbin/stop-thriftserver.sh\n",
            "spark-3.3.1-bin-hadoop3/sbin/stop-worker.sh\n",
            "spark-3.3.1-bin-hadoop3/sbin/stop-workers.sh\n",
            "spark-3.3.1-bin-hadoop3/sbin/workers.sh\n",
            "spark-3.3.1-bin-hadoop3/yarn/\n",
            "spark-3.3.1-bin-hadoop3/yarn/spark-3.3.1-yarn-shuffle.jar\n"
          ]
        }
      ]
    },
    {
      "cell_type": "code",
      "source": [
        "import os\n",
        "os.environ[\"JAVA_HOME\"] = \"/usr/lib/jvm/java-8-openjdk-amd64\"\n",
        "os.environ[\"SPARK_HOME\"] = \"/content/spark-3.3.1-bin-hadoop3\""
      ],
      "metadata": {
        "id": "o5ayoom1boEV"
      },
      "execution_count": null,
      "outputs": []
    },
    {
      "cell_type": "code",
      "source": [
        "import findspark\n",
        "findspark.init()"
      ],
      "metadata": {
        "id": "h7mQfPUiYAAx"
      },
      "execution_count": null,
      "outputs": []
    },
    {
      "cell_type": "code",
      "source": [
        "findspark.find()"
      ],
      "metadata": {
        "colab": {
          "base_uri": "https://localhost:8080/",
          "height": 35
        },
        "id": "t-YOP2docc4u",
        "outputId": "54538e2d-9249-4a8c-cae7-b4e5cf617fcc"
      },
      "execution_count": null,
      "outputs": [
        {
          "output_type": "execute_result",
          "data": {
            "text/plain": [
              "'/content/spark-3.3.1-bin-hadoop3'"
            ],
            "application/vnd.google.colaboratory.intrinsic+json": {
              "type": "string"
            }
          },
          "metadata": {},
          "execution_count": 7
        }
      ]
    },
    {
      "cell_type": "code",
      "source": [
        "from pyspark.sql import SparkSession\n",
        "\n",
        "spark = SparkSession.builder\\\n",
        "        .master(\"local\")\\\n",
        "        .appName(\"Colab\")\\\n",
        "        .config('spark.ui.port', '4050')\\\n",
        "        .getOrCreate()"
      ],
      "metadata": {
        "id": "bRuAoNa-cewc"
      },
      "execution_count": null,
      "outputs": []
    },
    {
      "cell_type": "code",
      "source": [
        "spark"
      ],
      "metadata": {
        "colab": {
          "base_uri": "https://localhost:8080/",
          "height": 219
        },
        "id": "5n_YXFUociwT",
        "outputId": "aec0a4fb-faa9-4d84-ffcb-c8a4b797b2f2"
      },
      "execution_count": null,
      "outputs": [
        {
          "output_type": "execute_result",
          "data": {
            "text/plain": [
              "<pyspark.sql.session.SparkSession at 0x7f4f85084040>"
            ],
            "text/html": [
              "\n",
              "            <div>\n",
              "                <p><b>SparkSession - in-memory</b></p>\n",
              "                \n",
              "        <div>\n",
              "            <p><b>SparkContext</b></p>\n",
              "\n",
              "            <p><a href=\"http://0d2852637b75:4050\">Spark UI</a></p>\n",
              "\n",
              "            <dl>\n",
              "              <dt>Version</dt>\n",
              "                <dd><code>v3.3.1</code></dd>\n",
              "              <dt>Master</dt>\n",
              "                <dd><code>local</code></dd>\n",
              "              <dt>AppName</dt>\n",
              "                <dd><code>Colab</code></dd>\n",
              "            </dl>\n",
              "        </div>\n",
              "        \n",
              "            </div>\n",
              "        "
            ]
          },
          "metadata": {},
          "execution_count": 9
        }
      ]
    },
    {
      "cell_type": "code",
      "source": [
        "## standard imports\n",
        "import numpy as np\n",
        "import pandas as pd\n",
        "import seaborn as sns\n",
        "import matplotlib.pyplot as plt"
      ],
      "metadata": {
        "id": "1P7rVpHucmGG"
      },
      "execution_count": null,
      "outputs": []
    },
    {
      "cell_type": "code",
      "source": [
        "from google.colab import files\n",
        "uploaded = files.upload()"
      ],
      "metadata": {
        "colab": {
          "base_uri": "https://localhost:8080/",
          "height": 73
        },
        "id": "EPrS3MPqAvVG",
        "outputId": "a5ebab81-37fb-48e7-e2c4-46b61d319333"
      },
      "execution_count": null,
      "outputs": [
        {
          "output_type": "display_data",
          "data": {
            "text/plain": [
              "<IPython.core.display.HTML object>"
            ],
            "text/html": [
              "\n",
              "     <input type=\"file\" id=\"files-afabcc23-3887-4ed2-9740-4c5c7f8475de\" name=\"files[]\" multiple disabled\n",
              "        style=\"border:none\" />\n",
              "     <output id=\"result-afabcc23-3887-4ed2-9740-4c5c7f8475de\">\n",
              "      Upload widget is only available when the cell has been executed in the\n",
              "      current browser session. Please rerun this cell to enable.\n",
              "      </output>\n",
              "      <script>// Copyright 2017 Google LLC\n",
              "//\n",
              "// Licensed under the Apache License, Version 2.0 (the \"License\");\n",
              "// you may not use this file except in compliance with the License.\n",
              "// You may obtain a copy of the License at\n",
              "//\n",
              "//      http://www.apache.org/licenses/LICENSE-2.0\n",
              "//\n",
              "// Unless required by applicable law or agreed to in writing, software\n",
              "// distributed under the License is distributed on an \"AS IS\" BASIS,\n",
              "// WITHOUT WARRANTIES OR CONDITIONS OF ANY KIND, either express or implied.\n",
              "// See the License for the specific language governing permissions and\n",
              "// limitations under the License.\n",
              "\n",
              "/**\n",
              " * @fileoverview Helpers for google.colab Python module.\n",
              " */\n",
              "(function(scope) {\n",
              "function span(text, styleAttributes = {}) {\n",
              "  const element = document.createElement('span');\n",
              "  element.textContent = text;\n",
              "  for (const key of Object.keys(styleAttributes)) {\n",
              "    element.style[key] = styleAttributes[key];\n",
              "  }\n",
              "  return element;\n",
              "}\n",
              "\n",
              "// Max number of bytes which will be uploaded at a time.\n",
              "const MAX_PAYLOAD_SIZE = 100 * 1024;\n",
              "\n",
              "function _uploadFiles(inputId, outputId) {\n",
              "  const steps = uploadFilesStep(inputId, outputId);\n",
              "  const outputElement = document.getElementById(outputId);\n",
              "  // Cache steps on the outputElement to make it available for the next call\n",
              "  // to uploadFilesContinue from Python.\n",
              "  outputElement.steps = steps;\n",
              "\n",
              "  return _uploadFilesContinue(outputId);\n",
              "}\n",
              "\n",
              "// This is roughly an async generator (not supported in the browser yet),\n",
              "// where there are multiple asynchronous steps and the Python side is going\n",
              "// to poll for completion of each step.\n",
              "// This uses a Promise to block the python side on completion of each step,\n",
              "// then passes the result of the previous step as the input to the next step.\n",
              "function _uploadFilesContinue(outputId) {\n",
              "  const outputElement = document.getElementById(outputId);\n",
              "  const steps = outputElement.steps;\n",
              "\n",
              "  const next = steps.next(outputElement.lastPromiseValue);\n",
              "  return Promise.resolve(next.value.promise).then((value) => {\n",
              "    // Cache the last promise value to make it available to the next\n",
              "    // step of the generator.\n",
              "    outputElement.lastPromiseValue = value;\n",
              "    return next.value.response;\n",
              "  });\n",
              "}\n",
              "\n",
              "/**\n",
              " * Generator function which is called between each async step of the upload\n",
              " * process.\n",
              " * @param {string} inputId Element ID of the input file picker element.\n",
              " * @param {string} outputId Element ID of the output display.\n",
              " * @return {!Iterable<!Object>} Iterable of next steps.\n",
              " */\n",
              "function* uploadFilesStep(inputId, outputId) {\n",
              "  const inputElement = document.getElementById(inputId);\n",
              "  inputElement.disabled = false;\n",
              "\n",
              "  const outputElement = document.getElementById(outputId);\n",
              "  outputElement.innerHTML = '';\n",
              "\n",
              "  const pickedPromise = new Promise((resolve) => {\n",
              "    inputElement.addEventListener('change', (e) => {\n",
              "      resolve(e.target.files);\n",
              "    });\n",
              "  });\n",
              "\n",
              "  const cancel = document.createElement('button');\n",
              "  inputElement.parentElement.appendChild(cancel);\n",
              "  cancel.textContent = 'Cancel upload';\n",
              "  const cancelPromise = new Promise((resolve) => {\n",
              "    cancel.onclick = () => {\n",
              "      resolve(null);\n",
              "    };\n",
              "  });\n",
              "\n",
              "  // Wait for the user to pick the files.\n",
              "  const files = yield {\n",
              "    promise: Promise.race([pickedPromise, cancelPromise]),\n",
              "    response: {\n",
              "      action: 'starting',\n",
              "    }\n",
              "  };\n",
              "\n",
              "  cancel.remove();\n",
              "\n",
              "  // Disable the input element since further picks are not allowed.\n",
              "  inputElement.disabled = true;\n",
              "\n",
              "  if (!files) {\n",
              "    return {\n",
              "      response: {\n",
              "        action: 'complete',\n",
              "      }\n",
              "    };\n",
              "  }\n",
              "\n",
              "  for (const file of files) {\n",
              "    const li = document.createElement('li');\n",
              "    li.append(span(file.name, {fontWeight: 'bold'}));\n",
              "    li.append(span(\n",
              "        `(${file.type || 'n/a'}) - ${file.size} bytes, ` +\n",
              "        `last modified: ${\n",
              "            file.lastModifiedDate ? file.lastModifiedDate.toLocaleDateString() :\n",
              "                                    'n/a'} - `));\n",
              "    const percent = span('0% done');\n",
              "    li.appendChild(percent);\n",
              "\n",
              "    outputElement.appendChild(li);\n",
              "\n",
              "    const fileDataPromise = new Promise((resolve) => {\n",
              "      const reader = new FileReader();\n",
              "      reader.onload = (e) => {\n",
              "        resolve(e.target.result);\n",
              "      };\n",
              "      reader.readAsArrayBuffer(file);\n",
              "    });\n",
              "    // Wait for the data to be ready.\n",
              "    let fileData = yield {\n",
              "      promise: fileDataPromise,\n",
              "      response: {\n",
              "        action: 'continue',\n",
              "      }\n",
              "    };\n",
              "\n",
              "    // Use a chunked sending to avoid message size limits. See b/62115660.\n",
              "    let position = 0;\n",
              "    do {\n",
              "      const length = Math.min(fileData.byteLength - position, MAX_PAYLOAD_SIZE);\n",
              "      const chunk = new Uint8Array(fileData, position, length);\n",
              "      position += length;\n",
              "\n",
              "      const base64 = btoa(String.fromCharCode.apply(null, chunk));\n",
              "      yield {\n",
              "        response: {\n",
              "          action: 'append',\n",
              "          file: file.name,\n",
              "          data: base64,\n",
              "        },\n",
              "      };\n",
              "\n",
              "      let percentDone = fileData.byteLength === 0 ?\n",
              "          100 :\n",
              "          Math.round((position / fileData.byteLength) * 100);\n",
              "      percent.textContent = `${percentDone}% done`;\n",
              "\n",
              "    } while (position < fileData.byteLength);\n",
              "  }\n",
              "\n",
              "  // All done.\n",
              "  yield {\n",
              "    response: {\n",
              "      action: 'complete',\n",
              "    }\n",
              "  };\n",
              "}\n",
              "\n",
              "scope.google = scope.google || {};\n",
              "scope.google.colab = scope.google.colab || {};\n",
              "scope.google.colab._files = {\n",
              "  _uploadFiles,\n",
              "  _uploadFilesContinue,\n",
              "};\n",
              "})(self);\n",
              "</script> "
            ]
          },
          "metadata": {}
        },
        {
          "output_type": "stream",
          "name": "stdout",
          "text": [
            "Saving Chicago_Crimes_2012_to_2017.csv to Chicago_Crimes_2012_to_2017.csv\n"
          ]
        }
      ]
    },
    {
      "cell_type": "code",
      "source": [
        "df = spark.read.csv('Chicago_Crimes_2012_to_2017.csv', inferSchema=True, header=True)"
      ],
      "metadata": {
        "id": "_L-gklRlcxRb"
      },
      "execution_count": null,
      "outputs": []
    },
    {
      "cell_type": "code",
      "source": [
        "df =df.cache()"
      ],
      "metadata": {
        "id": "bVa6oHxWnL1j"
      },
      "execution_count": null,
      "outputs": []
    },
    {
      "cell_type": "code",
      "source": [
        "df.printSchema()"
      ],
      "metadata": {
        "colab": {
          "base_uri": "https://localhost:8080/"
        },
        "id": "AkScIPIYnPov",
        "outputId": "c994d36d-9491-45df-f509-948e246d289f"
      },
      "execution_count": null,
      "outputs": [
        {
          "output_type": "stream",
          "name": "stdout",
          "text": [
            "root\n",
            " |-- _c0: integer (nullable = true)\n",
            " |-- ID: integer (nullable = true)\n",
            " |-- Case Number: string (nullable = true)\n",
            " |-- Date: string (nullable = true)\n",
            " |-- Block: string (nullable = true)\n",
            " |-- IUCR: string (nullable = true)\n",
            " |-- Primary Type: string (nullable = true)\n",
            " |-- Description: string (nullable = true)\n",
            " |-- Location Description: string (nullable = true)\n",
            " |-- Arrest: boolean (nullable = true)\n",
            " |-- Domestic: boolean (nullable = true)\n",
            " |-- Beat: integer (nullable = true)\n",
            " |-- District: double (nullable = true)\n",
            " |-- Ward: double (nullable = true)\n",
            " |-- Community Area: double (nullable = true)\n",
            " |-- FBI Code: string (nullable = true)\n",
            " |-- X Coordinate: double (nullable = true)\n",
            " |-- Y Coordinate: double (nullable = true)\n",
            " |-- Year: integer (nullable = true)\n",
            " |-- Updated On: string (nullable = true)\n",
            " |-- Latitude: double (nullable = true)\n",
            " |-- Longitude: double (nullable = true)\n",
            " |-- Location: string (nullable = true)\n",
            "\n"
          ]
        }
      ]
    },
    {
      "cell_type": "code",
      "source": [
        "print(df.count(),len(df.columns))"
      ],
      "metadata": {
        "id": "4meUWAztRdCa",
        "outputId": "37a7a42c-42be-40ec-ad9c-1b711a780ffa",
        "colab": {
          "base_uri": "https://localhost:8080/"
        }
      },
      "execution_count": null,
      "outputs": [
        {
          "output_type": "stream",
          "name": "stdout",
          "text": [
            "1456714 23\n"
          ]
        }
      ]
    },
    {
      "cell_type": "code",
      "source": [
        "df.show(n=3, truncate=False)"
      ],
      "metadata": {
        "colab": {
          "base_uri": "https://localhost:8080/"
        },
        "id": "CGgoWV78nRMu",
        "outputId": "1c2a87f5-24a4-467c-c329-1a5df8fb2df2"
      },
      "execution_count": null,
      "outputs": [
        {
          "output_type": "stream",
          "name": "stdout",
          "text": [
            "+---+--------+-----------+----------------------+-------------------+----+----------------------+-----------------------+--------------------+------+--------+----+--------+----+--------------+--------+------------+------------+----+----------------------+------------+-------------+-----------------------------+\n",
            "|_c0|ID      |Case Number|Date                  |Block              |IUCR|Primary Type          |Description            |Location Description|Arrest|Domestic|Beat|District|Ward|Community Area|FBI Code|X Coordinate|Y Coordinate|Year|Updated On            |Latitude    |Longitude    |Location                     |\n",
            "+---+--------+-----------+----------------------+-------------------+----+----------------------+-----------------------+--------------------+------+--------+----+--------+----+--------------+--------+------------+------------+----+----------------------+------------+-------------+-----------------------------+\n",
            "|3  |10508693|HZ250496   |05/03/2016 11:40:00 PM|013XX S SAWYER AVE |0486|BATTERY               |DOMESTIC BATTERY SIMPLE|APARTMENT           |true  |true    |1022|10.0    |24.0|29.0          |08B     |1154907.0   |1893681.0   |2016|05/10/2016 03:56:50 PM|41.864073157|-87.706818608|(41.864073157, -87.706818608)|\n",
            "|89 |10508695|HZ250409   |05/03/2016 09:40:00 PM|061XX S DREXEL AVE |0486|BATTERY               |DOMESTIC BATTERY SIMPLE|RESIDENCE           |false |true    |313 |3.0     |20.0|42.0          |08B     |1183066.0   |1864330.0   |2016|05/10/2016 03:56:50 PM|41.782921527|-87.60436317 |(41.782921527, -87.60436317) |\n",
            "|197|10508697|HZ250503   |05/03/2016 11:31:00 PM|053XX W CHICAGO AVE|0470|PUBLIC PEACE VIOLATION|RECKLESS CONDUCT       |STREET              |false |false   |1524|15.0    |37.0|25.0          |24      |1140789.0   |1904819.0   |2016|05/10/2016 03:56:50 PM|41.894908283|-87.758371958|(41.894908283, -87.758371958)|\n",
            "+---+--------+-----------+----------------------+-------------------+----+----------------------+-----------------------+--------------------+------+--------+----+--------+----+--------------+--------+------------+------------+----+----------------------+------------+-------------+-----------------------------+\n",
            "only showing top 3 rows\n",
            "\n"
          ]
        }
      ]
    },
    {
      "cell_type": "code",
      "source": [
        "# crime types\n",
        "crime_types = df.groupBy('Primary Type').count()"
      ],
      "metadata": {
        "id": "O93TD67fnXIY"
      },
      "execution_count": null,
      "outputs": []
    },
    {
      "cell_type": "code",
      "source": [
        "crime_type_count = crime_types.orderBy('count', ascending=False)"
      ],
      "metadata": {
        "id": "92WD_djFnq3P"
      },
      "execution_count": null,
      "outputs": []
    },
    {
      "cell_type": "code",
      "source": [
        "df.count()"
      ],
      "metadata": {
        "colab": {
          "base_uri": "https://localhost:8080/"
        },
        "id": "2kiB2jjD50nl",
        "outputId": "3e3544d5-4084-4af0-f589-45823186bd5f"
      },
      "execution_count": null,
      "outputs": [
        {
          "output_type": "execute_result",
          "data": {
            "text/plain": [
              "1456714"
            ]
          },
          "metadata": {},
          "execution_count": 21
        }
      ]
    },
    {
      "cell_type": "code",
      "source": [
        "df.columns"
      ],
      "metadata": {
        "colab": {
          "base_uri": "https://localhost:8080/"
        },
        "id": "6rFMBW2fnyLW",
        "outputId": "ba864ac7-5b40-4658-e3a3-1da38ebe7f8f"
      },
      "execution_count": null,
      "outputs": [
        {
          "output_type": "execute_result",
          "data": {
            "text/plain": [
              "['_c0',\n",
              " 'ID',\n",
              " 'Case Number',\n",
              " 'Date',\n",
              " 'Block',\n",
              " 'IUCR',\n",
              " 'Primary Type',\n",
              " 'Description',\n",
              " 'Location Description',\n",
              " 'Arrest',\n",
              " 'Domestic',\n",
              " 'Beat',\n",
              " 'District',\n",
              " 'Ward',\n",
              " 'Community Area',\n",
              " 'FBI Code',\n",
              " 'X Coordinate',\n",
              " 'Y Coordinate',\n",
              " 'Year',\n",
              " 'Updated On',\n",
              " 'Latitude',\n",
              " 'Longitude',\n",
              " 'Location']"
            ]
          },
          "metadata": {},
          "execution_count": 22
        }
      ]
    },
    {
      "cell_type": "code",
      "source": [
        "# Frequency of crimes grouped by their primary type\n",
        "crime_type_count.show()"
      ],
      "metadata": {
        "colab": {
          "base_uri": "https://localhost:8080/"
        },
        "id": "rirx8ttroFsZ",
        "outputId": "b53a24de-dca5-4e13-de11-e0fb27324c93"
      },
      "execution_count": null,
      "outputs": [
        {
          "output_type": "stream",
          "name": "stdout",
          "text": [
            "+--------------------+------+\n",
            "|        Primary Type| count|\n",
            "+--------------------+------+\n",
            "|               THEFT|329460|\n",
            "|             BATTERY|263700|\n",
            "|     CRIMINAL DAMAGE|155455|\n",
            "|           NARCOTICS|135240|\n",
            "|             ASSAULT| 91289|\n",
            "|       OTHER OFFENSE| 87874|\n",
            "|            BURGLARY| 83397|\n",
            "|  DECEPTIVE PRACTICE| 75495|\n",
            "| MOTOR VEHICLE THEFT| 61138|\n",
            "|             ROBBERY| 57313|\n",
            "|   CRIMINAL TRESPASS| 36912|\n",
            "|   WEAPONS VIOLATION| 17233|\n",
            "|PUBLIC PEACE VIOL...| 13122|\n",
            "|OFFENSE INVOLVING...| 11398|\n",
            "|        PROSTITUTION|  7633|\n",
            "| CRIM SEXUAL ASSAULT|  6823|\n",
            "|INTERFERENCE WITH...|  6195|\n",
            "|         SEX OFFENSE|  4885|\n",
            "|            HOMICIDE|  2649|\n",
            "|               ARSON|  2217|\n",
            "+--------------------+------+\n",
            "only showing top 20 rows\n",
            "\n"
          ]
        }
      ]
    },
    {
      "cell_type": "code",
      "source": [
        "# crimegrouped by thte location description finding the most vulnerable areas of the Chicago city\n",
        "loc_group = df.groupBy('Location Description').count()\n",
        "loc_crimecount = loc_group.orderBy('count', ascending=False)\n",
        "loc_crimecount.show()"
      ],
      "metadata": {
        "colab": {
          "base_uri": "https://localhost:8080/"
        },
        "id": "tCskzU0xn5Se",
        "outputId": "0313c9ae-8b81-41b9-cb43-f656ee1c53d6"
      },
      "execution_count": null,
      "outputs": [
        {
          "output_type": "stream",
          "name": "stdout",
          "text": [
            "+--------------------+------+\n",
            "|Location Description| count|\n",
            "+--------------------+------+\n",
            "|              STREET|330471|\n",
            "|           RESIDENCE|233530|\n",
            "|           APARTMENT|185023|\n",
            "|            SIDEWALK|160891|\n",
            "|               OTHER| 55774|\n",
            "|PARKING LOT/GARAG...| 41768|\n",
            "|               ALLEY| 31771|\n",
            "|RESIDENTIAL YARD ...| 30645|\n",
            "|  SMALL RETAIL STORE| 28803|\n",
            "|SCHOOL, PUBLIC, B...| 25959|\n",
            "|          RESTAURANT| 25872|\n",
            "|    RESIDENCE-GARAGE| 25720|\n",
            "|RESIDENCE PORCH/H...| 25511|\n",
            "|VEHICLE NON-COMME...| 25104|\n",
            "|    DEPARTMENT STORE| 20709|\n",
            "|  GROCERY FOOD STORE| 15999|\n",
            "|         GAS STATION| 15387|\n",
            "|       PARK PROPERTY| 12270|\n",
            "|       BAR OR TAVERN|  9871|\n",
            "|COMMERCIAL / BUSI...|  7705|\n",
            "+--------------------+------+\n",
            "only showing top 20 rows\n",
            "\n"
          ]
        }
      ]
    },
    {
      "cell_type": "code",
      "source": [
        "crimecount_df = pd.DataFrame(crime_type_count.rdd.map(lambda l: l.asDict()).collect())\n",
        "crimecount_df.head(10)"
      ],
      "metadata": {
        "colab": {
          "base_uri": "https://localhost:8080/",
          "height": 363
        },
        "id": "_iU0pIgRohIG",
        "outputId": "8d15af4a-2480-4bcb-d325-e29d4f7817f1"
      },
      "execution_count": null,
      "outputs": [
        {
          "output_type": "execute_result",
          "data": {
            "text/plain": [
              "          Primary Type   count\n",
              "0                THEFT  329460\n",
              "1              BATTERY  263700\n",
              "2      CRIMINAL DAMAGE  155455\n",
              "3            NARCOTICS  135240\n",
              "4              ASSAULT   91289\n",
              "5        OTHER OFFENSE   87874\n",
              "6             BURGLARY   83397\n",
              "7   DECEPTIVE PRACTICE   75495\n",
              "8  MOTOR VEHICLE THEFT   61138\n",
              "9              ROBBERY   57313"
            ],
            "text/html": [
              "\n",
              "  <div id=\"df-578f1613-2d9f-482a-8a3d-c662796cf6f7\">\n",
              "    <div class=\"colab-df-container\">\n",
              "      <div>\n",
              "<style scoped>\n",
              "    .dataframe tbody tr th:only-of-type {\n",
              "        vertical-align: middle;\n",
              "    }\n",
              "\n",
              "    .dataframe tbody tr th {\n",
              "        vertical-align: top;\n",
              "    }\n",
              "\n",
              "    .dataframe thead th {\n",
              "        text-align: right;\n",
              "    }\n",
              "</style>\n",
              "<table border=\"1\" class=\"dataframe\">\n",
              "  <thead>\n",
              "    <tr style=\"text-align: right;\">\n",
              "      <th></th>\n",
              "      <th>Primary Type</th>\n",
              "      <th>count</th>\n",
              "    </tr>\n",
              "  </thead>\n",
              "  <tbody>\n",
              "    <tr>\n",
              "      <th>0</th>\n",
              "      <td>THEFT</td>\n",
              "      <td>329460</td>\n",
              "    </tr>\n",
              "    <tr>\n",
              "      <th>1</th>\n",
              "      <td>BATTERY</td>\n",
              "      <td>263700</td>\n",
              "    </tr>\n",
              "    <tr>\n",
              "      <th>2</th>\n",
              "      <td>CRIMINAL DAMAGE</td>\n",
              "      <td>155455</td>\n",
              "    </tr>\n",
              "    <tr>\n",
              "      <th>3</th>\n",
              "      <td>NARCOTICS</td>\n",
              "      <td>135240</td>\n",
              "    </tr>\n",
              "    <tr>\n",
              "      <th>4</th>\n",
              "      <td>ASSAULT</td>\n",
              "      <td>91289</td>\n",
              "    </tr>\n",
              "    <tr>\n",
              "      <th>5</th>\n",
              "      <td>OTHER OFFENSE</td>\n",
              "      <td>87874</td>\n",
              "    </tr>\n",
              "    <tr>\n",
              "      <th>6</th>\n",
              "      <td>BURGLARY</td>\n",
              "      <td>83397</td>\n",
              "    </tr>\n",
              "    <tr>\n",
              "      <th>7</th>\n",
              "      <td>DECEPTIVE PRACTICE</td>\n",
              "      <td>75495</td>\n",
              "    </tr>\n",
              "    <tr>\n",
              "      <th>8</th>\n",
              "      <td>MOTOR VEHICLE THEFT</td>\n",
              "      <td>61138</td>\n",
              "    </tr>\n",
              "    <tr>\n",
              "      <th>9</th>\n",
              "      <td>ROBBERY</td>\n",
              "      <td>57313</td>\n",
              "    </tr>\n",
              "  </tbody>\n",
              "</table>\n",
              "</div>\n",
              "      <button class=\"colab-df-convert\" onclick=\"convertToInteractive('df-578f1613-2d9f-482a-8a3d-c662796cf6f7')\"\n",
              "              title=\"Convert this dataframe to an interactive table.\"\n",
              "              style=\"display:none;\">\n",
              "        \n",
              "  <svg xmlns=\"http://www.w3.org/2000/svg\" height=\"24px\"viewBox=\"0 0 24 24\"\n",
              "       width=\"24px\">\n",
              "    <path d=\"M0 0h24v24H0V0z\" fill=\"none\"/>\n",
              "    <path d=\"M18.56 5.44l.94 2.06.94-2.06 2.06-.94-2.06-.94-.94-2.06-.94 2.06-2.06.94zm-11 1L8.5 8.5l.94-2.06 2.06-.94-2.06-.94L8.5 2.5l-.94 2.06-2.06.94zm10 10l.94 2.06.94-2.06 2.06-.94-2.06-.94-.94-2.06-.94 2.06-2.06.94z\"/><path d=\"M17.41 7.96l-1.37-1.37c-.4-.4-.92-.59-1.43-.59-.52 0-1.04.2-1.43.59L10.3 9.45l-7.72 7.72c-.78.78-.78 2.05 0 2.83L4 21.41c.39.39.9.59 1.41.59.51 0 1.02-.2 1.41-.59l7.78-7.78 2.81-2.81c.8-.78.8-2.07 0-2.86zM5.41 20L4 18.59l7.72-7.72 1.47 1.35L5.41 20z\"/>\n",
              "  </svg>\n",
              "      </button>\n",
              "      \n",
              "  <style>\n",
              "    .colab-df-container {\n",
              "      display:flex;\n",
              "      flex-wrap:wrap;\n",
              "      gap: 12px;\n",
              "    }\n",
              "\n",
              "    .colab-df-convert {\n",
              "      background-color: #E8F0FE;\n",
              "      border: none;\n",
              "      border-radius: 50%;\n",
              "      cursor: pointer;\n",
              "      display: none;\n",
              "      fill: #1967D2;\n",
              "      height: 32px;\n",
              "      padding: 0 0 0 0;\n",
              "      width: 32px;\n",
              "    }\n",
              "\n",
              "    .colab-df-convert:hover {\n",
              "      background-color: #E2EBFA;\n",
              "      box-shadow: 0px 1px 2px rgba(60, 64, 67, 0.3), 0px 1px 3px 1px rgba(60, 64, 67, 0.15);\n",
              "      fill: #174EA6;\n",
              "    }\n",
              "\n",
              "    [theme=dark] .colab-df-convert {\n",
              "      background-color: #3B4455;\n",
              "      fill: #D2E3FC;\n",
              "    }\n",
              "\n",
              "    [theme=dark] .colab-df-convert:hover {\n",
              "      background-color: #434B5C;\n",
              "      box-shadow: 0px 1px 3px 1px rgba(0, 0, 0, 0.15);\n",
              "      filter: drop-shadow(0px 1px 2px rgba(0, 0, 0, 0.3));\n",
              "      fill: #FFFFFF;\n",
              "    }\n",
              "  </style>\n",
              "\n",
              "      <script>\n",
              "        const buttonEl =\n",
              "          document.querySelector('#df-578f1613-2d9f-482a-8a3d-c662796cf6f7 button.colab-df-convert');\n",
              "        buttonEl.style.display =\n",
              "          google.colab.kernel.accessAllowed ? 'block' : 'none';\n",
              "\n",
              "        async function convertToInteractive(key) {\n",
              "          const element = document.querySelector('#df-578f1613-2d9f-482a-8a3d-c662796cf6f7');\n",
              "          const dataTable =\n",
              "            await google.colab.kernel.invokeFunction('convertToInteractive',\n",
              "                                                     [key], {});\n",
              "          if (!dataTable) return;\n",
              "\n",
              "          const docLinkHtml = 'Like what you see? Visit the ' +\n",
              "            '<a target=\"_blank\" href=https://colab.research.google.com/notebooks/data_table.ipynb>data table notebook</a>'\n",
              "            + ' to learn more about interactive tables.';\n",
              "          element.innerHTML = '';\n",
              "          dataTable['output_type'] = 'display_data';\n",
              "          await google.colab.output.renderOutput(dataTable, element);\n",
              "          const docLink = document.createElement('div');\n",
              "          docLink.innerHTML = docLinkHtml;\n",
              "          element.appendChild(docLink);\n",
              "        }\n",
              "      </script>\n",
              "    </div>\n",
              "  </div>\n",
              "  "
            ]
          },
          "metadata": {},
          "execution_count": 25
        }
      ]
    },
    {
      "cell_type": "code",
      "source": [
        "plt.rcParams[\"figure.figsize\"] = [20, 8]\n",
        "\n",
        "sns.set(style=\"whitegrid\")\n",
        "sns.set_color_codes(\"pastel\")\n",
        "\n",
        "#sns.despine(left=True, bottom=True)\n",
        "type_graph = sns.barplot(x='count', y='Primary Type', data=crimecount_df)\n",
        "type_graph.set(ylabel=\"Primary Type\", xlabel=\"Crimes Record Count\")"
      ],
      "metadata": {
        "colab": {
          "base_uri": "https://localhost:8080/",
          "height": 519
        },
        "id": "qE1vZX5kpfq3",
        "outputId": "30306a72-eb92-4589-dd7a-b9a5cb914786"
      },
      "execution_count": null,
      "outputs": [
        {
          "output_type": "execute_result",
          "data": {
            "text/plain": [
              "[Text(0, 0.5, 'Primary Type'), Text(0.5, 0, 'Crimes Record Count')]"
            ]
          },
          "metadata": {},
          "execution_count": 26
        },
        {
          "output_type": "display_data",
          "data": {
            "text/plain": [
              "<Figure size 1440x576 with 1 Axes>"
            ],
            "image/png": "[encoded data removed]"
          },
          "metadata": {}
        }
      ]
    },
    {
      "cell_type": "code",
      "source": [
        "crimecount_df = pd.DataFrame(loc_group.rdd.map(lambda l: l.asDict()).collect())\n",
        "crimecount_df = crimecount_df.loc[crimecount_df['count'] >4000]\n",
        "crimecount_df.shape"
      ],
      "metadata": {
        "colab": {
          "base_uri": "https://localhost:8080/"
        },
        "id": "rHIp9Dozpif_",
        "outputId": "fe568e68-c3dd-4dab-bf83-c820d92e1081"
      },
      "execution_count": null,
      "outputs": [
        {
          "output_type": "execute_result",
          "data": {
            "text/plain": [
              "(33, 2)"
            ]
          },
          "metadata": {},
          "execution_count": 27
        }
      ]
    },
    {
      "cell_type": "code",
      "source": [
        "plt.rcParams[\"figure.figsize\"] = [20, 8]\n",
        "\n",
        "sns.set(style=\"whitegrid\")\n",
        "sns.set_color_codes(\"pastel\")\n",
        "\n",
        "#sns.despine(left=True, bottom=True)\n",
        "type_graph = sns.barplot(x='count', y='Location Description', data=crimecount_df.sort_values('count', ascending=False))\n",
        "type_graph.set(ylabel=\"Location Description\", xlabel=\"Crimes Record Count\")"
      ],
      "metadata": {
        "colab": {
          "base_uri": "https://localhost:8080/",
          "height": 519
        },
        "id": "55X0o6sdptJp",
        "outputId": "c46e7b20-73cc-4fb8-b549-0aec0fe076a6"
      },
      "execution_count": null,
      "outputs": [
        {
          "output_type": "execute_result",
          "data": {
            "text/plain": [
              "[Text(0, 0.5, 'Location Description'), Text(0.5, 0, 'Crimes Record Count')]"
            ]
          },
          "metadata": {},
          "execution_count": 28
        },
        {
          "output_type": "display_data",
          "data": {
            "text/plain": [
              "<Figure size 1440x576 with 1 Axes>"
            ],
            "image/png": "[encoded data removed]"
          },
          "metadata": {}
        }
      ]
    },
    {
      "cell_type": "code",
      "source": [
        "import datetime\n",
        "from pyspark.sql.functions import *"
      ],
      "metadata": {
        "id": "aC9hciXlp5-w"
      },
      "execution_count": null,
      "outputs": []
    },
    {
      "cell_type": "code",
      "source": [
        "df.select(min('date').alias('first_record_date'), max('date').alias('latest_record_date')).show(truncate=False)"
      ],
      "metadata": {
        "colab": {
          "base_uri": "https://localhost:8080/"
        },
        "id": "DWpHCa-evFo5",
        "outputId": "af2fcc3f-ab0e-439e-d4e7-1058f5f11eff"
      },
      "execution_count": null,
      "outputs": [
        {
          "output_type": "stream",
          "name": "stdout",
          "text": [
            "+----------------------+----------------------+\n",
            "|first_record_date     |latest_record_date    |\n",
            "+----------------------+----------------------+\n",
            "|01/01/2012 01:00:00 AM|12/31/2016 12:56:00 AM|\n",
            "+----------------------+----------------------+\n",
            "\n"
          ]
        }
      ]
    },
    {
      "cell_type": "code",
      "source": [
        "df = df.withColumn('date_time', to_timestamp('date', 'MM/dd/yyyy hh:mm:ss a'))\\\n",
        "       .withColumn('month', trunc('date_time', 'YYYY')) #adding a month column to be able to view stats on a monthly basis"
      ],
      "metadata": {
        "id": "Kh0clP91vKGZ"
      },
      "execution_count": null,
      "outputs": []
    },
    {
      "cell_type": "code",
      "source": [
        "df.select(['date','date_time', 'month'])\\\n",
        "  .show(n=2, truncate=False)"
      ],
      "metadata": {
        "colab": {
          "base_uri": "https://localhost:8080/"
        },
        "id": "9zzWcZBHyEQM",
        "outputId": "e132e04b-c37c-4276-9d27-5135f8a2d831"
      },
      "execution_count": null,
      "outputs": [
        {
          "output_type": "stream",
          "name": "stdout",
          "text": [
            "+----------------------+-------------------+----------+\n",
            "|date                  |date_time          |month     |\n",
            "+----------------------+-------------------+----------+\n",
            "|05/03/2016 11:40:00 PM|2016-05-03 23:40:00|2016-01-01|\n",
            "|05/03/2016 09:40:00 PM|2016-05-03 21:40:00|2016-01-01|\n",
            "+----------------------+-------------------+----------+\n",
            "only showing top 2 rows\n",
            "\n"
          ]
        }
      ]
    },
    {
      "cell_type": "code",
      "source": [
        "# crime types and arrest over years:\n",
        "type_arrest_date = df.groupBy(['Arrest', 'month'])\\\n",
        "                     .count()\\\n",
        "                     .orderBy(['count'], ascending=[True, False])\n",
        "print()\n",
        "type_arrest_date.show(3, truncate=False)"
      ],
      "metadata": {
        "colab": {
          "base_uri": "https://localhost:8080/"
        },
        "id": "vw6mxH444OBz",
        "outputId": "0594af39-4984-4211-c280-3f9e70107bcf"
      },
      "execution_count": null,
      "outputs": [
        {
          "output_type": "stream",
          "name": "stdout",
          "text": [
            "\n",
            "+------+----------+-----+\n",
            "|Arrest|month     |count|\n",
            "+------+----------+-----+\n",
            "|true  |2017-01-01|1902 |\n",
            "|false |2017-01-01|9455 |\n",
            "|true  |2016-01-01|50386|\n",
            "+------+----------+-----+\n",
            "only showing top 3 rows\n",
            "\n"
          ]
        }
      ]
    },
    {
      "cell_type": "code",
      "source": [
        "# A pandas data frame of the collected dictionary version of the date-grouped DF above\n",
        "type_arrest_pddf = pd.DataFrame(type_arrest_date.rdd.map(lambda l: l.asDict()).collect())"
      ],
      "metadata": {
        "id": "V-p3W-Z4y8uy"
      },
      "execution_count": null,
      "outputs": []
    },
    {
      "cell_type": "code",
      "source": [
        "print(df.filter(col('Arrest') == True).count())"
      ],
      "metadata": {
        "colab": {
          "base_uri": "https://localhost:8080/"
        },
        "id": "vCPp9LPxsXp7",
        "outputId": "9991691c-068f-436d-893a-265506ecb798"
      },
      "execution_count": null,
      "outputs": [
        {
          "output_type": "stream",
          "name": "stdout",
          "text": [
            "377472\n"
          ]
        }
      ]
    },
    {
      "cell_type": "code",
      "source": [
        "print(df.filter(col('Arrest') == False).count())"
      ],
      "metadata": {
        "colab": {
          "base_uri": "https://localhost:8080/"
        },
        "id": "ueK3jaQPuR9x",
        "outputId": "7221acfb-2919-4616-dcb3-7328c993b31f"
      },
      "execution_count": null,
      "outputs": [
        {
          "output_type": "stream",
          "name": "stdout",
          "text": [
            "1079242\n"
          ]
        }
      ]
    },
    {
      "cell_type": "code",
      "source": [
        "print(df.filter(col('Arrest') != True).filter(col('Arrest') != False).count())"
      ],
      "metadata": {
        "colab": {
          "base_uri": "https://localhost:8080/"
        },
        "id": "Kg4NPZfouBDQ",
        "outputId": "0d08029a-ec60-4c24-9b74-9e8fe28ee25a"
      },
      "execution_count": null,
      "outputs": [
        {
          "output_type": "stream",
          "name": "stdout",
          "text": [
            "0\n"
          ]
        }
      ]
    },
    {
      "cell_type": "code",
      "source": [
        "type_arrest_pddf['Arrest'] = type_arrest_pddf['Arrest'].apply(lambda l: l==True)\n",
        "type_arrest_pddf.head(5)"
      ],
      "metadata": {
        "colab": {
          "base_uri": "https://localhost:8080/",
          "height": 206
        },
        "id": "301iNzOE3xu7",
        "outputId": "fdac7052-62c9-4324-8224-be84217f995f"
      },
      "execution_count": null,
      "outputs": [
        {
          "output_type": "execute_result",
          "data": {
            "text/plain": [
              "   Arrest       month  count\n",
              "0    True  2017-01-01   1902\n",
              "1   False  2017-01-01   9455\n",
              "2    True  2016-01-01  50386\n",
              "3    True  2015-01-01  69397\n",
              "4    True  2014-01-01  79057"
            ],
            "text/html": [
              "\n",
              "  <div id=\"df-028ba94a-6baa-4dc3-b050-354c0b305c9d\">\n",
              "    <div class=\"colab-df-container\">\n",
              "      <div>\n",
              "<style scoped>\n",
              "    .dataframe tbody tr th:only-of-type {\n",
              "        vertical-align: middle;\n",
              "    }\n",
              "\n",
              "    .dataframe tbody tr th {\n",
              "        vertical-align: top;\n",
              "    }\n",
              "\n",
              "    .dataframe thead th {\n",
              "        text-align: right;\n",
              "    }\n",
              "</style>\n",
              "<table border=\"1\" class=\"dataframe\">\n",
              "  <thead>\n",
              "    <tr style=\"text-align: right;\">\n",
              "      <th></th>\n",
              "      <th>Arrest</th>\n",
              "      <th>month</th>\n",
              "      <th>count</th>\n",
              "    </tr>\n",
              "  </thead>\n",
              "  <tbody>\n",
              "    <tr>\n",
              "      <th>0</th>\n",
              "      <td>True</td>\n",
              "      <td>2017-01-01</td>\n",
              "      <td>1902</td>\n",
              "    </tr>\n",
              "    <tr>\n",
              "      <th>1</th>\n",
              "      <td>False</td>\n",
              "      <td>2017-01-01</td>\n",
              "      <td>9455</td>\n",
              "    </tr>\n",
              "    <tr>\n",
              "      <th>2</th>\n",
              "      <td>True</td>\n",
              "      <td>2016-01-01</td>\n",
              "      <td>50386</td>\n",
              "    </tr>\n",
              "    <tr>\n",
              "      <th>3</th>\n",
              "      <td>True</td>\n",
              "      <td>2015-01-01</td>\n",
              "      <td>69397</td>\n",
              "    </tr>\n",
              "    <tr>\n",
              "      <th>4</th>\n",
              "      <td>True</td>\n",
              "      <td>2014-01-01</td>\n",
              "      <td>79057</td>\n",
              "    </tr>\n",
              "  </tbody>\n",
              "</table>\n",
              "</div>\n",
              "      <button class=\"colab-df-convert\" onclick=\"convertToInteractive('df-028ba94a-6baa-4dc3-b050-354c0b305c9d')\"\n",
              "              title=\"Convert this dataframe to an interactive table.\"\n",
              "              style=\"display:none;\">\n",
              "        \n",
              "  <svg xmlns=\"http://www.w3.org/2000/svg\" height=\"24px\"viewBox=\"0 0 24 24\"\n",
              "       width=\"24px\">\n",
              "    <path d=\"M0 0h24v24H0V0z\" fill=\"none\"/>\n",
              "    <path d=\"M18.56 5.44l.94 2.06.94-2.06 2.06-.94-2.06-.94-.94-2.06-.94 2.06-2.06.94zm-11 1L8.5 8.5l.94-2.06 2.06-.94-2.06-.94L8.5 2.5l-.94 2.06-2.06.94zm10 10l.94 2.06.94-2.06 2.06-.94-2.06-.94-.94-2.06-.94 2.06-2.06.94z\"/><path d=\"M17.41 7.96l-1.37-1.37c-.4-.4-.92-.59-1.43-.59-.52 0-1.04.2-1.43.59L10.3 9.45l-7.72 7.72c-.78.78-.78 2.05 0 2.83L4 21.41c.39.39.9.59 1.41.59.51 0 1.02-.2 1.41-.59l7.78-7.78 2.81-2.81c.8-.78.8-2.07 0-2.86zM5.41 20L4 18.59l7.72-7.72 1.47 1.35L5.41 20z\"/>\n",
              "  </svg>\n",
              "      </button>\n",
              "      \n",
              "  <style>\n",
              "    .colab-df-container {\n",
              "      display:flex;\n",
              "      flex-wrap:wrap;\n",
              "      gap: 12px;\n",
              "    }\n",
              "\n",
              "    .colab-df-convert {\n",
              "      background-color: #E8F0FE;\n",
              "      border: none;\n",
              "      border-radius: 50%;\n",
              "      cursor: pointer;\n",
              "      display: none;\n",
              "      fill: #1967D2;\n",
              "      height: 32px;\n",
              "      padding: 0 0 0 0;\n",
              "      width: 32px;\n",
              "    }\n",
              "\n",
              "    .colab-df-convert:hover {\n",
              "      background-color: #E2EBFA;\n",
              "      box-shadow: 0px 1px 2px rgba(60, 64, 67, 0.3), 0px 1px 3px 1px rgba(60, 64, 67, 0.15);\n",
              "      fill: #174EA6;\n",
              "    }\n",
              "\n",
              "    [theme=dark] .colab-df-convert {\n",
              "      background-color: #3B4455;\n",
              "      fill: #D2E3FC;\n",
              "    }\n",
              "\n",
              "    [theme=dark] .colab-df-convert:hover {\n",
              "      background-color: #434B5C;\n",
              "      box-shadow: 0px 1px 3px 1px rgba(0, 0, 0, 0.15);\n",
              "      filter: drop-shadow(0px 1px 2px rgba(0, 0, 0, 0.3));\n",
              "      fill: #FFFFFF;\n",
              "    }\n",
              "  </style>\n",
              "\n",
              "      <script>\n",
              "        const buttonEl =\n",
              "          document.querySelector('#df-028ba94a-6baa-4dc3-b050-354c0b305c9d button.colab-df-convert');\n",
              "        buttonEl.style.display =\n",
              "          google.colab.kernel.accessAllowed ? 'block' : 'none';\n",
              "\n",
              "        async function convertToInteractive(key) {\n",
              "          const element = document.querySelector('#df-028ba94a-6baa-4dc3-b050-354c0b305c9d');\n",
              "          const dataTable =\n",
              "            await google.colab.kernel.invokeFunction('convertToInteractive',\n",
              "                                                     [key], {});\n",
              "          if (!dataTable) return;\n",
              "\n",
              "          const docLinkHtml = 'Like what you see? Visit the ' +\n",
              "            '<a target=\"_blank\" href=https://colab.research.google.com/notebooks/data_table.ipynb>data table notebook</a>'\n",
              "            + ' to learn more about interactive tables.';\n",
              "          element.innerHTML = '';\n",
              "          dataTable['output_type'] = 'display_data';\n",
              "          await google.colab.output.renderOutput(dataTable, element);\n",
              "          const docLink = document.createElement('div');\n",
              "          docLink.innerHTML = docLinkHtml;\n",
              "          element.appendChild(docLink);\n",
              "        }\n",
              "      </script>\n",
              "    </div>\n",
              "  </div>\n",
              "  "
            ]
          },
          "metadata": {},
          "execution_count": 38
        }
      ]
    },
    {
      "cell_type": "code",
      "source": [
        "type_arrest_pddf['Arrest'].value_counts()"
      ],
      "metadata": {
        "colab": {
          "base_uri": "https://localhost:8080/"
        },
        "id": "w4WFsRB-3zdi",
        "outputId": "43befc54-e011-4d71-e3f5-eaab4e61d6dc"
      },
      "execution_count": null,
      "outputs": [
        {
          "output_type": "execute_result",
          "data": {
            "text/plain": [
              "True     6\n",
              "False    6\n",
              "Name: Arrest, dtype: int64"
            ]
          },
          "metadata": {},
          "execution_count": 39
        }
      ]
    },
    {
      "cell_type": "code",
      "source": [
        "# Data for plotting\n",
        "t = type_arrest_pddf['count'] - 20 # np.arange(0.0, 2.0, 0.01)\n",
        "s = type_arrest_pddf['month']\n",
        "\n",
        "arrested = type_arrest_pddf[type_arrest_pddf['Arrest'] == True]\n",
        "not_arrested = type_arrest_pddf[type_arrest_pddf['Arrest'] == False]\n",
        "\n",
        "# Note that using plt.subplots below is equivalent to using\n",
        "# fig = plt.figure() and then ax = fig.add_subplot(111)\n",
        "fig, ax = plt.subplots()\n",
        "ax.plot(arrested['month'], arrested['count'], label='Arrested')\n",
        "ax.plot(not_arrested['month'], not_arrested['count'], label='Not Arrested')\n",
        "\n",
        "ax.set(xlabel='Year - 2012-2017', ylabel='Total records',\n",
        "       title='Year-on-year crime records')\n",
        "ax.grid(b=True, which='both', axis='y')\n",
        "ax.legend()"
      ],
      "metadata": {
        "id": "Haliw31X4aRI",
        "colab": {
          "base_uri": "https://localhost:8080/",
          "height": 535
        },
        "outputId": "2288ab97-c1f4-415d-fcfe-05b8c5dfc2a0"
      },
      "execution_count": null,
      "outputs": [
        {
          "output_type": "execute_result",
          "data": {
            "text/plain": [
              "<matplotlib.legend.Legend at 0x7f4f73e072b0>"
            ]
          },
          "metadata": {},
          "execution_count": 40
        },
        {
          "output_type": "display_data",
          "data": {
            "text/plain": [
              "<Figure size 1440x576 with 1 Axes>"
            ],
            "image/png": "[encoded data removed]"
          },
          "metadata": {}
        }
      ]
    },
    {
      "cell_type": "code",
      "source": [
        "# Extract the \"hour\" field from the date into a separate column called \"hour\"\n",
        "df_hour = df.withColumn('hour', hour(df['date_time']))"
      ],
      "metadata": {
        "id": "LPOZ92I_jB2h"
      },
      "execution_count": null,
      "outputs": []
    },
    {
      "cell_type": "code",
      "source": [
        "# Derive a data frame with crime counts per hour of the day:\n",
        "hourly_count = df_hour.groupBy(['Primary Type', 'hour']).count().cache()\n",
        "hourly_total_count = hourly_count.groupBy('hour').sum('count')"
      ],
      "metadata": {
        "id": "SQH_GYcoj1eR"
      },
      "execution_count": null,
      "outputs": []
    },
    {
      "cell_type": "code",
      "source": [
        "hourly_crimecount_df = pd.DataFrame(hourly_total_count.select(hourly_total_count['hour'], hourly_total_count['sum(count)'].alias('count'))\\\n",
        "                                .rdd.map(lambda l: l.asDict())\\\n",
        "                                 .collect())"
      ],
      "metadata": {
        "id": "wgj8uTuKj3bB"
      },
      "execution_count": null,
      "outputs": []
    },
    {
      "cell_type": "code",
      "source": [
        "hourly_crimecount_df = hourly_crimecount_df.sort_values(by='hour')"
      ],
      "metadata": {
        "id": "4oDc56PLj9WT"
      },
      "execution_count": null,
      "outputs": []
    },
    {
      "cell_type": "code",
      "source": [
        "fig, ax = plt.subplots()\n",
        "ax.plot(hourly_crimecount_df['hour'], hourly_crimecount_df['count'], label='Hourly Count')\n",
        "\n",
        "ax.set(xlabel='Hour of Day', ylabel='Total records',\n",
        "       title='Overall hourly crime numbers')\n",
        "ax.grid(b=True, which='both', axis='y')\n",
        "ax.legend()"
      ],
      "metadata": {
        "colab": {
          "base_uri": "https://localhost:8080/",
          "height": 535
        },
        "id": "1fJJXBsukGEZ",
        "outputId": "b0c6eee4-deb3-4361-be98-1abbfb8526e3"
      },
      "execution_count": null,
      "outputs": [
        {
          "output_type": "execute_result",
          "data": {
            "text/plain": [
              "<matplotlib.legend.Legend at 0x7f4f73d8a400>"
            ]
          },
          "metadata": {},
          "execution_count": 45
        },
        {
          "output_type": "display_data",
          "data": {
            "text/plain": [
              "<Figure size 1440x576 with 1 Axes>"
            ],
            "image/png": "[encoded data removed]"
          },
          "metadata": {}
        }
      ]
    },
    {
      "cell_type": "markdown",
      "source": [
        "Types of locations with crime entries"
      ],
      "metadata": {
        "id": "3WLDN6UHkP91"
      }
    },
    {
      "cell_type": "code",
      "source": [
        "# Number of types of location recorded in the dataset\n",
        "df.select('Location Description').distinct().count()"
      ],
      "metadata": {
        "colab": {
          "base_uri": "https://localhost:8080/"
        },
        "id": "hOdsLt0ekH-6",
        "outputId": "d40923d2-687d-4b3c-fc46-7642c577f8af"
      },
      "execution_count": null,
      "outputs": [
        {
          "output_type": "execute_result",
          "data": {
            "text/plain": [
              "143"
            ]
          },
          "metadata": {},
          "execution_count": 46
        }
      ]
    },
    {
      "cell_type": "code",
      "source": [
        "df.groupBy(['Location Description']).count().orderBy('count', ascending=False).show(10)"
      ],
      "metadata": {
        "colab": {
          "base_uri": "https://localhost:8080/"
        },
        "id": "mx4-85DLkMYC",
        "outputId": "45c891cd-2226-4611-e47f-394b801ea807"
      },
      "execution_count": null,
      "outputs": [
        {
          "output_type": "stream",
          "name": "stdout",
          "text": [
            "+--------------------+------+\n",
            "|Location Description| count|\n",
            "+--------------------+------+\n",
            "|              STREET|330471|\n",
            "|           RESIDENCE|233530|\n",
            "|           APARTMENT|185023|\n",
            "|            SIDEWALK|160891|\n",
            "|               OTHER| 55774|\n",
            "|PARKING LOT/GARAG...| 41768|\n",
            "|               ALLEY| 31771|\n",
            "|RESIDENTIAL YARD ...| 30645|\n",
            "|  SMALL RETAIL STORE| 28803|\n",
            "|SCHOOL, PUBLIC, B...| 25959|\n",
            "+--------------------+------+\n",
            "only showing top 10 rows\n",
            "\n"
          ]
        }
      ]
    },
    {
      "cell_type": "markdown",
      "source": [
        "Domestic Crimes"
      ],
      "metadata": {
        "id": "mwXbmKM1wzqr"
      }
    },
    {
      "cell_type": "code",
      "source": [
        "domestic_hour = pd.DataFrame(df_hour.groupBy(['domestic', 'hour']).count().orderBy('hour').rdd.map(lambda row: row.asDict()).collect())"
      ],
      "metadata": {
        "id": "Mn2Oqo6bw355"
      },
      "execution_count": null,
      "outputs": []
    },
    {
      "cell_type": "code",
      "source": [
        "domestic_hour.head()"
      ],
      "metadata": {
        "colab": {
          "base_uri": "https://localhost:8080/",
          "height": 206
        },
        "id": "iJ-l11zDxQxe",
        "outputId": "a638d7b5-ccf8-423d-9b0b-f78c9dd2162e"
      },
      "execution_count": null,
      "outputs": [
        {
          "output_type": "execute_result",
          "data": {
            "text/plain": [
              "   domestic  hour  count\n",
              "0      True     0  11856\n",
              "1     False     0  59432\n",
              "2      True     1   9345\n",
              "3     False     1  34426\n",
              "4      True     2   8236"
            ],
            "text/html": [
              "\n",
              "  <div id=\"df-0d34f26f-1918-499c-9603-d65fed0a28cc\">\n",
              "    <div class=\"colab-df-container\">\n",
              "      <div>\n",
              "<style scoped>\n",
              "    .dataframe tbody tr th:only-of-type {\n",
              "        vertical-align: middle;\n",
              "    }\n",
              "\n",
              "    .dataframe tbody tr th {\n",
              "        vertical-align: top;\n",
              "    }\n",
              "\n",
              "    .dataframe thead th {\n",
              "        text-align: right;\n",
              "    }\n",
              "</style>\n",
              "<table border=\"1\" class=\"dataframe\">\n",
              "  <thead>\n",
              "    <tr style=\"text-align: right;\">\n",
              "      <th></th>\n",
              "      <th>domestic</th>\n",
              "      <th>hour</th>\n",
              "      <th>count</th>\n",
              "    </tr>\n",
              "  </thead>\n",
              "  <tbody>\n",
              "    <tr>\n",
              "      <th>0</th>\n",
              "      <td>True</td>\n",
              "      <td>0</td>\n",
              "      <td>11856</td>\n",
              "    </tr>\n",
              "    <tr>\n",
              "      <th>1</th>\n",
              "      <td>False</td>\n",
              "      <td>0</td>\n",
              "      <td>59432</td>\n",
              "    </tr>\n",
              "    <tr>\n",
              "      <th>2</th>\n",
              "      <td>True</td>\n",
              "      <td>1</td>\n",
              "      <td>9345</td>\n",
              "    </tr>\n",
              "    <tr>\n",
              "      <th>3</th>\n",
              "      <td>False</td>\n",
              "      <td>1</td>\n",
              "      <td>34426</td>\n",
              "    </tr>\n",
              "    <tr>\n",
              "      <th>4</th>\n",
              "      <td>True</td>\n",
              "      <td>2</td>\n",
              "      <td>8236</td>\n",
              "    </tr>\n",
              "  </tbody>\n",
              "</table>\n",
              "</div>\n",
              "      <button class=\"colab-df-convert\" onclick=\"convertToInteractive('df-0d34f26f-1918-499c-9603-d65fed0a28cc')\"\n",
              "              title=\"Convert this dataframe to an interactive table.\"\n",
              "              style=\"display:none;\">\n",
              "        \n",
              "  <svg xmlns=\"http://www.w3.org/2000/svg\" height=\"24px\"viewBox=\"0 0 24 24\"\n",
              "       width=\"24px\">\n",
              "    <path d=\"M0 0h24v24H0V0z\" fill=\"none\"/>\n",
              "    <path d=\"M18.56 5.44l.94 2.06.94-2.06 2.06-.94-2.06-.94-.94-2.06-.94 2.06-2.06.94zm-11 1L8.5 8.5l.94-2.06 2.06-.94-2.06-.94L8.5 2.5l-.94 2.06-2.06.94zm10 10l.94 2.06.94-2.06 2.06-.94-2.06-.94-.94-2.06-.94 2.06-2.06.94z\"/><path d=\"M17.41 7.96l-1.37-1.37c-.4-.4-.92-.59-1.43-.59-.52 0-1.04.2-1.43.59L10.3 9.45l-7.72 7.72c-.78.78-.78 2.05 0 2.83L4 21.41c.39.39.9.59 1.41.59.51 0 1.02-.2 1.41-.59l7.78-7.78 2.81-2.81c.8-.78.8-2.07 0-2.86zM5.41 20L4 18.59l7.72-7.72 1.47 1.35L5.41 20z\"/>\n",
              "  </svg>\n",
              "      </button>\n",
              "      \n",
              "  <style>\n",
              "    .colab-df-container {\n",
              "      display:flex;\n",
              "      flex-wrap:wrap;\n",
              "      gap: 12px;\n",
              "    }\n",
              "\n",
              "    .colab-df-convert {\n",
              "      background-color: #E8F0FE;\n",
              "      border: none;\n",
              "      border-radius: 50%;\n",
              "      cursor: pointer;\n",
              "      display: none;\n",
              "      fill: #1967D2;\n",
              "      height: 32px;\n",
              "      padding: 0 0 0 0;\n",
              "      width: 32px;\n",
              "    }\n",
              "\n",
              "    .colab-df-convert:hover {\n",
              "      background-color: #E2EBFA;\n",
              "      box-shadow: 0px 1px 2px rgba(60, 64, 67, 0.3), 0px 1px 3px 1px rgba(60, 64, 67, 0.15);\n",
              "      fill: #174EA6;\n",
              "    }\n",
              "\n",
              "    [theme=dark] .colab-df-convert {\n",
              "      background-color: #3B4455;\n",
              "      fill: #D2E3FC;\n",
              "    }\n",
              "\n",
              "    [theme=dark] .colab-df-convert:hover {\n",
              "      background-color: #434B5C;\n",
              "      box-shadow: 0px 1px 3px 1px rgba(0, 0, 0, 0.15);\n",
              "      filter: drop-shadow(0px 1px 2px rgba(0, 0, 0, 0.3));\n",
              "      fill: #FFFFFF;\n",
              "    }\n",
              "  </style>\n",
              "\n",
              "      <script>\n",
              "        const buttonEl =\n",
              "          document.querySelector('#df-0d34f26f-1918-499c-9603-d65fed0a28cc button.colab-df-convert');\n",
              "        buttonEl.style.display =\n",
              "          google.colab.kernel.accessAllowed ? 'block' : 'none';\n",
              "\n",
              "        async function convertToInteractive(key) {\n",
              "          const element = document.querySelector('#df-0d34f26f-1918-499c-9603-d65fed0a28cc');\n",
              "          const dataTable =\n",
              "            await google.colab.kernel.invokeFunction('convertToInteractive',\n",
              "                                                     [key], {});\n",
              "          if (!dataTable) return;\n",
              "\n",
              "          const docLinkHtml = 'Like what you see? Visit the ' +\n",
              "            '<a target=\"_blank\" href=https://colab.research.google.com/notebooks/data_table.ipynb>data table notebook</a>'\n",
              "            + ' to learn more about interactive tables.';\n",
              "          element.innerHTML = '';\n",
              "          dataTable['output_type'] = 'display_data';\n",
              "          await google.colab.output.renderOutput(dataTable, element);\n",
              "          const docLink = document.createElement('div');\n",
              "          docLink.innerHTML = docLinkHtml;\n",
              "          element.appendChild(docLink);\n",
              "        }\n",
              "      </script>\n",
              "    </div>\n",
              "  </div>\n",
              "  "
            ]
          },
          "metadata": {},
          "execution_count": 49
        }
      ]
    },
    {
      "cell_type": "code",
      "source": [
        "dom = domestic_hour[domestic_hour['domestic'] == True]['count']\n",
        "non_dom = domestic_hour[domestic_hour['domestic'] == False]['count']\n",
        "\n",
        "either_dom = domestic_hour.groupby(by=['hour']).sum()['count']\n",
        "\n",
        "dom_keys = domestic_hour[domestic_hour['domestic'] == False]['hour']"
      ],
      "metadata": {
        "id": "KdPbuNAcw-lA"
      },
      "execution_count": null,
      "outputs": []
    },
    {
      "cell_type": "code",
      "source": [
        "figure, axes = plt.subplots()\n",
        "\n",
        "axes.plot(dom_keys, either_dom, label='Total hourly count')\n",
        "axes.plot(dom_keys, dom, label='Domestic crime count')\n",
        "axes.plot(dom_keys, non_dom, label='Non-Domestic hourly count')\n",
        "\n",
        "axes.legend()"
      ],
      "metadata": {
        "colab": {
          "base_uri": "https://localhost:8080/",
          "height": 502
        },
        "id": "gZvdBwvExAA6",
        "outputId": "d3d077a9-1f6d-4249-f559-0a2773f47e8a"
      },
      "execution_count": null,
      "outputs": [
        {
          "output_type": "execute_result",
          "data": {
            "text/plain": [
              "<matplotlib.legend.Legend at 0x7f4f73d4a970>"
            ]
          },
          "metadata": {},
          "execution_count": 51
        },
        {
          "output_type": "display_data",
          "data": {
            "text/plain": [
              "<Figure size 1440x576 with 1 Axes>"
            ],
            "image/png": "[encoded data removed]"
          },
          "metadata": {}
        }
      ]
    },
    {
      "cell_type": "code",
      "source": [
        "df_dates = df_hour.withColumn('week_day', dayofweek(df_hour['date_time']))\\\n",
        "                 .withColumn('year_month', month(df_hour['date_time']))\\\n",
        "                 .withColumn('month_day', dayofmonth(df_hour['date_time']))\\\n",
        "                 .withColumn('date_number', datediff(df['date_time'], to_date(lit('2001-01-01'), format='yyyy-MM-dd')))\\\n",
        "                 .cache()"
      ],
      "metadata": {
        "id": "iw1uTRVow_9z"
      },
      "execution_count": null,
      "outputs": []
    },
    {
      "cell_type": "code",
      "source": [
        "df_dates.select(['date', 'month', 'hour', 'week_day', 'year', 'year_month', 'month_day', 'date_number']).show(20, truncate=False)"
      ],
      "metadata": {
        "colab": {
          "base_uri": "https://localhost:8080/"
        },
        "id": "xcX1Sr1iw_6a",
        "outputId": "903e2705-654e-4162-9167-9a183e892a68"
      },
      "execution_count": null,
      "outputs": [
        {
          "output_type": "stream",
          "name": "stdout",
          "text": [
            "+----------------------+----------+----+--------+----+----------+---------+-----------+\n",
            "|date                  |month     |hour|week_day|year|year_month|month_day|date_number|\n",
            "+----------------------+----------+----+--------+----+----------+---------+-----------+\n",
            "|05/03/2016 11:40:00 PM|2016-01-01|23  |3       |2016|5         |3        |5601       |\n",
            "|05/03/2016 09:40:00 PM|2016-01-01|21  |3       |2016|5         |3        |5601       |\n",
            "|05/03/2016 11:31:00 PM|2016-01-01|23  |3       |2016|5         |3        |5601       |\n",
            "|05/03/2016 10:10:00 PM|2016-01-01|22  |3       |2016|5         |3        |5601       |\n",
            "|05/03/2016 10:00:00 PM|2016-01-01|22  |3       |2016|5         |3        |5601       |\n",
            "|05/03/2016 10:35:00 PM|2016-01-01|22  |3       |2016|5         |3        |5601       |\n",
            "|05/03/2016 10:30:00 PM|2016-01-01|22  |3       |2016|5         |3        |5601       |\n",
            "|05/03/2016 09:30:00 PM|2016-01-01|21  |3       |2016|5         |3        |5601       |\n",
            "|05/03/2016 04:00:00 PM|2016-01-01|16  |3       |2016|5         |3        |5601       |\n",
            "|05/03/2016 10:30:00 PM|2016-01-01|22  |3       |2016|5         |3        |5601       |\n",
            "|05/03/2016 09:44:00 PM|2016-01-01|21  |3       |2016|5         |3        |5601       |\n",
            "|05/03/2016 11:11:00 PM|2016-01-01|23  |3       |2016|5         |3        |5601       |\n",
            "|05/03/2016 05:30:00 PM|2016-01-01|17  |3       |2016|5         |3        |5601       |\n",
            "|05/03/2016 09:00:00 AM|2016-01-01|9   |3       |2016|5         |3        |5601       |\n",
            "|05/03/2016 10:08:00 PM|2016-01-01|22  |3       |2016|5         |3        |5601       |\n",
            "|05/03/2016 04:00:00 PM|2016-01-01|16  |3       |2016|5         |3        |5601       |\n",
            "|05/03/2016 09:45:00 PM|2016-01-01|21  |3       |2016|5         |3        |5601       |\n",
            "|05/03/2016 10:00:00 PM|2016-01-01|22  |3       |2016|5         |3        |5601       |\n",
            "|05/03/2016 08:00:00 PM|2016-01-01|20  |3       |2016|5         |3        |5601       |\n",
            "|05/03/2016 11:00:00 PM|2016-01-01|23  |3       |2016|5         |3        |5601       |\n",
            "+----------------------+----------+----+--------+----+----------+---------+-----------+\n",
            "only showing top 20 rows\n",
            "\n"
          ]
        }
      ]
    },
    {
      "cell_type": "markdown",
      "source": [
        "Crime levels based on day of the week"
      ],
      "metadata": {
        "id": "OjxrbrQmx2A-"
      }
    },
    {
      "cell_type": "code",
      "source": [
        "week_day_crime_counts = df_dates.groupBy('week_day').count()"
      ],
      "metadata": {
        "id": "WqdhhMSYw_kw"
      },
      "execution_count": null,
      "outputs": []
    },
    {
      "cell_type": "code",
      "source": [
        "week_day_crime_crimecount_df = pd.DataFrame(week_day_crime_counts.orderBy('week_day').rdd.map(lambda e: e.asDict()).collect())"
      ],
      "metadata": {
        "id": "Jt8isVtKx95W"
      },
      "execution_count": null,
      "outputs": []
    },
    {
      "cell_type": "code",
      "source": [
        "sns.barplot(data=week_day_crime_crimecount_df, x='week_day', y='count')"
      ],
      "metadata": {
        "colab": {
          "base_uri": "https://localhost:8080/",
          "height": 519
        },
        "id": "t14aId8zx-ay",
        "outputId": "30f49e94-3e6a-492a-d904-3b895547e1dc"
      },
      "execution_count": null,
      "outputs": [
        {
          "output_type": "execute_result",
          "data": {
            "text/plain": [
              "<matplotlib.axes._subplots.AxesSubplot at 0x7f4f73ccbf70>"
            ]
          },
          "metadata": {},
          "execution_count": 56
        },
        {
          "output_type": "display_data",
          "data": {
            "text/plain": [
              "<Figure size 1440x576 with 1 Axes>"
            ],
            "image/png": "[encoded data removed]"
          },
          "metadata": {}
        }
      ]
    },
    {
      "cell_type": "markdown",
      "source": [
        "Month of year"
      ],
      "metadata": {
        "id": "R9zX-xOCyJqb"
      }
    },
    {
      "cell_type": "code",
      "source": [
        "year_month_crime_counts = df_dates.groupBy('year_month').count()"
      ],
      "metadata": {
        "id": "B43XCypFx-Wm"
      },
      "execution_count": null,
      "outputs": []
    },
    {
      "cell_type": "code",
      "source": [
        "year_month_crime_crimecount_df = pd.DataFrame(year_month_crime_counts.orderBy('year_month').rdd.map(lambda e: e.asDict()).collect())\n"
      ],
      "metadata": {
        "id": "P0EVYS4ux-Ps"
      },
      "execution_count": null,
      "outputs": []
    },
    {
      "cell_type": "code",
      "source": [
        "year_month_crime_crimecount_df"
      ],
      "metadata": {
        "colab": {
          "base_uri": "https://localhost:8080/",
          "height": 426
        },
        "id": "qa11a8cfx-Ga",
        "outputId": "6aac99b3-286d-495f-b8d4-ffb464c70a04"
      },
      "execution_count": null,
      "outputs": [
        {
          "output_type": "execute_result",
          "data": {
            "text/plain": [
              "    year_month   count\n",
              "0            1  123809\n",
              "1            2   98073\n",
              "2            3  119010\n",
              "3            4  118064\n",
              "4            5  129735\n",
              "5            6  130575\n",
              "6            7  135762\n",
              "7            8  133738\n",
              "8            9  124067\n",
              "9           10  123571\n",
              "10          11  111834\n",
              "11          12  108476"
            ],
            "text/html": [
              "\n",
              "  <div id=\"df-84293fd4-c587-42ce-a78d-c25ea7f51d34\">\n",
              "    <div class=\"colab-df-container\">\n",
              "      <div>\n",
              "<style scoped>\n",
              "    .dataframe tbody tr th:only-of-type {\n",
              "        vertical-align: middle;\n",
              "    }\n",
              "\n",
              "    .dataframe tbody tr th {\n",
              "        vertical-align: top;\n",
              "    }\n",
              "\n",
              "    .dataframe thead th {\n",
              "        text-align: right;\n",
              "    }\n",
              "</style>\n",
              "<table border=\"1\" class=\"dataframe\">\n",
              "  <thead>\n",
              "    <tr style=\"text-align: right;\">\n",
              "      <th></th>\n",
              "      <th>year_month</th>\n",
              "      <th>count</th>\n",
              "    </tr>\n",
              "  </thead>\n",
              "  <tbody>\n",
              "    <tr>\n",
              "      <th>0</th>\n",
              "      <td>1</td>\n",
              "      <td>123809</td>\n",
              "    </tr>\n",
              "    <tr>\n",
              "      <th>1</th>\n",
              "      <td>2</td>\n",
              "      <td>98073</td>\n",
              "    </tr>\n",
              "    <tr>\n",
              "      <th>2</th>\n",
              "      <td>3</td>\n",
              "      <td>119010</td>\n",
              "    </tr>\n",
              "    <tr>\n",
              "      <th>3</th>\n",
              "      <td>4</td>\n",
              "      <td>118064</td>\n",
              "    </tr>\n",
              "    <tr>\n",
              "      <th>4</th>\n",
              "      <td>5</td>\n",
              "      <td>129735</td>\n",
              "    </tr>\n",
              "    <tr>\n",
              "      <th>5</th>\n",
              "      <td>6</td>\n",
              "      <td>130575</td>\n",
              "    </tr>\n",
              "    <tr>\n",
              "      <th>6</th>\n",
              "      <td>7</td>\n",
              "      <td>135762</td>\n",
              "    </tr>\n",
              "    <tr>\n",
              "      <th>7</th>\n",
              "      <td>8</td>\n",
              "      <td>133738</td>\n",
              "    </tr>\n",
              "    <tr>\n",
              "      <th>8</th>\n",
              "      <td>9</td>\n",
              "      <td>124067</td>\n",
              "    </tr>\n",
              "    <tr>\n",
              "      <th>9</th>\n",
              "      <td>10</td>\n",
              "      <td>123571</td>\n",
              "    </tr>\n",
              "    <tr>\n",
              "      <th>10</th>\n",
              "      <td>11</td>\n",
              "      <td>111834</td>\n",
              "    </tr>\n",
              "    <tr>\n",
              "      <th>11</th>\n",
              "      <td>12</td>\n",
              "      <td>108476</td>\n",
              "    </tr>\n",
              "  </tbody>\n",
              "</table>\n",
              "</div>\n",
              "      <button class=\"colab-df-convert\" onclick=\"convertToInteractive('df-84293fd4-c587-42ce-a78d-c25ea7f51d34')\"\n",
              "              title=\"Convert this dataframe to an interactive table.\"\n",
              "              style=\"display:none;\">\n",
              "        \n",
              "  <svg xmlns=\"http://www.w3.org/2000/svg\" height=\"24px\"viewBox=\"0 0 24 24\"\n",
              "       width=\"24px\">\n",
              "    <path d=\"M0 0h24v24H0V0z\" fill=\"none\"/>\n",
              "    <path d=\"M18.56 5.44l.94 2.06.94-2.06 2.06-.94-2.06-.94-.94-2.06-.94 2.06-2.06.94zm-11 1L8.5 8.5l.94-2.06 2.06-.94-2.06-.94L8.5 2.5l-.94 2.06-2.06.94zm10 10l.94 2.06.94-2.06 2.06-.94-2.06-.94-.94-2.06-.94 2.06-2.06.94z\"/><path d=\"M17.41 7.96l-1.37-1.37c-.4-.4-.92-.59-1.43-.59-.52 0-1.04.2-1.43.59L10.3 9.45l-7.72 7.72c-.78.78-.78 2.05 0 2.83L4 21.41c.39.39.9.59 1.41.59.51 0 1.02-.2 1.41-.59l7.78-7.78 2.81-2.81c.8-.78.8-2.07 0-2.86zM5.41 20L4 18.59l7.72-7.72 1.47 1.35L5.41 20z\"/>\n",
              "  </svg>\n",
              "      </button>\n",
              "      \n",
              "  <style>\n",
              "    .colab-df-container {\n",
              "      display:flex;\n",
              "      flex-wrap:wrap;\n",
              "      gap: 12px;\n",
              "    }\n",
              "\n",
              "    .colab-df-convert {\n",
              "      background-color: #E8F0FE;\n",
              "      border: none;\n",
              "      border-radius: 50%;\n",
              "      cursor: pointer;\n",
              "      display: none;\n",
              "      fill: #1967D2;\n",
              "      height: 32px;\n",
              "      padding: 0 0 0 0;\n",
              "      width: 32px;\n",
              "    }\n",
              "\n",
              "    .colab-df-convert:hover {\n",
              "      background-color: #E2EBFA;\n",
              "      box-shadow: 0px 1px 2px rgba(60, 64, 67, 0.3), 0px 1px 3px 1px rgba(60, 64, 67, 0.15);\n",
              "      fill: #174EA6;\n",
              "    }\n",
              "\n",
              "    [theme=dark] .colab-df-convert {\n",
              "      background-color: #3B4455;\n",
              "      fill: #D2E3FC;\n",
              "    }\n",
              "\n",
              "    [theme=dark] .colab-df-convert:hover {\n",
              "      background-color: #434B5C;\n",
              "      box-shadow: 0px 1px 3px 1px rgba(0, 0, 0, 0.15);\n",
              "      filter: drop-shadow(0px 1px 2px rgba(0, 0, 0, 0.3));\n",
              "      fill: #FFFFFF;\n",
              "    }\n",
              "  </style>\n",
              "\n",
              "      <script>\n",
              "        const buttonEl =\n",
              "          document.querySelector('#df-84293fd4-c587-42ce-a78d-c25ea7f51d34 button.colab-df-convert');\n",
              "        buttonEl.style.display =\n",
              "          google.colab.kernel.accessAllowed ? 'block' : 'none';\n",
              "\n",
              "        async function convertToInteractive(key) {\n",
              "          const element = document.querySelector('#df-84293fd4-c587-42ce-a78d-c25ea7f51d34');\n",
              "          const dataTable =\n",
              "            await google.colab.kernel.invokeFunction('convertToInteractive',\n",
              "                                                     [key], {});\n",
              "          if (!dataTable) return;\n",
              "\n",
              "          const docLinkHtml = 'Like what you see? Visit the ' +\n",
              "            '<a target=\"_blank\" href=https://colab.research.google.com/notebooks/data_table.ipynb>data table notebook</a>'\n",
              "            + ' to learn more about interactive tables.';\n",
              "          element.innerHTML = '';\n",
              "          dataTable['output_type'] = 'display_data';\n",
              "          await google.colab.output.renderOutput(dataTable, element);\n",
              "          const docLink = document.createElement('div');\n",
              "          docLink.innerHTML = docLinkHtml;\n",
              "          element.appendChild(docLink);\n",
              "        }\n",
              "      </script>\n",
              "    </div>\n",
              "  </div>\n",
              "  "
            ]
          },
          "metadata": {},
          "execution_count": 59
        }
      ]
    },
    {
      "cell_type": "code",
      "source": [
        "sns.barplot(data=year_month_crime_crimecount_df, y='count', x='year_month')"
      ],
      "metadata": {
        "colab": {
          "base_uri": "https://localhost:8080/",
          "height": 519
        },
        "id": "aqEnpoi-ySzy",
        "outputId": "76f88a6e-cf4c-49b6-94f3-69abf30db7be"
      },
      "execution_count": null,
      "outputs": [
        {
          "output_type": "execute_result",
          "data": {
            "text/plain": [
              "<matplotlib.axes._subplots.AxesSubplot at 0x7f4f73c4ee50>"
            ]
          },
          "metadata": {},
          "execution_count": 60
        },
        {
          "output_type": "display_data",
          "data": {
            "text/plain": [
              "<Figure size 1440x576 with 1 Axes>"
            ],
            "image/png": "[encoded data removed]"
          },
          "metadata": {}
        }
      ]
    },
    {
      "cell_type": "markdown",
      "source": [
        "Day of month"
      ],
      "metadata": {
        "id": "OJo9W0kdydn0"
      }
    },
    {
      "cell_type": "code",
      "source": [
        "month_day_crime_counts = df_dates.groupBy('month_day').count()"
      ],
      "metadata": {
        "id": "Fo0rQWAJySxQ"
      },
      "execution_count": null,
      "outputs": []
    },
    {
      "cell_type": "code",
      "source": [
        "month_day_crime_crimecount_df = pd.DataFrame(month_day_crime_counts.orderBy('month_day').rdd.map(lambda e: e.asDict()).collect())"
      ],
      "metadata": {
        "id": "SVzOA-1iySua"
      },
      "execution_count": null,
      "outputs": []
    },
    {
      "cell_type": "markdown",
      "source": [
        "Top 10 worst days of the month"
      ],
      "metadata": {
        "id": "6-n9Fzcsyi6d"
      }
    },
    {
      "cell_type": "code",
      "source": [
        "month_day_crime_crimecount_df.sort_values(by='count', ascending=False).head(10)"
      ],
      "metadata": {
        "colab": {
          "base_uri": "https://localhost:8080/",
          "height": 363
        },
        "id": "fXPmQZyGySr2",
        "outputId": "fc7c7894-0326-48dc-8ff5-65ddca619c00"
      },
      "execution_count": null,
      "outputs": [
        {
          "output_type": "execute_result",
          "data": {
            "text/plain": [
              "    month_day  count\n",
              "0           1  57644\n",
              "14         15  50041\n",
              "16         17  48681\n",
              "15         16  48285\n",
              "13         14  48201\n",
              "19         20  48193\n",
              "17         18  48003\n",
              "6           7  47937\n",
              "2           3  47883\n",
              "12         13  47591"
            ],
            "text/html": [
              "\n",
              "  <div id=\"df-8d33c6cd-d96f-4b1f-ba42-2697984a7c3c\">\n",
              "    <div class=\"colab-df-container\">\n",
              "      <div>\n",
              "<style scoped>\n",
              "    .dataframe tbody tr th:only-of-type {\n",
              "        vertical-align: middle;\n",
              "    }\n",
              "\n",
              "    .dataframe tbody tr th {\n",
              "        vertical-align: top;\n",
              "    }\n",
              "\n",
              "    .dataframe thead th {\n",
              "        text-align: right;\n",
              "    }\n",
              "</style>\n",
              "<table border=\"1\" class=\"dataframe\">\n",
              "  <thead>\n",
              "    <tr style=\"text-align: right;\">\n",
              "      <th></th>\n",
              "      <th>month_day</th>\n",
              "      <th>count</th>\n",
              "    </tr>\n",
              "  </thead>\n",
              "  <tbody>\n",
              "    <tr>\n",
              "      <th>0</th>\n",
              "      <td>1</td>\n",
              "      <td>57644</td>\n",
              "    </tr>\n",
              "    <tr>\n",
              "      <th>14</th>\n",
              "      <td>15</td>\n",
              "      <td>50041</td>\n",
              "    </tr>\n",
              "    <tr>\n",
              "      <th>16</th>\n",
              "      <td>17</td>\n",
              "      <td>48681</td>\n",
              "    </tr>\n",
              "    <tr>\n",
              "      <th>15</th>\n",
              "      <td>16</td>\n",
              "      <td>48285</td>\n",
              "    </tr>\n",
              "    <tr>\n",
              "      <th>13</th>\n",
              "      <td>14</td>\n",
              "      <td>48201</td>\n",
              "    </tr>\n",
              "    <tr>\n",
              "      <th>19</th>\n",
              "      <td>20</td>\n",
              "      <td>48193</td>\n",
              "    </tr>\n",
              "    <tr>\n",
              "      <th>17</th>\n",
              "      <td>18</td>\n",
              "      <td>48003</td>\n",
              "    </tr>\n",
              "    <tr>\n",
              "      <th>6</th>\n",
              "      <td>7</td>\n",
              "      <td>47937</td>\n",
              "    </tr>\n",
              "    <tr>\n",
              "      <th>2</th>\n",
              "      <td>3</td>\n",
              "      <td>47883</td>\n",
              "    </tr>\n",
              "    <tr>\n",
              "      <th>12</th>\n",
              "      <td>13</td>\n",
              "      <td>47591</td>\n",
              "    </tr>\n",
              "  </tbody>\n",
              "</table>\n",
              "</div>\n",
              "      <button class=\"colab-df-convert\" onclick=\"convertToInteractive('df-8d33c6cd-d96f-4b1f-ba42-2697984a7c3c')\"\n",
              "              title=\"Convert this dataframe to an interactive table.\"\n",
              "              style=\"display:none;\">\n",
              "        \n",
              "  <svg xmlns=\"http://www.w3.org/2000/svg\" height=\"24px\"viewBox=\"0 0 24 24\"\n",
              "       width=\"24px\">\n",
              "    <path d=\"M0 0h24v24H0V0z\" fill=\"none\"/>\n",
              "    <path d=\"M18.56 5.44l.94 2.06.94-2.06 2.06-.94-2.06-.94-.94-2.06-.94 2.06-2.06.94zm-11 1L8.5 8.5l.94-2.06 2.06-.94-2.06-.94L8.5 2.5l-.94 2.06-2.06.94zm10 10l.94 2.06.94-2.06 2.06-.94-2.06-.94-.94-2.06-.94 2.06-2.06.94z\"/><path d=\"M17.41 7.96l-1.37-1.37c-.4-.4-.92-.59-1.43-.59-.52 0-1.04.2-1.43.59L10.3 9.45l-7.72 7.72c-.78.78-.78 2.05 0 2.83L4 21.41c.39.39.9.59 1.41.59.51 0 1.02-.2 1.41-.59l7.78-7.78 2.81-2.81c.8-.78.8-2.07 0-2.86zM5.41 20L4 18.59l7.72-7.72 1.47 1.35L5.41 20z\"/>\n",
              "  </svg>\n",
              "      </button>\n",
              "      \n",
              "  <style>\n",
              "    .colab-df-container {\n",
              "      display:flex;\n",
              "      flex-wrap:wrap;\n",
              "      gap: 12px;\n",
              "    }\n",
              "\n",
              "    .colab-df-convert {\n",
              "      background-color: #E8F0FE;\n",
              "      border: none;\n",
              "      border-radius: 50%;\n",
              "      cursor: pointer;\n",
              "      display: none;\n",
              "      fill: #1967D2;\n",
              "      height: 32px;\n",
              "      padding: 0 0 0 0;\n",
              "      width: 32px;\n",
              "    }\n",
              "\n",
              "    .colab-df-convert:hover {\n",
              "      background-color: #E2EBFA;\n",
              "      box-shadow: 0px 1px 2px rgba(60, 64, 67, 0.3), 0px 1px 3px 1px rgba(60, 64, 67, 0.15);\n",
              "      fill: #174EA6;\n",
              "    }\n",
              "\n",
              "    [theme=dark] .colab-df-convert {\n",
              "      background-color: #3B4455;\n",
              "      fill: #D2E3FC;\n",
              "    }\n",
              "\n",
              "    [theme=dark] .colab-df-convert:hover {\n",
              "      background-color: #434B5C;\n",
              "      box-shadow: 0px 1px 3px 1px rgba(0, 0, 0, 0.15);\n",
              "      filter: drop-shadow(0px 1px 2px rgba(0, 0, 0, 0.3));\n",
              "      fill: #FFFFFF;\n",
              "    }\n",
              "  </style>\n",
              "\n",
              "      <script>\n",
              "        const buttonEl =\n",
              "          document.querySelector('#df-8d33c6cd-d96f-4b1f-ba42-2697984a7c3c button.colab-df-convert');\n",
              "        buttonEl.style.display =\n",
              "          google.colab.kernel.accessAllowed ? 'block' : 'none';\n",
              "\n",
              "        async function convertToInteractive(key) {\n",
              "          const element = document.querySelector('#df-8d33c6cd-d96f-4b1f-ba42-2697984a7c3c');\n",
              "          const dataTable =\n",
              "            await google.colab.kernel.invokeFunction('convertToInteractive',\n",
              "                                                     [key], {});\n",
              "          if (!dataTable) return;\n",
              "\n",
              "          const docLinkHtml = 'Like what you see? Visit the ' +\n",
              "            '<a target=\"_blank\" href=https://colab.research.google.com/notebooks/data_table.ipynb>data table notebook</a>'\n",
              "            + ' to learn more about interactive tables.';\n",
              "          element.innerHTML = '';\n",
              "          dataTable['output_type'] = 'display_data';\n",
              "          await google.colab.output.renderOutput(dataTable, element);\n",
              "          const docLink = document.createElement('div');\n",
              "          docLink.innerHTML = docLinkHtml;\n",
              "          element.appendChild(docLink);\n",
              "        }\n",
              "      </script>\n",
              "    </div>\n",
              "  </div>\n",
              "  "
            ]
          },
          "metadata": {},
          "execution_count": 63
        }
      ]
    },
    {
      "cell_type": "code",
      "source": [
        "month_day_crime_crimecount_df = month_day_crime_crimecount_df.sort_values(by='month_day', ascending=True)"
      ],
      "metadata": {
        "id": "Ei9dPBR9ySo0"
      },
      "execution_count": null,
      "outputs": []
    },
    {
      "cell_type": "code",
      "source": [
        "fg, ax = plt.subplots()\n",
        "\n",
        "ax.plot(month_day_crime_crimecount_df['month_day'], month_day_crime_crimecount_df['count'], label='Crimes over the month')\n",
        "\n",
        "ax.grid(b=True, which='both')\n",
        "ax.legend()"
      ],
      "metadata": {
        "colab": {
          "base_uri": "https://localhost:8080/",
          "height": 502
        },
        "id": "syO7CG4zySl1",
        "outputId": "22fea217-403f-44b3-ec50-d7bc8709cd68"
      },
      "execution_count": null,
      "outputs": [
        {
          "output_type": "execute_result",
          "data": {
            "text/plain": [
              "<matplotlib.legend.Legend at 0x7f4f73ba4070>"
            ]
          },
          "metadata": {},
          "execution_count": 65
        },
        {
          "output_type": "display_data",
          "data": {
            "text/plain": [
              "<Figure size 1440x576 with 1 Axes>"
            ],
            "image/png": "[encoded data removed]"
          },
          "metadata": {}
        }
      ]
    },
    {
      "cell_type": "markdown",
      "source": [
        "Chicago has 77 community areas. How do they appear next to one another in a count plot?"
      ],
      "metadata": {
        "id": "rmBlviqiy1r7"
      }
    },
    {
      "cell_type": "code",
      "source": [
        "df_dates_community_areas = df_dates.na.drop(subset=['Community Area']).groupBy('Community Area').count()"
      ],
      "metadata": {
        "id": "FFpzNNyfy1b0"
      },
      "execution_count": null,
      "outputs": []
    },
    {
      "cell_type": "code",
      "source": [
        "df_dates_community_areas.orderBy('count', ascending=False).show(10)"
      ],
      "metadata": {
        "colab": {
          "base_uri": "https://localhost:8080/"
        },
        "id": "E770Te1qy1Xb",
        "outputId": "c4ba1cec-2066-4918-dd0a-2c3be3a82c89"
      },
      "execution_count": null,
      "outputs": [
        {
          "output_type": "stream",
          "name": "stdout",
          "text": [
            "+--------------+-----+\n",
            "|Community Area|count|\n",
            "+--------------+-----+\n",
            "|          25.0|94730|\n",
            "|           8.0|50290|\n",
            "|          43.0|48909|\n",
            "|          23.0|47093|\n",
            "|          29.0|46151|\n",
            "|          28.0|43501|\n",
            "|          71.0|41634|\n",
            "|          67.0|41281|\n",
            "|          24.0|40832|\n",
            "|          32.0|39696|\n",
            "+--------------+-----+\n",
            "only showing top 10 rows\n",
            "\n"
          ]
        }
      ]
    },
    {
      "cell_type": "code",
      "source": [
        "## Is it possible to see how the top crime types occur in the top crime-affected areas?\n",
        "top_crime_types = df_dates.select('Primary Type').groupBy('Primary Type').count().rdd.map(lambda row: row.asDict()).takeOrdered(10, key=lambda l: 1/l['count'])\n",
        "top_busy_areas =  df_dates_community_areas.rdd.map(lambda row: row.asDict()).takeOrdered(10, key=lambda l: 1/l['count'])"
      ],
      "metadata": {
        "id": "A0UIITMWy1SP"
      },
      "execution_count": null,
      "outputs": []
    },
    {
      "cell_type": "code",
      "source": [
        "top_crime_types_lst = [dc['Primary Type'] for dc in top_crime_types]\n",
        "top_busy_areas_lst = [str(dc['Community Area']) for dc in top_busy_areas]"
      ],
      "metadata": {
        "id": "ME8FnSc8zLvd"
      },
      "execution_count": null,
      "outputs": []
    },
    {
      "cell_type": "code",
      "source": [
        "top_crime_types_lst"
      ],
      "metadata": {
        "colab": {
          "base_uri": "https://localhost:8080/"
        },
        "id": "i9llGjgWzLsn",
        "outputId": "c38b2f7a-9496-4d90-811c-5ef98173b5ec"
      },
      "execution_count": null,
      "outputs": [
        {
          "output_type": "execute_result",
          "data": {
            "text/plain": [
              "['THEFT',\n",
              " 'BATTERY',\n",
              " 'CRIMINAL DAMAGE',\n",
              " 'NARCOTICS',\n",
              " 'ASSAULT',\n",
              " 'OTHER OFFENSE',\n",
              " 'BURGLARY',\n",
              " 'DECEPTIVE PRACTICE',\n",
              " 'MOTOR VEHICLE THEFT',\n",
              " 'ROBBERY']"
            ]
          },
          "metadata": {},
          "execution_count": 70
        }
      ]
    },
    {
      "cell_type": "code",
      "source": [
        "top_busy_areas_lst"
      ],
      "metadata": {
        "colab": {
          "base_uri": "https://localhost:8080/"
        },
        "id": "3At-sDlWzLpQ",
        "outputId": "6414e223-fce7-4350-e7a8-a0189cbca2a7"
      },
      "execution_count": null,
      "outputs": [
        {
          "output_type": "execute_result",
          "data": {
            "text/plain": [
              "['25.0', '8.0', '43.0', '23.0', '29.0', '28.0', '71.0', '67.0', '24.0', '32.0']"
            ]
          },
          "metadata": {},
          "execution_count": 71
        }
      ]
    },
    {
      "cell_type": "code",
      "source": [
        "q1 = \"instr('\" + ' '.join(top_busy_areas_lst) + \"', 'Community Area') > 0\"\n",
        "q2 = \"instr('\" + ' '.join(top_crime_types_lst) + \"', 'Primary Type') > 0\"\n",
        "print(q1)"
      ],
      "metadata": {
        "colab": {
          "base_uri": "https://localhost:8080/"
        },
        "id": "Z4EvtlAxzLmZ",
        "outputId": "b4169f9b-0818-4ce2-aa68-6a5fbd00f862"
      },
      "execution_count": null,
      "outputs": [
        {
          "output_type": "stream",
          "name": "stdout",
          "text": [
            "instr('25.0 8.0 43.0 23.0 29.0 28.0 71.0 67.0 24.0 32.0', 'Community Area') > 0\n"
          ]
        }
      ]
    },
    {
      "cell_type": "code",
      "source": [
        "## Construct a data frame filtered on these top community areas and top crime types:\n",
        "df_dates_tops = df_dates.filter(q1).filter(q2)"
      ],
      "metadata": {
        "id": "qybFXBsmzLMl"
      },
      "execution_count": null,
      "outputs": []
    },
    {
      "cell_type": "code",
      "source": [
        "df_dates_tops.count()"
      ],
      "metadata": {
        "colab": {
          "base_uri": "https://localhost:8080/"
        },
        "id": "Kmp5lSNl0JPO",
        "outputId": "599dc1d4-1c77-4c9e-a264-d26e91f9fdf3"
      },
      "execution_count": null,
      "outputs": [
        {
          "output_type": "execute_result",
          "data": {
            "text/plain": [
              "0"
            ]
          },
          "metadata": {},
          "execution_count": 74
        }
      ]
    },
    {
      "cell_type": "code",
      "source": [
        "tops_of_tops = df_dates_tops.groupBy(['Primary Type', 'Community Area']).count().orderBy(['Primary Type', 'count', 'Community Area'], ascending=[True, False, True]).cache()\n"
      ],
      "metadata": {
        "id": "w59FXIkE0JMb"
      },
      "execution_count": null,
      "outputs": []
    },
    {
      "cell_type": "code",
      "source": [
        "tops_of_tops.show(20)"
      ],
      "metadata": {
        "colab": {
          "base_uri": "https://localhost:8080/"
        },
        "id": "rCzqVzSA0JI1",
        "outputId": "96708561-41e4-44da-e5bf-204864409238"
      },
      "execution_count": null,
      "outputs": [
        {
          "output_type": "stream",
          "name": "stdout",
          "text": [
            "+------------+--------------+-----+\n",
            "|Primary Type|Community Area|count|\n",
            "+------------+--------------+-----+\n",
            "+------------+--------------+-----+\n",
            "\n"
          ]
        }
      ]
    },
    {
      "cell_type": "markdown",
      "source": [
        "Community area names\n",
        "Let's link names of these community areas. These float numbers are having a hard time making any sense..."
      ],
      "metadata": {
        "id": "IzwwpjfY08Ki"
      }
    },
    {
      "cell_type": "code",
      "source": [
        "area_names = \"\"\"\n",
        "01\tRogers Park\t\n",
        "40\tWashington Park\n",
        "02\tWest Ridge\t\n",
        "41\tHyde Park\n",
        "03\tUptown\t\n",
        "42\tWoodlawn\n",
        "04\tLincoln Square\t\n",
        "43\tSouth Shore\n",
        "05\tNorth Center\t\n",
        "44\tChatham\n",
        "06\tLakeview\t\n",
        "45\tAvalon Park\n",
        "07\tLincoln Park\t\n",
        "46\tSouth Chicago\n",
        "08\tNear North Side\t\n",
        "47\tBurnside\n",
        "09\tEdison Park\t\n",
        "48\tCalumet Heights\n",
        "10\tNorwood Park\t\n",
        "49\tRoseland\n",
        "11\tJefferson Park\t\n",
        "50\tPullman\n",
        "12\tForest Glen\t\n",
        "51\tSouth Deering\n",
        "13\tNorth Park\t\n",
        "52\tEast Side\n",
        "14\tAlbany Park\t\n",
        "53\tWest Pullman\n",
        "15\tPortage Park\t\n",
        "54\tRiverdale\n",
        "16\tIrving Park\t\n",
        "55\tHegewisch\n",
        "17\tDunning\t\n",
        "56\tGarfield Ridge\n",
        "18\tMontclare\t\n",
        "57\tArcher Heights\n",
        "19\tBelmont Cragin\t\n",
        "58\tBrighton Park\n",
        "20\tHermosa\t\n",
        "59\tMcKinley Park\n",
        "21\tAvondale\t\n",
        "60\tBridgeport\n",
        "22\tLogan Square\t\n",
        "61\tNew City\n",
        "23\tHumboldt Park\t\n",
        "62\tWest Elsdon\n",
        "24\tWest Town\t\n",
        "63\tGage Park\n",
        "25\tAustin\t\n",
        "64\tClearing\n",
        "26\tWest Garfield Park \t\n",
        "65\tWest Lawn\n",
        "27\tEast Garfield Park\t\n",
        "66\tChicago Lawn\n",
        "28\tNear West Side\t\n",
        "67\tWest Englewood\n",
        "29\tNorth Lawndale\t\n",
        "68\tEnglewood\n",
        "30\tSouth Lawndale\t\n",
        "69\tGreater Grand Crossing\n",
        "31\tLower West Side\t\n",
        "70\tAshburn\n",
        "32\tLoop\t\n",
        "71\tAuburn Gresham\t\n",
        "33\tNear South Side\t\n",
        "72\tBeverly\n",
        "34\tArmour Square\t\n",
        "73\tWashington Heights\n",
        "35\tDouglas\t\n",
        "74\tMount Greenwood\n",
        "36\tOakland\t\n",
        "75\tMorgan Park\n",
        "37\tFuller Park\t\n",
        "76\tO'Hare\n",
        "38\tGrand Boulevard\t\n",
        "77\tEdgewater\n",
        "39\tKenwood\t\n",
        "\"\"\""
      ],
      "metadata": {
        "id": "wGYJpK1z0JFu"
      },
      "execution_count": null,
      "outputs": []
    },
    {
      "cell_type": "code",
      "source": [
        "code_pairs = [[float(p[0]), p[1]] for p in [pair.strip().split('\\t') for pair in area_names.strip().split('\\n')]]"
      ],
      "metadata": {
        "id": "Ybj3MLAJ1EA5"
      },
      "execution_count": null,
      "outputs": []
    },
    {
      "cell_type": "code",
      "source": [
        "code_pairs[:5]"
      ],
      "metadata": {
        "id": "_7IKUejX1Dfo",
        "colab": {
          "base_uri": "https://localhost:8080/"
        },
        "outputId": "e3da8731-2b1a-4410-9f94-2a96403bb7fd"
      },
      "execution_count": null,
      "outputs": [
        {
          "output_type": "execute_result",
          "data": {
            "text/plain": [
              "[[1.0, 'Rogers Park'],\n",
              " [40.0, 'Washington Park'],\n",
              " [2.0, 'West Ridge'],\n",
              " [41.0, 'Hyde Park'],\n",
              " [3.0, 'Uptown']]"
            ]
          },
          "metadata": {},
          "execution_count": 79
        }
      ]
    },
    {
      "cell_type": "markdown",
      "source": [
        "A view of crime count per community area"
      ],
      "metadata": {
        "id": "o9CHf9j49Tca"
      }
    },
    {
      "cell_type": "code",
      "source": [
        "community_area_counts = pd.DataFrame(df_dates_community_areas.rdd.map(lambda row: row.asDict()).collect())"
      ],
      "metadata": {
        "id": "Sglhmax71C99"
      },
      "execution_count": null,
      "outputs": []
    },
    {
      "cell_type": "code",
      "source": [
        "# Create a dictionary of area code to names\n",
        "area_name_dic = {float(k[0]):k[1] for k in code_pairs}"
      ],
      "metadata": {
        "id": "KkCMp8Wh1CyN"
      },
      "execution_count": null,
      "outputs": []
    },
    {
      "cell_type": "code",
      "source": [
        "community_area_counts['community_area_name'] = community_area_counts['Community Area'].apply(lambda area: area_name_dic.get(float(area),  'unknown_%s'%area))"
      ],
      "metadata": {
        "id": "vPeaHtvY1Chi"
      },
      "execution_count": null,
      "outputs": []
    },
    {
      "cell_type": "code",
      "source": [
        "community_area_counts = community_area_counts.sort_values(by='count')\n",
        "community_area_counts.head(5)"
      ],
      "metadata": {
        "id": "bujHgDJn1CTM",
        "colab": {
          "base_uri": "https://localhost:8080/",
          "height": 206
        },
        "outputId": "3a91602c-a531-48f9-8495-1c4c4753b644"
      },
      "execution_count": null,
      "outputs": [
        {
          "output_type": "execute_result",
          "data": {
            "text/plain": [
              "    Community Area  count community_area_name\n",
              "4              0.0     13         unknown_0.0\n",
              "71             9.0   1433         Edison Park\n",
              "10            47.0   2197            Burnside\n",
              "74            12.0   2543         Forest Glen\n",
              "69            55.0   3209           Hegewisch"
            ],
            "text/html": [
              "\n",
              "  <div id=\"df-3c3818a3-4755-44c6-a377-8b24e895faac\">\n",
              "    <div class=\"colab-df-container\">\n",
              "      <div>\n",
              "<style scoped>\n",
              "    .dataframe tbody tr th:only-of-type {\n",
              "        vertical-align: middle;\n",
              "    }\n",
              "\n",
              "    .dataframe tbody tr th {\n",
              "        vertical-align: top;\n",
              "    }\n",
              "\n",
              "    .dataframe thead th {\n",
              "        text-align: right;\n",
              "    }\n",
              "</style>\n",
              "<table border=\"1\" class=\"dataframe\">\n",
              "  <thead>\n",
              "    <tr style=\"text-align: right;\">\n",
              "      <th></th>\n",
              "      <th>Community Area</th>\n",
              "      <th>count</th>\n",
              "      <th>community_area_name</th>\n",
              "    </tr>\n",
              "  </thead>\n",
              "  <tbody>\n",
              "    <tr>\n",
              "      <th>4</th>\n",
              "      <td>0.0</td>\n",
              "      <td>13</td>\n",
              "      <td>unknown_0.0</td>\n",
              "    </tr>\n",
              "    <tr>\n",
              "      <th>71</th>\n",
              "      <td>9.0</td>\n",
              "      <td>1433</td>\n",
              "      <td>Edison Park</td>\n",
              "    </tr>\n",
              "    <tr>\n",
              "      <th>10</th>\n",
              "      <td>47.0</td>\n",
              "      <td>2197</td>\n",
              "      <td>Burnside</td>\n",
              "    </tr>\n",
              "    <tr>\n",
              "      <th>74</th>\n",
              "      <td>12.0</td>\n",
              "      <td>2543</td>\n",
              "      <td>Forest Glen</td>\n",
              "    </tr>\n",
              "    <tr>\n",
              "      <th>69</th>\n",
              "      <td>55.0</td>\n",
              "      <td>3209</td>\n",
              "      <td>Hegewisch</td>\n",
              "    </tr>\n",
              "  </tbody>\n",
              "</table>\n",
              "</div>\n",
              "      <button class=\"colab-df-convert\" onclick=\"convertToInteractive('df-3c3818a3-4755-44c6-a377-8b24e895faac')\"\n",
              "              title=\"Convert this dataframe to an interactive table.\"\n",
              "              style=\"display:none;\">\n",
              "        \n",
              "  <svg xmlns=\"http://www.w3.org/2000/svg\" height=\"24px\"viewBox=\"0 0 24 24\"\n",
              "       width=\"24px\">\n",
              "    <path d=\"M0 0h24v24H0V0z\" fill=\"none\"/>\n",
              "    <path d=\"M18.56 5.44l.94 2.06.94-2.06 2.06-.94-2.06-.94-.94-2.06-.94 2.06-2.06.94zm-11 1L8.5 8.5l.94-2.06 2.06-.94-2.06-.94L8.5 2.5l-.94 2.06-2.06.94zm10 10l.94 2.06.94-2.06 2.06-.94-2.06-.94-.94-2.06-.94 2.06-2.06.94z\"/><path d=\"M17.41 7.96l-1.37-1.37c-.4-.4-.92-.59-1.43-.59-.52 0-1.04.2-1.43.59L10.3 9.45l-7.72 7.72c-.78.78-.78 2.05 0 2.83L4 21.41c.39.39.9.59 1.41.59.51 0 1.02-.2 1.41-.59l7.78-7.78 2.81-2.81c.8-.78.8-2.07 0-2.86zM5.41 20L4 18.59l7.72-7.72 1.47 1.35L5.41 20z\"/>\n",
              "  </svg>\n",
              "      </button>\n",
              "      \n",
              "  <style>\n",
              "    .colab-df-container {\n",
              "      display:flex;\n",
              "      flex-wrap:wrap;\n",
              "      gap: 12px;\n",
              "    }\n",
              "\n",
              "    .colab-df-convert {\n",
              "      background-color: #E8F0FE;\n",
              "      border: none;\n",
              "      border-radius: 50%;\n",
              "      cursor: pointer;\n",
              "      display: none;\n",
              "      fill: #1967D2;\n",
              "      height: 32px;\n",
              "      padding: 0 0 0 0;\n",
              "      width: 32px;\n",
              "    }\n",
              "\n",
              "    .colab-df-convert:hover {\n",
              "      background-color: #E2EBFA;\n",
              "      box-shadow: 0px 1px 2px rgba(60, 64, 67, 0.3), 0px 1px 3px 1px rgba(60, 64, 67, 0.15);\n",
              "      fill: #174EA6;\n",
              "    }\n",
              "\n",
              "    [theme=dark] .colab-df-convert {\n",
              "      background-color: #3B4455;\n",
              "      fill: #D2E3FC;\n",
              "    }\n",
              "\n",
              "    [theme=dark] .colab-df-convert:hover {\n",
              "      background-color: #434B5C;\n",
              "      box-shadow: 0px 1px 3px 1px rgba(0, 0, 0, 0.15);\n",
              "      filter: drop-shadow(0px 1px 2px rgba(0, 0, 0, 0.3));\n",
              "      fill: #FFFFFF;\n",
              "    }\n",
              "  </style>\n",
              "\n",
              "      <script>\n",
              "        const buttonEl =\n",
              "          document.querySelector('#df-3c3818a3-4755-44c6-a377-8b24e895faac button.colab-df-convert');\n",
              "        buttonEl.style.display =\n",
              "          google.colab.kernel.accessAllowed ? 'block' : 'none';\n",
              "\n",
              "        async function convertToInteractive(key) {\n",
              "          const element = document.querySelector('#df-3c3818a3-4755-44c6-a377-8b24e895faac');\n",
              "          const dataTable =\n",
              "            await google.colab.kernel.invokeFunction('convertToInteractive',\n",
              "                                                     [key], {});\n",
              "          if (!dataTable) return;\n",
              "\n",
              "          const docLinkHtml = 'Like what you see? Visit the ' +\n",
              "            '<a target=\"_blank\" href=https://colab.research.google.com/notebooks/data_table.ipynb>data table notebook</a>'\n",
              "            + ' to learn more about interactive tables.';\n",
              "          element.innerHTML = '';\n",
              "          dataTable['output_type'] = 'display_data';\n",
              "          await google.colab.output.renderOutput(dataTable, element);\n",
              "          const docLink = document.createElement('div');\n",
              "          docLink.innerHTML = docLinkHtml;\n",
              "          element.appendChild(docLink);\n",
              "        }\n",
              "      </script>\n",
              "    </div>\n",
              "  </div>\n",
              "  "
            ]
          },
          "metadata": {},
          "execution_count": 83
        }
      ]
    },
    {
      "cell_type": "code",
      "source": [
        "code_pairs_df = spark.createDataFrame(code_pairs, ['Community Area', 'Area Name'])"
      ],
      "metadata": {
        "id": "m0LKsi_J9rSR"
      },
      "execution_count": null,
      "outputs": []
    },
    {
      "cell_type": "code",
      "source": [
        "named_tops_of_tops = code_pairs_df.join(tops_of_tops, on='Community Area', how='right')"
      ],
      "metadata": {
        "id": "YHSJn9Fe9rQp"
      },
      "execution_count": null,
      "outputs": []
    },
    {
      "cell_type": "code",
      "source": [
        "named_tops_of_tops.show(10)"
      ],
      "metadata": {
        "colab": {
          "base_uri": "https://localhost:8080/"
        },
        "id": "8WG_cCz99rMy",
        "outputId": "37217527-ec10-47f2-a353-daa69bb3731d"
      },
      "execution_count": null,
      "outputs": [
        {
          "output_type": "stream",
          "name": "stdout",
          "text": [
            "+--------------+---------+------------+-----+\n",
            "|Community Area|Area Name|Primary Type|count|\n",
            "+--------------+---------+------------+-----+\n",
            "+--------------+---------+------------+-----+\n",
            "\n"
          ]
        }
      ]
    },
    {
      "cell_type": "code",
      "source": [
        "selected_features = [\n",
        " 'Location Description',\n",
        " 'Arrest',\n",
        " 'Domestic',\n",
        " 'Beat',\n",
        " 'District',\n",
        " 'Ward',\n",
        " 'Community Area',\n",
        " 'FBI Code',\n",
        " 'hour',\n",
        " 'week_day',\n",
        " 'year_month',\n",
        " 'month_day',\n",
        " 'date_number']"
      ],
      "metadata": {
        "id": "S7RSJsar9rKO"
      },
      "execution_count": null,
      "outputs": []
    },
    {
      "cell_type": "code",
      "source": [
        "#Let's see the schema of these selected features:\n",
        "features_df = df_dates.select(selected_features)\n",
        "features_df.printSchema()"
      ],
      "metadata": {
        "colab": {
          "base_uri": "https://localhost:8080/"
        },
        "id": "9OKsNBtH9rHc",
        "outputId": "092ca959-ba88-488d-c9c3-fd7514e2a123"
      },
      "execution_count": null,
      "outputs": [
        {
          "output_type": "stream",
          "name": "stdout",
          "text": [
            "root\n",
            " |-- Location Description: string (nullable = true)\n",
            " |-- Arrest: boolean (nullable = true)\n",
            " |-- Domestic: boolean (nullable = true)\n",
            " |-- Beat: integer (nullable = true)\n",
            " |-- District: double (nullable = true)\n",
            " |-- Ward: double (nullable = true)\n",
            " |-- Community Area: double (nullable = true)\n",
            " |-- FBI Code: string (nullable = true)\n",
            " |-- hour: integer (nullable = true)\n",
            " |-- week_day: integer (nullable = true)\n",
            " |-- year_month: integer (nullable = true)\n",
            " |-- month_day: integer (nullable = true)\n",
            " |-- date_number: integer (nullable = true)\n",
            "\n"
          ]
        }
      ]
    },
    {
      "cell_type": "code",
      "source": [
        "feature_level_count_dic = []\n",
        "\n",
        "for feature in selected_features:\n",
        "    print('Analysing %s' % feature)\n",
        "    levels_list_df = features_df.select(feature).distinct()\n",
        "    feature_level_count_dic.append({'feature': feature, 'level_count': levels_list_df.count()})"
      ],
      "metadata": {
        "colab": {
          "base_uri": "https://localhost:8080/"
        },
        "id": "F1Fpo-yj9rEY",
        "outputId": "4439258f-3af1-448a-e1fc-61743a97bd77"
      },
      "execution_count": null,
      "outputs": [
        {
          "output_type": "stream",
          "name": "stdout",
          "text": [
            "Analysing Location Description\n",
            "Analysing Arrest\n",
            "Analysing Domestic\n",
            "Analysing Beat\n",
            "Analysing District\n",
            "Analysing Ward\n",
            "Analysing Community Area\n",
            "Analysing FBI Code\n",
            "Analysing hour\n",
            "Analysing week_day\n",
            "Analysing year_month\n",
            "Analysing month_day\n",
            "Analysing date_number\n"
          ]
        }
      ]
    },
    {
      "cell_type": "code",
      "source": [
        "pd.DataFrame(feature_level_count_dic).sort_values(by='level_count', ascending=False)"
      ],
      "metadata": {
        "colab": {
          "base_uri": "https://localhost:8080/",
          "height": 457
        },
        "id": "TH8RjnYM9rBj",
        "outputId": "474062aa-20f6-43d0-b19a-011297e1f1e7"
      },
      "execution_count": null,
      "outputs": [
        {
          "output_type": "execute_result",
          "data": {
            "text/plain": [
              "                 feature  level_count\n",
              "12           date_number         1845\n",
              "3                   Beat          302\n",
              "0   Location Description          143\n",
              "6         Community Area           79\n",
              "5                   Ward           51\n",
              "11             month_day           31\n",
              "7               FBI Code           26\n",
              "4               District           25\n",
              "8                   hour           24\n",
              "10            year_month           12\n",
              "9               week_day            7\n",
              "1                 Arrest            2\n",
              "2               Domestic            2"
            ],
            "text/html": [
              "\n",
              "  <div id=\"df-6f1744f0-477a-4137-ad00-f976e221cb98\">\n",
              "    <div class=\"colab-df-container\">\n",
              "      <div>\n",
              "<style scoped>\n",
              "    .dataframe tbody tr th:only-of-type {\n",
              "        vertical-align: middle;\n",
              "    }\n",
              "\n",
              "    .dataframe tbody tr th {\n",
              "        vertical-align: top;\n",
              "    }\n",
              "\n",
              "    .dataframe thead th {\n",
              "        text-align: right;\n",
              "    }\n",
              "</style>\n",
              "<table border=\"1\" class=\"dataframe\">\n",
              "  <thead>\n",
              "    <tr style=\"text-align: right;\">\n",
              "      <th></th>\n",
              "      <th>feature</th>\n",
              "      <th>level_count</th>\n",
              "    </tr>\n",
              "  </thead>\n",
              "  <tbody>\n",
              "    <tr>\n",
              "      <th>12</th>\n",
              "      <td>date_number</td>\n",
              "      <td>1845</td>\n",
              "    </tr>\n",
              "    <tr>\n",
              "      <th>3</th>\n",
              "      <td>Beat</td>\n",
              "      <td>302</td>\n",
              "    </tr>\n",
              "    <tr>\n",
              "      <th>0</th>\n",
              "      <td>Location Description</td>\n",
              "      <td>143</td>\n",
              "    </tr>\n",
              "    <tr>\n",
              "      <th>6</th>\n",
              "      <td>Community Area</td>\n",
              "      <td>79</td>\n",
              "    </tr>\n",
              "    <tr>\n",
              "      <th>5</th>\n",
              "      <td>Ward</td>\n",
              "      <td>51</td>\n",
              "    </tr>\n",
              "    <tr>\n",
              "      <th>11</th>\n",
              "      <td>month_day</td>\n",
              "      <td>31</td>\n",
              "    </tr>\n",
              "    <tr>\n",
              "      <th>7</th>\n",
              "      <td>FBI Code</td>\n",
              "      <td>26</td>\n",
              "    </tr>\n",
              "    <tr>\n",
              "      <th>4</th>\n",
              "      <td>District</td>\n",
              "      <td>25</td>\n",
              "    </tr>\n",
              "    <tr>\n",
              "      <th>8</th>\n",
              "      <td>hour</td>\n",
              "      <td>24</td>\n",
              "    </tr>\n",
              "    <tr>\n",
              "      <th>10</th>\n",
              "      <td>year_month</td>\n",
              "      <td>12</td>\n",
              "    </tr>\n",
              "    <tr>\n",
              "      <th>9</th>\n",
              "      <td>week_day</td>\n",
              "      <td>7</td>\n",
              "    </tr>\n",
              "    <tr>\n",
              "      <th>1</th>\n",
              "      <td>Arrest</td>\n",
              "      <td>2</td>\n",
              "    </tr>\n",
              "    <tr>\n",
              "      <th>2</th>\n",
              "      <td>Domestic</td>\n",
              "      <td>2</td>\n",
              "    </tr>\n",
              "  </tbody>\n",
              "</table>\n",
              "</div>\n",
              "      <button class=\"colab-df-convert\" onclick=\"convertToInteractive('df-6f1744f0-477a-4137-ad00-f976e221cb98')\"\n",
              "              title=\"Convert this dataframe to an interactive table.\"\n",
              "              style=\"display:none;\">\n",
              "        \n",
              "  <svg xmlns=\"http://www.w3.org/2000/svg\" height=\"24px\"viewBox=\"0 0 24 24\"\n",
              "       width=\"24px\">\n",
              "    <path d=\"M0 0h24v24H0V0z\" fill=\"none\"/>\n",
              "    <path d=\"M18.56 5.44l.94 2.06.94-2.06 2.06-.94-2.06-.94-.94-2.06-.94 2.06-2.06.94zm-11 1L8.5 8.5l.94-2.06 2.06-.94-2.06-.94L8.5 2.5l-.94 2.06-2.06.94zm10 10l.94 2.06.94-2.06 2.06-.94-2.06-.94-.94-2.06-.94 2.06-2.06.94z\"/><path d=\"M17.41 7.96l-1.37-1.37c-.4-.4-.92-.59-1.43-.59-.52 0-1.04.2-1.43.59L10.3 9.45l-7.72 7.72c-.78.78-.78 2.05 0 2.83L4 21.41c.39.39.9.59 1.41.59.51 0 1.02-.2 1.41-.59l7.78-7.78 2.81-2.81c.8-.78.8-2.07 0-2.86zM5.41 20L4 18.59l7.72-7.72 1.47 1.35L5.41 20z\"/>\n",
              "  </svg>\n",
              "      </button>\n",
              "      \n",
              "  <style>\n",
              "    .colab-df-container {\n",
              "      display:flex;\n",
              "      flex-wrap:wrap;\n",
              "      gap: 12px;\n",
              "    }\n",
              "\n",
              "    .colab-df-convert {\n",
              "      background-color: #E8F0FE;\n",
              "      border: none;\n",
              "      border-radius: 50%;\n",
              "      cursor: pointer;\n",
              "      display: none;\n",
              "      fill: #1967D2;\n",
              "      height: 32px;\n",
              "      padding: 0 0 0 0;\n",
              "      width: 32px;\n",
              "    }\n",
              "\n",
              "    .colab-df-convert:hover {\n",
              "      background-color: #E2EBFA;\n",
              "      box-shadow: 0px 1px 2px rgba(60, 64, 67, 0.3), 0px 1px 3px 1px rgba(60, 64, 67, 0.15);\n",
              "      fill: #174EA6;\n",
              "    }\n",
              "\n",
              "    [theme=dark] .colab-df-convert {\n",
              "      background-color: #3B4455;\n",
              "      fill: #D2E3FC;\n",
              "    }\n",
              "\n",
              "    [theme=dark] .colab-df-convert:hover {\n",
              "      background-color: #434B5C;\n",
              "      box-shadow: 0px 1px 3px 1px rgba(0, 0, 0, 0.15);\n",
              "      filter: drop-shadow(0px 1px 2px rgba(0, 0, 0, 0.3));\n",
              "      fill: #FFFFFF;\n",
              "    }\n",
              "  </style>\n",
              "\n",
              "      <script>\n",
              "        const buttonEl =\n",
              "          document.querySelector('#df-6f1744f0-477a-4137-ad00-f976e221cb98 button.colab-df-convert');\n",
              "        buttonEl.style.display =\n",
              "          google.colab.kernel.accessAllowed ? 'block' : 'none';\n",
              "\n",
              "        async function convertToInteractive(key) {\n",
              "          const element = document.querySelector('#df-6f1744f0-477a-4137-ad00-f976e221cb98');\n",
              "          const dataTable =\n",
              "            await google.colab.kernel.invokeFunction('convertToInteractive',\n",
              "                                                     [key], {});\n",
              "          if (!dataTable) return;\n",
              "\n",
              "          const docLinkHtml = 'Like what you see? Visit the ' +\n",
              "            '<a target=\"_blank\" href=https://colab.research.google.com/notebooks/data_table.ipynb>data table notebook</a>'\n",
              "            + ' to learn more about interactive tables.';\n",
              "          element.innerHTML = '';\n",
              "          dataTable['output_type'] = 'display_data';\n",
              "          await google.colab.output.renderOutput(dataTable, element);\n",
              "          const docLink = document.createElement('div');\n",
              "          docLink.innerHTML = docLinkHtml;\n",
              "          element.appendChild(docLink);\n",
              "        }\n",
              "      </script>\n",
              "    </div>\n",
              "  </div>\n",
              "  "
            ]
          },
          "metadata": {},
          "execution_count": 90
        }
      ]
    },
    {
      "cell_type": "markdown",
      "source": [
        "Preparing Model"
      ],
      "metadata": {
        "id": "As-9ZoUt_S6J"
      }
    },
    {
      "cell_type": "code",
      "source": [
        "from pyspark.sql.types import StructField, StructType, StringType, LongType"
      ],
      "metadata": {
        "id": "8SLDlOQBRZj_"
      },
      "execution_count": null,
      "outputs": []
    },
    {
      "cell_type": "markdown",
      "source": [
        "Using the Spark's string indexer to index selected feautres"
      ],
      "metadata": {
        "id": "CeTsdgLh_aFb"
      }
    },
    {
      "cell_type": "code",
      "source": [
        "from pyspark.ml.feature import StringIndexer, VectorAssembler\n",
        "df_dates_features = df_dates.na.drop(subset=selected_features)"
      ],
      "metadata": {
        "id": "QqD_6Gy5TbLI"
      },
      "execution_count": null,
      "outputs": []
    },
    {
      "cell_type": "code",
      "source": [
        "df_dates_features = df_dates_features.withColumn(\"Arrest\", col(\"Arrest\").cast(\"String\"))\n",
        "df_dates_features = df_dates_features.withColumn(\"Domestic\", col(\"Domestic\").cast(\"String\"))"
      ],
      "metadata": {
        "id": "OkEwpCJxWc83"
      },
      "execution_count": null,
      "outputs": []
    },
    {
      "cell_type": "code",
      "source": [
        "df_dates_features.printSchema()"
      ],
      "metadata": {
        "colab": {
          "base_uri": "https://localhost:8080/"
        },
        "id": "hxvIxIRXWgNT",
        "outputId": "9fba3ede-3908-4803-b60f-500f651fa50e"
      },
      "execution_count": null,
      "outputs": [
        {
          "output_type": "stream",
          "name": "stdout",
          "text": [
            "root\n",
            " |-- _c0: integer (nullable = true)\n",
            " |-- ID: integer (nullable = true)\n",
            " |-- Case Number: string (nullable = true)\n",
            " |-- Date: string (nullable = true)\n",
            " |-- Block: string (nullable = true)\n",
            " |-- IUCR: string (nullable = true)\n",
            " |-- Primary Type: string (nullable = true)\n",
            " |-- Description: string (nullable = true)\n",
            " |-- Location Description: string (nullable = true)\n",
            " |-- Arrest: string (nullable = true)\n",
            " |-- Domestic: string (nullable = true)\n",
            " |-- Beat: integer (nullable = true)\n",
            " |-- District: double (nullable = true)\n",
            " |-- Ward: double (nullable = true)\n",
            " |-- Community Area: double (nullable = true)\n",
            " |-- FBI Code: string (nullable = true)\n",
            " |-- X Coordinate: double (nullable = true)\n",
            " |-- Y Coordinate: double (nullable = true)\n",
            " |-- Year: integer (nullable = true)\n",
            " |-- Updated On: string (nullable = true)\n",
            " |-- Latitude: double (nullable = true)\n",
            " |-- Longitude: double (nullable = true)\n",
            " |-- Location: string (nullable = true)\n",
            " |-- date_time: timestamp (nullable = true)\n",
            " |-- month: date (nullable = true)\n",
            " |-- hour: integer (nullable = true)\n",
            " |-- week_day: integer (nullable = true)\n",
            " |-- year_month: integer (nullable = true)\n",
            " |-- month_day: integer (nullable = true)\n",
            " |-- date_number: integer (nullable = true)\n",
            "\n"
          ]
        }
      ]
    },
    {
      "cell_type": "code",
      "source": [
        "for feature in feature_level_count_dic:\n",
        "    indexer = StringIndexer(inputCol=feature['feature'], outputCol='%s_indexed' % feature['feature'])\n",
        "    print('Fitting feature \"%s\"' % feature['feature'])\n",
        "    model = indexer.fit(df_dates_features)\n",
        "    print('Transforming \"%s\"' % feature['feature'])\n",
        "    df_dates_features = model.transform(df_dates_features)"
      ],
      "metadata": {
        "colab": {
          "base_uri": "https://localhost:8080/"
        },
        "id": "evFxmOjA_Sm_",
        "outputId": "d7ea0061-609b-47f8-8a9a-1f5891298c98"
      },
      "execution_count": null,
      "outputs": [
        {
          "output_type": "stream",
          "name": "stdout",
          "text": [
            "Fitting feature \"Location Description\"\n",
            "Transforming \"Location Description\"\n",
            "Fitting feature \"Arrest\"\n",
            "Transforming \"Arrest\"\n",
            "Fitting feature \"Domestic\"\n",
            "Transforming \"Domestic\"\n",
            "Fitting feature \"Beat\"\n",
            "Transforming \"Beat\"\n",
            "Fitting feature \"District\"\n",
            "Transforming \"District\"\n",
            "Fitting feature \"Ward\"\n",
            "Transforming \"Ward\"\n",
            "Fitting feature \"Community Area\"\n",
            "Transforming \"Community Area\"\n",
            "Fitting feature \"FBI Code\"\n",
            "Transforming \"FBI Code\"\n",
            "Fitting feature \"hour\"\n",
            "Transforming \"hour\"\n",
            "Fitting feature \"week_day\"\n",
            "Transforming \"week_day\"\n",
            "Fitting feature \"year_month\"\n",
            "Transforming \"year_month\"\n",
            "Fitting feature \"month_day\"\n",
            "Transforming \"month_day\"\n",
            "Fitting feature \"date_number\"\n",
            "Transforming \"date_number\"\n"
          ]
        }
      ]
    },
    {
      "cell_type": "code",
      "source": [
        "## String-index the response variable:\n",
        "response_indexer = StringIndexer(inputCol='Primary Type', outputCol='primary_type_indexed')\n",
        "response_model = response_indexer.fit(df_dates_features)\n",
        "df_dates_featured = response_model.transform(df_dates_features)"
      ],
      "metadata": {
        "id": "kUZ5Fmnq_Sjj"
      },
      "execution_count": null,
      "outputs": []
    },
    {
      "cell_type": "code",
      "source": [
        "df_dates_featured.show(1)"
      ],
      "metadata": {
        "id": "zAf1JeLH_Sgf",
        "colab": {
          "base_uri": "https://localhost:8080/"
        },
        "outputId": "fb4e445b-98f6-4756-e5a2-ec0618ecb958"
      },
      "execution_count": null,
      "outputs": [
        {
          "output_type": "stream",
          "name": "stdout",
          "text": [
            "+---+--------+-----------+--------------------+------------------+----+------------+--------------------+--------------------+------+--------+----+--------+----+--------------+--------+------------+------------+----+--------------------+------------+-------------+--------------------+-------------------+----------+----+--------+----------+---------+-----------+----------------------------+--------------+----------------+------------+----------------+------------+----------------------+----------------+------------+----------------+------------------+-----------------+-------------------+--------------------+\n",
            "|_c0|      ID|Case Number|                Date|             Block|IUCR|Primary Type|         Description|Location Description|Arrest|Domestic|Beat|District|Ward|Community Area|FBI Code|X Coordinate|Y Coordinate|Year|          Updated On|    Latitude|    Longitude|            Location|          date_time|     month|hour|week_day|year_month|month_day|date_number|Location Description_indexed|Arrest_indexed|Domestic_indexed|Beat_indexed|District_indexed|Ward_indexed|Community Area_indexed|FBI Code_indexed|hour_indexed|week_day_indexed|year_month_indexed|month_day_indexed|date_number_indexed|primary_type_indexed|\n",
            "+---+--------+-----------+--------------------+------------------+----+------------+--------------------+--------------------+------+--------+----+--------+----+--------------+--------+------------+------------+----+--------------------+------------+-------------+--------------------+-------------------+----------+----+--------+----------+---------+-----------+----------------------------+--------------+----------------+------------+----------------+------------+----------------------+----------------+------------+----------------+------------------+-----------------+-------------------+--------------------+\n",
            "|  3|10508693|   HZ250496|05/03/2016 11:40:...|013XX S SAWYER AVE|0486|     BATTERY|DOMESTIC BATTERY ...|           APARTMENT|  true|    true|1022|    10.0|24.0|          29.0|     08B|   1154907.0|   1893681.0|2016|05/10/2016 03:56:...|41.864073157|-87.706818608|(41.864073157, -8...|2016-05-03 23:40:00|2016-01-01|  23|       3|         5|        3|       5601|                         2.0|           1.0|             1.0|        83.0|             9.0|         2.0|                   4.0|             1.0|        15.0|             3.0|               3.0|              8.0|             1280.0|                 1.0|\n",
            "+---+--------+-----------+--------------------+------------------+----+------------+--------------------+--------------------+------+--------+----+--------+----+--------------+--------+------------+------------+----+--------------------+------------+-------------+--------------------+-------------------+----------+----+--------+----------+---------+-----------+----------------------------+--------------+----------------+------------+----------------+------------+----------------------+----------------+------------+----------------+------------------+-----------------+-------------------+--------------------+\n",
            "only showing top 1 row\n",
            "\n"
          ]
        }
      ]
    },
    {
      "cell_type": "code",
      "source": [
        "indexed_features = ['%s_indexed' % fc['feature'] for fc in feature_level_count_dic]\n",
        "indexed_features"
      ],
      "metadata": {
        "colab": {
          "base_uri": "https://localhost:8080/"
        },
        "id": "hsA7fdorbiwt",
        "outputId": "687bd5cc-10f0-4c61-d7a6-5c2eb40715ae"
      },
      "execution_count": null,
      "outputs": [
        {
          "output_type": "execute_result",
          "data": {
            "text/plain": [
              "['Location Description_indexed',\n",
              " 'Arrest_indexed',\n",
              " 'Domestic_indexed',\n",
              " 'Beat_indexed',\n",
              " 'District_indexed',\n",
              " 'Ward_indexed',\n",
              " 'Community Area_indexed',\n",
              " 'FBI Code_indexed',\n",
              " 'hour_indexed',\n",
              " 'week_day_indexed',\n",
              " 'year_month_indexed',\n",
              " 'month_day_indexed',\n",
              " 'date_number_indexed']"
            ]
          },
          "metadata": {},
          "execution_count": 98
        }
      ]
    },
    {
      "cell_type": "code",
      "source": [
        "assembler = VectorAssembler(inputCols=indexed_features, outputCol='features')\n",
        "vectorized_df_dates = assembler.transform(df_dates_featured)"
      ],
      "metadata": {
        "id": "Asj2MFgIbit0"
      },
      "execution_count": null,
      "outputs": []
    },
    {
      "cell_type": "code",
      "source": [
        "vectorized_df_dates.select('features').take(1)"
      ],
      "metadata": {
        "colab": {
          "base_uri": "https://localhost:8080/"
        },
        "id": "2xN_7EDXbipp",
        "outputId": "8091e1c6-e520-49e7-f5be-14fa9fb0fe3a"
      },
      "execution_count": null,
      "outputs": [
        {
          "output_type": "execute_result",
          "data": {
            "text/plain": [
              "[Row(features=DenseVector([2.0, 1.0, 1.0, 83.0, 9.0, 2.0, 4.0, 1.0, 15.0, 3.0, 3.0, 8.0, 1280.0]))]"
            ]
          },
          "metadata": {},
          "execution_count": 100
        }
      ]
    },
    {
      "cell_type": "markdown",
      "source": [
        "Now let's train the model.\n",
        "We're using 70% to 30% split between the train and the test datasets\n",
        "\n",
        "Let's try to train a logistic regression."
      ],
      "metadata": {
        "id": "lTwWP4Lebuol"
      }
    },
    {
      "cell_type": "code",
      "source": [
        "train, test = vectorized_df_dates.randomSplit([0.7, 0.3])"
      ],
      "metadata": {
        "id": "1mMsPxl4boR4"
      },
      "execution_count": null,
      "outputs": []
    },
    {
      "cell_type": "code",
      "source": [
        "from pyspark.ml.classification import LogisticRegression"
      ],
      "metadata": {
        "id": "hhEqh_p6boPQ"
      },
      "execution_count": null,
      "outputs": []
    },
    {
      "cell_type": "code",
      "source": [
        "logisticRegression = LogisticRegression(labelCol='primary_type_indexed', featuresCol='features', maxIter=10, family='multinomial')"
      ],
      "metadata": {
        "id": "Fh7JWcIRboMw"
      },
      "execution_count": null,
      "outputs": []
    },
    {
      "cell_type": "code",
      "source": [
        "fittedModel = logisticRegression.fit(train)"
      ],
      "metadata": {
        "id": "75uSrG-CboJd"
      },
      "execution_count": null,
      "outputs": []
    },
    {
      "cell_type": "markdown",
      "source": [
        "Model performance:"
      ],
      "metadata": {
        "id": "jkzbMpq5b4FL"
      }
    },
    {
      "cell_type": "code",
      "source": [
        "fittedModel.summary.accuracy"
      ],
      "metadata": {
        "colab": {
          "base_uri": "https://localhost:8080/"
        },
        "id": "5hwg7YYAbimx",
        "outputId": "d1f8b510-d2b9-4478-9ad9-7855a4d65090"
      },
      "execution_count": null,
      "outputs": [
        {
          "output_type": "execute_result",
          "data": {
            "text/plain": [
              "0.6076046494034981"
            ]
          },
          "metadata": {},
          "execution_count": 105
        }
      ]
    },
    {
      "cell_type": "code",
      "source": [
        "model_summary = fittedModel.summary"
      ],
      "metadata": {
        "id": "LDN4Zrcgbij9"
      },
      "execution_count": null,
      "outputs": []
    },
    {
      "cell_type": "code",
      "source": [
        "fittedModel.coefficientMatrix"
      ],
      "metadata": {
        "colab": {
          "base_uri": "https://localhost:8080/"
        },
        "id": "vheMJCuycQ5v",
        "outputId": "98310ea4-57f6-4eb7-bdda-7f3e1d60205f"
      },
      "execution_count": null,
      "outputs": [
        {
          "output_type": "execute_result",
          "data": {
            "text/plain": [
              "DenseMatrix(33, 13, [-0.0036, -1.2798, 0.1704, 0.0006, 0.0093, 0.003, -0.0009, -3.2931, ..., 0.0, 0.0001, -0.0001, 0.0, 0.0003, 0.0003, 0.0, 0.0], 1)"
            ]
          },
          "metadata": {},
          "execution_count": 107
        }
      ]
    },
    {
      "cell_type": "markdown",
      "source": [
        "Why the 33X13 shape?\n",
        "That's because the multinomial logistic regression is fitted on each class of the label. It computes the probability of each class and then predicts based on these probabilities."
      ],
      "metadata": {
        "id": "5T__DbsTcrsB"
      }
    },
    {
      "cell_type": "code",
      "source": [
        "print(fittedModel.coefficientMatrix)"
      ],
      "metadata": {
        "colab": {
          "base_uri": "https://localhost:8080/"
        },
        "id": "bIm01cOYcQ2u",
        "outputId": "538f1c8a-7c5f-4bfc-aeef-d4099b77e3d1"
      },
      "execution_count": null,
      "outputs": [
        {
          "output_type": "stream",
          "name": "stdout",
          "text": [
            "DenseMatrix([[-3.63548213e-03, -1.27981586e+00,  1.70441450e-01,\n",
            "               5.89423655e-04,  9.31440537e-03,  2.98685452e-03,\n",
            "              -8.77926346e-04, -3.29312937e+00, -2.85782550e-03,\n",
            "              -4.05579505e-03, -6.74714075e-03,  7.95812125e-04,\n",
            "               8.17531094e-05],\n",
            "             [ 2.25025829e-03, -6.87267059e-01,  3.65573321e+00,\n",
            "               4.66586985e-04,  6.42536883e-03, -1.34780286e-03,\n",
            "              -1.67967370e-03, -7.12380558e-01,  1.68116875e-02,\n",
            "               3.44956090e-02, -1.06939074e-02,  2.70156970e-03,\n",
            "               7.69854863e-05],\n",
            "             [-1.88665531e-02, -2.20068751e+00,  6.63991179e-01,\n",
            "              -1.10671454e-03, -3.12592145e-02, -2.59838781e-04,\n",
            "              -1.74130551e-03, -1.08673929e+00,  2.57606336e-02,\n",
            "               1.33034505e-02, -7.78863396e-03,  2.82646411e-03,\n",
            "               9.47651133e-05],\n",
            "             [-2.89082655e-02,  8.15198137e+00, -3.32524467e+00,\n",
            "              -1.01461220e-03, -2.82234566e-02, -1.03920231e-02,\n",
            "              -7.34026283e-03, -4.01298516e-01, -3.02360177e-02,\n",
            "               1.54515511e-02,  2.29350191e-02,  3.63446587e-03,\n",
            "              -1.81575659e-04],\n",
            "             [ 7.96287019e-03, -4.13488327e-01,  2.91270303e+00,\n",
            "              -2.83196205e-04,  4.95673018e-03, -1.70291298e-03,\n",
            "               2.99569688e-03,  2.05391119e-01, -1.37691585e-02,\n",
            "               3.55802806e-03, -4.94764934e-03, -6.82775521e-04,\n",
            "               5.82640670e-05],\n",
            "             [-2.43597904e-03, -7.59667228e-01,  2.42619043e+00,\n",
            "              -1.96427503e-04, -2.62875974e-03, -1.87559796e-03,\n",
            "              -8.37862108e-04, -5.63112980e-01,  1.98516646e-03,\n",
            "               6.38479626e-03, -6.61275401e-03, -4.31419971e-04,\n",
            "               1.52412182e-04],\n",
            "             [ 8.72528725e-04, -4.04840724e+00, -4.05180934e+00,\n",
            "              -3.96482381e-04, -1.63892101e-02,  1.27618089e-02,\n",
            "              -3.62482386e-03, -2.25505134e-01,  2.84992937e-02,\n",
            "               1.04321419e-02,  1.37956078e-02,  4.44884263e-03,\n",
            "              -1.41168838e-04],\n",
            "             [ 3.56253226e-02, -2.02847498e+00, -2.64844031e+00,\n",
            "               3.50267030e-04,  4.89323684e-02, -1.06812123e-02,\n",
            "               6.29580036e-03,  3.82237128e-01, -1.07140381e-02,\n",
            "              -3.07718415e-02,  1.81177734e-02, -7.66554429e-03,\n",
            "               2.39380889e-04],\n",
            "             [-1.13824161e-01, -3.17433910e+00, -2.20318177e+00,\n",
            "               1.49426424e-03, -7.01996737e-03,  1.41559125e-02,\n",
            "               5.04548651e-04,  3.69508452e-01,  4.06079103e-04,\n",
            "               5.91321437e-03,  3.82460214e-02,  4.93024782e-03,\n",
            "              -1.27653742e-04],\n",
            "             [ 1.15821490e-02, -2.93849428e+00, -1.72040945e+00,\n",
            "              -2.83670080e-04,  3.88429765e-04, -7.16057111e-03,\n",
            "              -2.05277125e-03,  4.87388198e-01,  7.83771098e-03,\n",
            "              -2.31441217e-03,  1.50895317e-02,  2.96856744e-03,\n",
            "              -1.88861171e-05],\n",
            "             [ 2.20969438e-02,  2.54250844e+00, -5.47490895e-01,\n",
            "               5.48885578e-04,  4.95794365e-02, -1.67970521e-02,\n",
            "               1.82998493e-03, -5.62539950e-01, -1.21698728e-02,\n",
            "               1.63993926e-02, -1.16792021e-02,  1.74166625e-03,\n",
            "               1.50980734e-04],\n",
            "             [-1.39735205e-02,  1.72252097e+00, -4.95765390e-01,\n",
            "              -5.48826745e-04,  4.04597548e-03, -5.99953333e-03,\n",
            "               4.11417761e-03,  4.83747119e-01, -2.00328031e-02,\n",
            "               9.05072575e-03, -7.88335565e-03, -1.37641917e-03,\n",
            "               1.68244969e-04],\n",
            "             [ 6.10682605e-03,  1.45602850e+00,  4.56167218e-02,\n",
            "               5.03539202e-04,  2.10883059e-03,  8.89298406e-03,\n",
            "               3.36079955e-03,  4.09646555e-01, -2.97856870e-02,\n",
            "               5.70073657e-03,  1.21972152e-02,  1.43625163e-03,\n",
            "              -7.83929518e-05],\n",
            "             [ 8.09527986e-04, -1.23477569e+00,  4.15927008e+00,\n",
            "               6.71666174e-04,  5.78445176e-03,  1.30538620e-02,\n",
            "               9.61893267e-03,  4.95645915e-01, -3.53599335e-02,\n",
            "              -2.75117731e-02,  1.81284047e-02, -7.74638950e-03,\n",
            "               6.39873876e-05],\n",
            "             [-2.75008494e-02,  1.82987466e+00, -5.45692159e-02,\n",
            "              -1.08215476e-05, -3.39799253e-02, -3.89502156e-03,\n",
            "              -9.46045096e-03,  4.38254673e-01,  1.09988082e-02,\n",
            "              -7.82202064e-02,  2.26116170e-02,  2.35560184e-03,\n",
            "              -1.36733501e-04],\n",
            "             [ 6.02632843e-03, -1.29587571e+00,  1.13628655e+00,\n",
            "               6.71757980e-04,  1.34048075e-02,  2.83330312e-03,\n",
            "               1.45785704e-03,  6.13740845e-01,  4.65459000e-02,\n",
            "               1.97714173e-02,  2.50309158e-03, -7.62473932e-03,\n",
            "               5.46611585e-06],\n",
            "             [-1.26324680e-02,  2.36865713e+00, -4.01374120e-01,\n",
            "              -9.76934630e-04, -1.12222977e-02, -4.07838321e-03,\n",
            "              -4.51847430e-03,  4.02000560e-01, -1.51970463e-02,\n",
            "               2.06372800e-02, -1.08720962e-02,  3.75103420e-03,\n",
            "               9.66819290e-05],\n",
            "             [ 1.30518666e-02, -5.54253802e-01,  4.56699800e-01,\n",
            "               1.34171464e-03,  1.58568721e-02,  1.11065835e-02,\n",
            "               4.96358778e-03,  6.34079672e-01,  1.45644519e-02,\n",
            "               1.22405783e-02, -9.83652525e-03, -1.31250328e-02,\n",
            "              -8.05804966e-05],\n",
            "             [ 7.83829393e-02,  7.71153963e-02, -1.00405617e-01,\n",
            "              -1.39800715e-03, -1.74284245e-02, -6.87353282e-03,\n",
            "              -3.78116394e-03,  4.70364717e-01,  1.93636881e-02,\n",
            "               1.74743761e-02, -1.94617600e-02,  3.02248425e-03,\n",
            "               8.61693072e-05],\n",
            "             [ 8.65084841e-03, -4.57995179e-01, -2.12174780e-01,\n",
            "              -1.31699866e-04, -1.20025865e-02,  3.42735051e-03,\n",
            "               1.56634171e-03,  4.70706697e-01,  4.62266166e-02,\n",
            "               5.84652575e-03, -5.92221158e-03,  2.13474904e-03,\n",
            "               3.23756388e-05],\n",
            "             [-2.42522712e-03,  1.63321739e+00, -3.42895197e-01,\n",
            "              -2.33940394e-03, -2.13454008e-02, -1.85850797e-02,\n",
            "              -1.16021817e-02,  4.29435266e-01, -3.90190684e-02,\n",
            "              -1.27958804e-03, -6.18262563e-02,  7.49708091e-04,\n",
            "              -4.62504397e-04],\n",
            "             [ 2.69811691e-02,  1.47209814e+00, -3.16526947e-01,\n",
            "               1.40882668e-03,  1.64682933e-02,  1.20067393e-02,\n",
            "               2.84055580e-03,  4.42357753e-01, -1.01659110e-02,\n",
            "              -4.22243394e-02, -3.54377059e-04,  5.32088566e-05,\n",
            "              -1.41325425e-04],\n",
            "             [-2.64821691e-03, -2.28780221e-01,  3.48528506e-01,\n",
            "               7.65121424e-05, -3.08720726e-04,  3.54470852e-03,\n",
            "               2.90708826e-03,  5.78759623e-02, -2.58270838e-03,\n",
            "              -1.16564668e-02, -3.51926079e-03,  1.45089981e-04,\n",
            "              -1.27830186e-05],\n",
            "             [-1.22737659e-03, -7.71468634e-02,  4.64162523e-01,\n",
            "               2.63904707e-04,  3.01610217e-03,  1.05039218e-03,\n",
            "               1.47138624e-03,  1.22851094e-02,  1.71282911e-03,\n",
            "               3.13841947e-03,  1.68235258e-03,  4.51233766e-04,\n",
            "              -5.21784197e-06],\n",
            "             [ 2.34452413e-03, -8.11090996e-02,  1.55950825e-02,\n",
            "               1.34414378e-04,  8.10285660e-05,  1.76089975e-03,\n",
            "               1.61760078e-03, -1.27415883e-02, -3.48973389e-04,\n",
            "              -1.45185023e-03,  1.49488555e-03,  1.96516715e-04,\n",
            "               8.11769806e-06],\n",
            "             [-3.56679619e-04,  1.11666024e-01,  2.16692614e-02,\n",
            "               3.11594457e-05,  2.09901154e-04,  9.93688038e-04,\n",
            "               7.73562789e-04,  3.49540960e-02,  1.05727465e-04,\n",
            "              -2.01876491e-05,  2.11817454e-03,  6.12674628e-06,\n",
            "               1.39756243e-05],\n",
            "             [ 1.66431673e-03, -2.14717943e-02, -1.71378149e-02,\n",
            "               8.60899730e-05,  1.24395182e-03,  6.49714803e-04,\n",
            "               4.42118994e-04, -1.37561690e-03, -4.39274192e-04,\n",
            "              -2.02793885e-03, -3.23270836e-04,  7.16762348e-04,\n",
            "               1.92521045e-05],\n",
            "             [ 2.01871147e-03,  6.58940567e-02, -1.90161293e-02,\n",
            "               3.13036250e-05, -2.96205202e-04,  3.99831237e-04,\n",
            "               3.59393921e-04,  9.75851444e-03,  1.10469227e-03,\n",
            "               1.77715188e-03, -2.02149331e-04, -1.71506184e-04,\n",
            "               2.22732271e-05],\n",
            "             [ 1.25049387e-03,  5.07103102e-02, -1.18901172e-02,\n",
            "               8.83339160e-06,  2.29294072e-04,  4.43363644e-05,\n",
            "               2.59468871e-04,  1.09652396e-02,  6.50217556e-04,\n",
            "              -3.87704744e-04,  4.94535619e-04, -1.46473706e-04,\n",
            "               6.75389577e-06],\n",
            "             [ 4.03753998e-04, -4.00985505e-03, -7.62709527e-03,\n",
            "               1.10390631e-05, -7.76542396e-05,  1.45510662e-04,\n",
            "               2.26691718e-04, -7.48772891e-04,  2.36387357e-04,\n",
            "              -6.86352464e-04, -5.15045950e-04,  1.33219989e-04,\n",
            "               3.70526575e-06],\n",
            "             [ 2.61234798e-04,  1.05372135e-02, -4.76836917e-03,\n",
            "               1.59396986e-05,  2.01740520e-04,  2.47122619e-05,\n",
            "              -3.95952037e-05, -1.48367945e-04, -2.27446505e-04,\n",
            "               6.87890888e-05, -1.81970730e-04,  6.52763659e-05,\n",
            "               1.52454145e-08],\n",
            "             [-3.37564349e-05, -5.35761621e-03, -2.85436753e-03,\n",
            "              -2.89615170e-05, -9.40010562e-05, -1.95583940e-04,\n",
            "              -1.16551127e-04, -5.30303836e-04,  9.24494884e-05,\n",
            "               6.33342088e-04, -3.31029420e-04, -3.20753140e-04,\n",
            "               4.13565072e-06],\n",
            "             [ 1.25922391e-04, -1.39219112e-03,  6.69376524e-03,\n",
            "               9.62972735e-06,  2.78360382e-05,  4.95360698e-06,\n",
            "               6.74482953e-05, -9.31433945e-05,  3.42515494e-06,\n",
            "               3.30930133e-04,  2.84366562e-04,  2.61538812e-05,\n",
            "               1.12634687e-06]])\n"
          ]
        }
      ]
    },
    {
      "cell_type": "code",
      "source": [
        "print('Coefficient matrix:\\nRow count = %s\\nCol count = %s' % (fittedModel.coefficientMatrix.numRows, fittedModel.coefficientMatrix.numCols))"
      ],
      "metadata": {
        "colab": {
          "base_uri": "https://localhost:8080/"
        },
        "id": "4Gmm4KDBcQzu",
        "outputId": "a0a22fc7-0038-4c02-a628-db5d8b0b1c6a"
      },
      "execution_count": null,
      "outputs": [
        {
          "output_type": "stream",
          "name": "stdout",
          "text": [
            "Coefficient matrix:\n",
            "Row count = 33\n",
            "Col count = 13\n"
          ]
        }
      ]
    },
    {
      "cell_type": "code",
      "source": [
        "print('Model:\\nNum Classes = %s\\nNum Features = %s' % (fittedModel.numClasses, fittedModel.numFeatures))"
      ],
      "metadata": {
        "colab": {
          "base_uri": "https://localhost:8080/"
        },
        "id": "VgDV14dgcQwf",
        "outputId": "4c08cf6d-1e7d-4a11-f622-a0a439c6a629"
      },
      "execution_count": null,
      "outputs": [
        {
          "output_type": "stream",
          "name": "stdout",
          "text": [
            "Model:\n",
            "Num Classes = 33\n",
            "Num Features = 13\n"
          ]
        }
      ]
    },
    {
      "cell_type": "code",
      "source": [
        "print('Training \"Primary Type\" factor level count = %s' % train.select('primary_type_indexed').distinct().count())"
      ],
      "metadata": {
        "colab": {
          "base_uri": "https://localhost:8080/"
        },
        "id": "VVckURc5cQs1",
        "outputId": "e5a5c563-87a3-4550-abde-023d1ff12201"
      },
      "execution_count": null,
      "outputs": [
        {
          "output_type": "stream",
          "name": "stdout",
          "text": [
            "Training \"Primary Type\" factor level count = 33\n"
          ]
        }
      ]
    },
    {
      "cell_type": "code",
      "source": [
        "vectorized_df_dates.select('features').show(2, truncate=False)"
      ],
      "metadata": {
        "colab": {
          "base_uri": "https://localhost:8080/"
        },
        "id": "YLDTt0PNc4b0",
        "outputId": "acc24285-f67b-4b4f-b101-9d308dfc894c"
      },
      "execution_count": null,
      "outputs": [
        {
          "output_type": "stream",
          "name": "stdout",
          "text": [
            "+-----------------------------------------------------------+\n",
            "|features                                                   |\n",
            "+-----------------------------------------------------------+\n",
            "|[2.0,1.0,1.0,83.0,9.0,2.0,4.0,1.0,15.0,3.0,3.0,8.0,1280.0] |\n",
            "|[1.0,0.0,1.0,127.0,6.0,7.0,24.0,1.0,5.0,3.0,3.0,8.0,1280.0]|\n",
            "+-----------------------------------------------------------+\n",
            "only showing top 2 rows\n",
            "\n"
          ]
        }
      ]
    },
    {
      "cell_type": "code",
      "source": [
        "fittedModel.numClasses"
      ],
      "metadata": {
        "colab": {
          "base_uri": "https://localhost:8080/"
        },
        "id": "4gQjFwBnc4Y7",
        "outputId": "1dd74201-a78d-48e1-af95-e2b53d3334be"
      },
      "execution_count": null,
      "outputs": [
        {
          "output_type": "execute_result",
          "data": {
            "text/plain": [
              "33"
            ]
          },
          "metadata": {},
          "execution_count": 113
        }
      ]
    },
    {
      "cell_type": "code",
      "source": [
        "fittedModel.numFeatures"
      ],
      "metadata": {
        "colab": {
          "base_uri": "https://localhost:8080/"
        },
        "id": "4WFvmQ8Uc4V3",
        "outputId": "fc9d0c21-5c01-416d-c99d-b4a8e690de8f"
      },
      "execution_count": null,
      "outputs": [
        {
          "output_type": "execute_result",
          "data": {
            "text/plain": [
              "13"
            ]
          },
          "metadata": {},
          "execution_count": 114
        }
      ]
    },
    {
      "cell_type": "code",
      "source": [
        "train.select('primary_type_indexed').distinct().count()"
      ],
      "metadata": {
        "colab": {
          "base_uri": "https://localhost:8080/"
        },
        "id": "c7IO4ElxdOjE",
        "outputId": "00bbef82-2fdc-4c55-bd5f-4e207469684a"
      },
      "execution_count": null,
      "outputs": [
        {
          "output_type": "execute_result",
          "data": {
            "text/plain": [
              "33"
            ]
          },
          "metadata": {},
          "execution_count": 115
        }
      ]
    },
    {
      "cell_type": "code",
      "source": [
        "df_dates.select('Primary Type').distinct().count()"
      ],
      "metadata": {
        "colab": {
          "base_uri": "https://localhost:8080/"
        },
        "id": "AFo00Nm6dOd_",
        "outputId": "41f23c7d-668b-40d5-ce32-a45437dd81bf"
      },
      "execution_count": null,
      "outputs": [
        {
          "output_type": "execute_result",
          "data": {
            "text/plain": [
              "33"
            ]
          },
          "metadata": {},
          "execution_count": 116
        }
      ]
    },
    {
      "cell_type": "code",
      "source": [
        "fittedModel.interceptVector.values.size"
      ],
      "metadata": {
        "colab": {
          "base_uri": "https://localhost:8080/"
        },
        "id": "I2gUPRa7dOaT",
        "outputId": "5288b791-af00-462d-caa7-aad588132079"
      },
      "execution_count": null,
      "outputs": [
        {
          "output_type": "execute_result",
          "data": {
            "text/plain": [
              "33"
            ]
          },
          "metadata": {},
          "execution_count": 117
        }
      ]
    },
    {
      "cell_type": "code",
      "source": [
        "print(model_summary.objectiveHistory)\n",
        "print()\n",
        "print('Objective history size ', len(model_summary.objectiveHistory))"
      ],
      "metadata": {
        "colab": {
          "base_uri": "https://localhost:8080/"
        },
        "id": "nm_cM52sdOWq",
        "outputId": "b52ec91e-5da2-4dd2-e134-73efa4313eef"
      },
      "execution_count": null,
      "outputs": [
        {
          "output_type": "stream",
          "name": "stdout",
          "text": [
            "[2.4024456454073184, 2.0954992355355415, 1.8257035773357126, 1.6707457700430706, 1.5761945864743878, 1.4856183007622852, 1.4242461154306798, 1.3860908779164869, 1.3681299160948213, 1.3358691328638046, 1.3096040173194616]\n",
            "\n",
            "Objective history size  11\n"
          ]
        }
      ]
    },
    {
      "cell_type": "code",
      "source": [
        "sns.barplot(y=model_summary.objectiveHistory, x=list(range(len(model_summary.objectiveHistory))))"
      ],
      "metadata": {
        "colab": {
          "base_uri": "https://localhost:8080/",
          "height": 502
        },
        "id": "j4Pg--dWdOTZ",
        "outputId": "cb3d1a61-ae38-4d75-e745-7c6df85531b7"
      },
      "execution_count": null,
      "outputs": [
        {
          "output_type": "execute_result",
          "data": {
            "text/plain": [
              "<matplotlib.axes._subplots.AxesSubplot at 0x7f4f73998760>"
            ]
          },
          "metadata": {},
          "execution_count": 119
        },
        {
          "output_type": "display_data",
          "data": {
            "text/plain": [
              "<Figure size 1440x576 with 1 Axes>"
            ],
            "image/png": "[encoded data removed]"
          },
          "metadata": {}
        }
      ]
    },
    {
      "cell_type": "code",
      "source": [
        "label_stats = {float(i):{'index': float(i)} for i in range(34)}\n",
        "print(label_stats)"
      ],
      "metadata": {
        "colab": {
          "base_uri": "https://localhost:8080/"
        },
        "id": "60J6u0gxdOP4",
        "outputId": "2daf84eb-6830-4633-f938-95fc1fb6b725"
      },
      "execution_count": null,
      "outputs": [
        {
          "output_type": "stream",
          "name": "stdout",
          "text": [
            "{0.0: {'index': 0.0}, 1.0: {'index': 1.0}, 2.0: {'index': 2.0}, 3.0: {'index': 3.0}, 4.0: {'index': 4.0}, 5.0: {'index': 5.0}, 6.0: {'index': 6.0}, 7.0: {'index': 7.0}, 8.0: {'index': 8.0}, 9.0: {'index': 9.0}, 10.0: {'index': 10.0}, 11.0: {'index': 11.0}, 12.0: {'index': 12.0}, 13.0: {'index': 13.0}, 14.0: {'index': 14.0}, 15.0: {'index': 15.0}, 16.0: {'index': 16.0}, 17.0: {'index': 17.0}, 18.0: {'index': 18.0}, 19.0: {'index': 19.0}, 20.0: {'index': 20.0}, 21.0: {'index': 21.0}, 22.0: {'index': 22.0}, 23.0: {'index': 23.0}, 24.0: {'index': 24.0}, 25.0: {'index': 25.0}, 26.0: {'index': 26.0}, 27.0: {'index': 27.0}, 28.0: {'index': 28.0}, 29.0: {'index': 29.0}, 30.0: {'index': 30.0}, 31.0: {'index': 31.0}, 32.0: {'index': 32.0}, 33.0: {'index': 33.0}}\n"
          ]
        }
      ]
    },
    {
      "cell_type": "code",
      "source": [
        "print(\"False positive rate by label:\")\n",
        "for i, rate in enumerate(model_summary.falsePositiveRateByLabel):\n",
        "    label_stats[i]['false_positive_rate'] = rate\n",
        "    \n",
        "for i, rate in enumerate(model_summary.truePositiveRateByLabel):\n",
        "    label_stats[i]['true_positive_rate'] = rate\n",
        "    \n",
        "for i, rate in enumerate(model_summary.precisionByLabel):\n",
        "    label_stats[i]['precision_rate'] = rate\n",
        "    \n",
        "for i, rate in enumerate(model_summary.recallByLabel):\n",
        "    label_stats[i]['recall_rate'] = rate\n",
        "    \n",
        "for i, rate in enumerate(model_summary.fMeasureByLabel()):\n",
        "    label_stats[i]['f_measure'] = rate"
      ],
      "metadata": {
        "colab": {
          "base_uri": "https://localhost:8080/"
        },
        "id": "_Ku0KNaOdOMa",
        "outputId": "ee8d896b-f628-411c-e4f7-93efede8071b"
      },
      "execution_count": null,
      "outputs": [
        {
          "output_type": "stream",
          "name": "stdout",
          "text": [
            "False positive rate by label:\n"
          ]
        }
      ]
    },
    {
      "cell_type": "code",
      "source": [
        "train_rdd = train.select(['Primary Type', 'primary_type_indexed']).distinct().orderBy('primary_type_indexed').rdd.map(lambda l: l.asDict()).collect()"
      ],
      "metadata": {
        "id": "c1Y1qmcEdOH9"
      },
      "execution_count": null,
      "outputs": []
    },
    {
      "cell_type": "code",
      "source": [
        "for l in train_rdd:\n",
        "    print(l)\n",
        "    label_stats[l['primary_type_indexed']]['Primary Type'] = l['Primary Type']"
      ],
      "metadata": {
        "colab": {
          "base_uri": "https://localhost:8080/"
        },
        "id": "SXCKVD4IdOEu",
        "outputId": "49a27555-f4c7-4a16-b6c5-7e47282627e2"
      },
      "execution_count": null,
      "outputs": [
        {
          "output_type": "stream",
          "name": "stdout",
          "text": [
            "{'Primary Type': 'THEFT', 'primary_type_indexed': 0.0}\n",
            "{'Primary Type': 'BATTERY', 'primary_type_indexed': 1.0}\n",
            "{'Primary Type': 'CRIMINAL DAMAGE', 'primary_type_indexed': 2.0}\n",
            "{'Primary Type': 'NARCOTICS', 'primary_type_indexed': 3.0}\n",
            "{'Primary Type': 'ASSAULT', 'primary_type_indexed': 4.0}\n",
            "{'Primary Type': 'OTHER OFFENSE', 'primary_type_indexed': 5.0}\n",
            "{'Primary Type': 'BURGLARY', 'primary_type_indexed': 6.0}\n",
            "{'Primary Type': 'DECEPTIVE PRACTICE', 'primary_type_indexed': 7.0}\n",
            "{'Primary Type': 'MOTOR VEHICLE THEFT', 'primary_type_indexed': 8.0}\n",
            "{'Primary Type': 'ROBBERY', 'primary_type_indexed': 9.0}\n",
            "{'Primary Type': 'CRIMINAL TRESPASS', 'primary_type_indexed': 10.0}\n",
            "{'Primary Type': 'WEAPONS VIOLATION', 'primary_type_indexed': 11.0}\n",
            "{'Primary Type': 'PUBLIC PEACE VIOLATION', 'primary_type_indexed': 12.0}\n",
            "{'Primary Type': 'OFFENSE INVOLVING CHILDREN', 'primary_type_indexed': 13.0}\n",
            "{'Primary Type': 'PROSTITUTION', 'primary_type_indexed': 14.0}\n",
            "{'Primary Type': 'CRIM SEXUAL ASSAULT', 'primary_type_indexed': 15.0}\n",
            "{'Primary Type': 'INTERFERENCE WITH PUBLIC OFFICER', 'primary_type_indexed': 16.0}\n",
            "{'Primary Type': 'SEX OFFENSE', 'primary_type_indexed': 17.0}\n",
            "{'Primary Type': 'HOMICIDE', 'primary_type_indexed': 18.0}\n",
            "{'Primary Type': 'ARSON', 'primary_type_indexed': 19.0}\n",
            "{'Primary Type': 'GAMBLING', 'primary_type_indexed': 20.0}\n",
            "{'Primary Type': 'LIQUOR LAW VIOLATION', 'primary_type_indexed': 21.0}\n",
            "{'Primary Type': 'KIDNAPPING', 'primary_type_indexed': 22.0}\n",
            "{'Primary Type': 'STALKING', 'primary_type_indexed': 23.0}\n",
            "{'Primary Type': 'INTIMIDATION', 'primary_type_indexed': 24.0}\n",
            "{'Primary Type': 'OBSCENITY', 'primary_type_indexed': 25.0}\n",
            "{'Primary Type': 'NON-CRIMINAL', 'primary_type_indexed': 26.0}\n",
            "{'Primary Type': 'CONCEALED CARRY LICENSE VIOLATION', 'primary_type_indexed': 27.0}\n",
            "{'Primary Type': 'PUBLIC INDECENCY', 'primary_type_indexed': 28.0}\n",
            "{'Primary Type': 'NON - CRIMINAL', 'primary_type_indexed': 29.0}\n",
            "{'Primary Type': 'OTHER NARCOTIC VIOLATION', 'primary_type_indexed': 30.0}\n",
            "{'Primary Type': 'HUMAN TRAFFICKING', 'primary_type_indexed': 31.0}\n",
            "{'Primary Type': 'NON-CRIMINAL (SUBJECT SPECIFIED)', 'primary_type_indexed': 32.0}\n"
          ]
        }
      ]
    },
    {
      "cell_type": "code",
      "source": [
        "rates_pddf = pd.DataFrame(list(label_stats.values()))"
      ],
      "metadata": {
        "id": "6KUyNumddN6l"
      },
      "execution_count": null,
      "outputs": []
    },
    {
      "cell_type": "code",
      "source": [
        "rates_pddf = rates_pddf.sort_values(by='precision_rate', ascending=False)"
      ],
      "metadata": {
        "id": "mnrOuvoCeOR7"
      },
      "execution_count": null,
      "outputs": []
    },
    {
      "cell_type": "code",
      "source": [
        "rates_pddf"
      ],
      "metadata": {
        "colab": {
          "base_uri": "https://localhost:8080/",
          "height": 1000
        },
        "id": "vQ6p4n7ReONb",
        "outputId": "7f7ddd84-1825-4d74-da23-c5382d4eb974"
      },
      "execution_count": null,
      "outputs": [
        {
          "output_type": "execute_result",
          "data": {
            "text/plain": [
              "    index  false_positive_rate  true_positive_rate  precision_rate  \\\n",
              "0     0.0             0.036805            0.975234        0.885681   \n",
              "6     6.0             0.025767            0.876244        0.673856   \n",
              "13   13.0             0.001502            0.327784        0.631438   \n",
              "3     3.0             0.067076            0.975140        0.598246   \n",
              "2     2.0             0.061963            0.771528        0.598201   \n",
              "1     1.0             0.094029            0.460428        0.520549   \n",
              "12   12.0             0.000006            0.000544        0.454545   \n",
              "8     8.0             0.037710            0.688559        0.444448   \n",
              "10   10.0             0.002788            0.083581        0.439173   \n",
              "7     7.0             0.039466            0.396961        0.350955   \n",
              "14   14.0             0.000228            0.022659        0.343750   \n",
              "18   18.0             0.001059            0.278993        0.321564   \n",
              "11   11.0             0.020266            0.733339        0.303465   \n",
              "4     4.0             0.020641            0.125282        0.289170   \n",
              "9     9.0             0.025817            0.220453        0.257920   \n",
              "17   17.0             0.003018            0.159475        0.151566   \n",
              "15   15.0             0.000205            0.001056        0.023474   \n",
              "31   31.0             0.000000            0.000000        0.000000   \n",
              "25   25.0             0.000000            0.000000        0.000000   \n",
              "30   30.0             0.000000            0.000000        0.000000   \n",
              "29   29.0             0.000000            0.000000        0.000000   \n",
              "28   28.0             0.000000            0.000000        0.000000   \n",
              "27   27.0             0.000000            0.000000        0.000000   \n",
              "26   26.0             0.000000            0.000000        0.000000   \n",
              "16   16.0             0.000000            0.000000        0.000000   \n",
              "24   24.0             0.000000            0.000000        0.000000   \n",
              "23   23.0             0.000000            0.000000        0.000000   \n",
              "22   22.0             0.000000            0.000000        0.000000   \n",
              "21   21.0             0.000000            0.000000        0.000000   \n",
              "20   20.0             0.000006            0.000000        0.000000   \n",
              "19   19.0             0.000000            0.000000        0.000000   \n",
              "5     5.0             0.000000            0.000000        0.000000   \n",
              "32   32.0             0.000000            0.000000        0.000000   \n",
              "33   33.0                  NaN                 NaN             NaN   \n",
              "\n",
              "    recall_rate  f_measure                       Primary Type  \n",
              "0      0.975234   0.928303                              THEFT  \n",
              "6      0.876244   0.761837                           BURGLARY  \n",
              "13     0.327784   0.431548         OFFENSE INVOLVING CHILDREN  \n",
              "3      0.975140   0.741552                          NARCOTICS  \n",
              "2      0.771528   0.673898                    CRIMINAL DAMAGE  \n",
              "1      0.460428   0.488646                            BATTERY  \n",
              "12     0.000544   0.001088             PUBLIC PEACE VIOLATION  \n",
              "8      0.688559   0.540206                MOTOR VEHICLE THEFT  \n",
              "10     0.083581   0.140435                  CRIMINAL TRESPASS  \n",
              "7      0.396961   0.372543                 DECEPTIVE PRACTICE  \n",
              "14     0.022659   0.042516                       PROSTITUTION  \n",
              "18     0.278993   0.298770                           HOMICIDE  \n",
              "11     0.733339   0.429286                  WEAPONS VIOLATION  \n",
              "4      0.125282   0.174822                            ASSAULT  \n",
              "9      0.220453   0.237719                            ROBBERY  \n",
              "17     0.159475   0.155420                        SEX OFFENSE  \n",
              "15     0.001056   0.002022                CRIM SEXUAL ASSAULT  \n",
              "31     0.000000   0.000000                  HUMAN TRAFFICKING  \n",
              "25     0.000000   0.000000                          OBSCENITY  \n",
              "30     0.000000   0.000000           OTHER NARCOTIC VIOLATION  \n",
              "29     0.000000   0.000000                     NON - CRIMINAL  \n",
              "28     0.000000   0.000000                   PUBLIC INDECENCY  \n",
              "27     0.000000   0.000000  CONCEALED CARRY LICENSE VIOLATION  \n",
              "26     0.000000   0.000000                       NON-CRIMINAL  \n",
              "16     0.000000   0.000000   INTERFERENCE WITH PUBLIC OFFICER  \n",
              "24     0.000000   0.000000                       INTIMIDATION  \n",
              "23     0.000000   0.000000                           STALKING  \n",
              "22     0.000000   0.000000                         KIDNAPPING  \n",
              "21     0.000000   0.000000               LIQUOR LAW VIOLATION  \n",
              "20     0.000000   0.000000                           GAMBLING  \n",
              "19     0.000000   0.000000                              ARSON  \n",
              "5      0.000000   0.000000                      OTHER OFFENSE  \n",
              "32     0.000000   0.000000   NON-CRIMINAL (SUBJECT SPECIFIED)  \n",
              "33          NaN        NaN                                NaN  "
            ],
            "text/html": [
              "\n",
              "  <div id=\"df-bf4a381d-8e62-4072-aa8a-1371ab3562f5\">\n",
              "    <div class=\"colab-df-container\">\n",
              "      <div>\n",
              "<style scoped>\n",
              "    .dataframe tbody tr th:only-of-type {\n",
              "        vertical-align: middle;\n",
              "    }\n",
              "\n",
              "    .dataframe tbody tr th {\n",
              "        vertical-align: top;\n",
              "    }\n",
              "\n",
              "    .dataframe thead th {\n",
              "        text-align: right;\n",
              "    }\n",
              "</style>\n",
              "<table border=\"1\" class=\"dataframe\">\n",
              "  <thead>\n",
              "    <tr style=\"text-align: right;\">\n",
              "      <th></th>\n",
              "      <th>index</th>\n",
              "      <th>false_positive_rate</th>\n",
              "      <th>true_positive_rate</th>\n",
              "      <th>precision_rate</th>\n",
              "      <th>recall_rate</th>\n",
              "      <th>f_measure</th>\n",
              "      <th>Primary Type</th>\n",
              "    </tr>\n",
              "  </thead>\n",
              "  <tbody>\n",
              "    <tr>\n",
              "      <th>0</th>\n",
              "      <td>0.0</td>\n",
              "      <td>0.036805</td>\n",
              "      <td>0.975234</td>\n",
              "      <td>0.885681</td>\n",
              "      <td>0.975234</td>\n",
              "      <td>0.928303</td>\n",
              "      <td>THEFT</td>\n",
              "    </tr>\n",
              "    <tr>\n",
              "      <th>6</th>\n",
              "      <td>6.0</td>\n",
              "      <td>0.025767</td>\n",
              "      <td>0.876244</td>\n",
              "      <td>0.673856</td>\n",
              "      <td>0.876244</td>\n",
              "      <td>0.761837</td>\n",
              "      <td>BURGLARY</td>\n",
              "    </tr>\n",
              "    <tr>\n",
              "      <th>13</th>\n",
              "      <td>13.0</td>\n",
              "      <td>0.001502</td>\n",
              "      <td>0.327784</td>\n",
              "      <td>0.631438</td>\n",
              "      <td>0.327784</td>\n",
              "      <td>0.431548</td>\n",
              "      <td>OFFENSE INVOLVING CHILDREN</td>\n",
              "    </tr>\n",
              "    <tr>\n",
              "      <th>3</th>\n",
              "      <td>3.0</td>\n",
              "      <td>0.067076</td>\n",
              "      <td>0.975140</td>\n",
              "      <td>0.598246</td>\n",
              "      <td>0.975140</td>\n",
              "      <td>0.741552</td>\n",
              "      <td>NARCOTICS</td>\n",
              "    </tr>\n",
              "    <tr>\n",
              "      <th>2</th>\n",
              "      <td>2.0</td>\n",
              "      <td>0.061963</td>\n",
              "      <td>0.771528</td>\n",
              "      <td>0.598201</td>\n",
              "      <td>0.771528</td>\n",
              "      <td>0.673898</td>\n",
              "      <td>CRIMINAL DAMAGE</td>\n",
              "    </tr>\n",
              "    <tr>\n",
              "      <th>1</th>\n",
              "      <td>1.0</td>\n",
              "      <td>0.094029</td>\n",
              "      <td>0.460428</td>\n",
              "      <td>0.520549</td>\n",
              "      <td>0.460428</td>\n",
              "      <td>0.488646</td>\n",
              "      <td>BATTERY</td>\n",
              "    </tr>\n",
              "    <tr>\n",
              "      <th>12</th>\n",
              "      <td>12.0</td>\n",
              "      <td>0.000006</td>\n",
              "      <td>0.000544</td>\n",
              "      <td>0.454545</td>\n",
              "      <td>0.000544</td>\n",
              "      <td>0.001088</td>\n",
              "      <td>PUBLIC PEACE VIOLATION</td>\n",
              "    </tr>\n",
              "    <tr>\n",
              "      <th>8</th>\n",
              "      <td>8.0</td>\n",
              "      <td>0.037710</td>\n",
              "      <td>0.688559</td>\n",
              "      <td>0.444448</td>\n",
              "      <td>0.688559</td>\n",
              "      <td>0.540206</td>\n",
              "      <td>MOTOR VEHICLE THEFT</td>\n",
              "    </tr>\n",
              "    <tr>\n",
              "      <th>10</th>\n",
              "      <td>10.0</td>\n",
              "      <td>0.002788</td>\n",
              "      <td>0.083581</td>\n",
              "      <td>0.439173</td>\n",
              "      <td>0.083581</td>\n",
              "      <td>0.140435</td>\n",
              "      <td>CRIMINAL TRESPASS</td>\n",
              "    </tr>\n",
              "    <tr>\n",
              "      <th>7</th>\n",
              "      <td>7.0</td>\n",
              "      <td>0.039466</td>\n",
              "      <td>0.396961</td>\n",
              "      <td>0.350955</td>\n",
              "      <td>0.396961</td>\n",
              "      <td>0.372543</td>\n",
              "      <td>DECEPTIVE PRACTICE</td>\n",
              "    </tr>\n",
              "    <tr>\n",
              "      <th>14</th>\n",
              "      <td>14.0</td>\n",
              "      <td>0.000228</td>\n",
              "      <td>0.022659</td>\n",
              "      <td>0.343750</td>\n",
              "      <td>0.022659</td>\n",
              "      <td>0.042516</td>\n",
              "      <td>PROSTITUTION</td>\n",
              "    </tr>\n",
              "    <tr>\n",
              "      <th>18</th>\n",
              "      <td>18.0</td>\n",
              "      <td>0.001059</td>\n",
              "      <td>0.278993</td>\n",
              "      <td>0.321564</td>\n",
              "      <td>0.278993</td>\n",
              "      <td>0.298770</td>\n",
              "      <td>HOMICIDE</td>\n",
              "    </tr>\n",
              "    <tr>\n",
              "      <th>11</th>\n",
              "      <td>11.0</td>\n",
              "      <td>0.020266</td>\n",
              "      <td>0.733339</td>\n",
              "      <td>0.303465</td>\n",
              "      <td>0.733339</td>\n",
              "      <td>0.429286</td>\n",
              "      <td>WEAPONS VIOLATION</td>\n",
              "    </tr>\n",
              "    <tr>\n",
              "      <th>4</th>\n",
              "      <td>4.0</td>\n",
              "      <td>0.020641</td>\n",
              "      <td>0.125282</td>\n",
              "      <td>0.289170</td>\n",
              "      <td>0.125282</td>\n",
              "      <td>0.174822</td>\n",
              "      <td>ASSAULT</td>\n",
              "    </tr>\n",
              "    <tr>\n",
              "      <th>9</th>\n",
              "      <td>9.0</td>\n",
              "      <td>0.025817</td>\n",
              "      <td>0.220453</td>\n",
              "      <td>0.257920</td>\n",
              "      <td>0.220453</td>\n",
              "      <td>0.237719</td>\n",
              "      <td>ROBBERY</td>\n",
              "    </tr>\n",
              "    <tr>\n",
              "      <th>17</th>\n",
              "      <td>17.0</td>\n",
              "      <td>0.003018</td>\n",
              "      <td>0.159475</td>\n",
              "      <td>0.151566</td>\n",
              "      <td>0.159475</td>\n",
              "      <td>0.155420</td>\n",
              "      <td>SEX OFFENSE</td>\n",
              "    </tr>\n",
              "    <tr>\n",
              "      <th>15</th>\n",
              "      <td>15.0</td>\n",
              "      <td>0.000205</td>\n",
              "      <td>0.001056</td>\n",
              "      <td>0.023474</td>\n",
              "      <td>0.001056</td>\n",
              "      <td>0.002022</td>\n",
              "      <td>CRIM SEXUAL ASSAULT</td>\n",
              "    </tr>\n",
              "    <tr>\n",
              "      <th>31</th>\n",
              "      <td>31.0</td>\n",
              "      <td>0.000000</td>\n",
              "      <td>0.000000</td>\n",
              "      <td>0.000000</td>\n",
              "      <td>0.000000</td>\n",
              "      <td>0.000000</td>\n",
              "      <td>HUMAN TRAFFICKING</td>\n",
              "    </tr>\n",
              "    <tr>\n",
              "      <th>25</th>\n",
              "      <td>25.0</td>\n",
              "      <td>0.000000</td>\n",
              "      <td>0.000000</td>\n",
              "      <td>0.000000</td>\n",
              "      <td>0.000000</td>\n",
              "      <td>0.000000</td>\n",
              "      <td>OBSCENITY</td>\n",
              "    </tr>\n",
              "    <tr>\n",
              "      <th>30</th>\n",
              "      <td>30.0</td>\n",
              "      <td>0.000000</td>\n",
              "      <td>0.000000</td>\n",
              "      <td>0.000000</td>\n",
              "      <td>0.000000</td>\n",
              "      <td>0.000000</td>\n",
              "      <td>OTHER NARCOTIC VIOLATION</td>\n",
              "    </tr>\n",
              "    <tr>\n",
              "      <th>29</th>\n",
              "      <td>29.0</td>\n",
              "      <td>0.000000</td>\n",
              "      <td>0.000000</td>\n",
              "      <td>0.000000</td>\n",
              "      <td>0.000000</td>\n",
              "      <td>0.000000</td>\n",
              "      <td>NON - CRIMINAL</td>\n",
              "    </tr>\n",
              "    <tr>\n",
              "      <th>28</th>\n",
              "      <td>28.0</td>\n",
              "      <td>0.000000</td>\n",
              "      <td>0.000000</td>\n",
              "      <td>0.000000</td>\n",
              "      <td>0.000000</td>\n",
              "      <td>0.000000</td>\n",
              "      <td>PUBLIC INDECENCY</td>\n",
              "    </tr>\n",
              "    <tr>\n",
              "      <th>27</th>\n",
              "      <td>27.0</td>\n",
              "      <td>0.000000</td>\n",
              "      <td>0.000000</td>\n",
              "      <td>0.000000</td>\n",
              "      <td>0.000000</td>\n",
              "      <td>0.000000</td>\n",
              "      <td>CONCEALED CARRY LICENSE VIOLATION</td>\n",
              "    </tr>\n",
              "    <tr>\n",
              "      <th>26</th>\n",
              "      <td>26.0</td>\n",
              "      <td>0.000000</td>\n",
              "      <td>0.000000</td>\n",
              "      <td>0.000000</td>\n",
              "      <td>0.000000</td>\n",
              "      <td>0.000000</td>\n",
              "      <td>NON-CRIMINAL</td>\n",
              "    </tr>\n",
              "    <tr>\n",
              "      <th>16</th>\n",
              "      <td>16.0</td>\n",
              "      <td>0.000000</td>\n",
              "      <td>0.000000</td>\n",
              "      <td>0.000000</td>\n",
              "      <td>0.000000</td>\n",
              "      <td>0.000000</td>\n",
              "      <td>INTERFERENCE WITH PUBLIC OFFICER</td>\n",
              "    </tr>\n",
              "    <tr>\n",
              "      <th>24</th>\n",
              "      <td>24.0</td>\n",
              "      <td>0.000000</td>\n",
              "      <td>0.000000</td>\n",
              "      <td>0.000000</td>\n",
              "      <td>0.000000</td>\n",
              "      <td>0.000000</td>\n",
              "      <td>INTIMIDATION</td>\n",
              "    </tr>\n",
              "    <tr>\n",
              "      <th>23</th>\n",
              "      <td>23.0</td>\n",
              "      <td>0.000000</td>\n",
              "      <td>0.000000</td>\n",
              "      <td>0.000000</td>\n",
              "      <td>0.000000</td>\n",
              "      <td>0.000000</td>\n",
              "      <td>STALKING</td>\n",
              "    </tr>\n",
              "    <tr>\n",
              "      <th>22</th>\n",
              "      <td>22.0</td>\n",
              "      <td>0.000000</td>\n",
              "      <td>0.000000</td>\n",
              "      <td>0.000000</td>\n",
              "      <td>0.000000</td>\n",
              "      <td>0.000000</td>\n",
              "      <td>KIDNAPPING</td>\n",
              "    </tr>\n",
              "    <tr>\n",
              "      <th>21</th>\n",
              "      <td>21.0</td>\n",
              "      <td>0.000000</td>\n",
              "      <td>0.000000</td>\n",
              "      <td>0.000000</td>\n",
              "      <td>0.000000</td>\n",
              "      <td>0.000000</td>\n",
              "      <td>LIQUOR LAW VIOLATION</td>\n",
              "    </tr>\n",
              "    <tr>\n",
              "      <th>20</th>\n",
              "      <td>20.0</td>\n",
              "      <td>0.000006</td>\n",
              "      <td>0.000000</td>\n",
              "      <td>0.000000</td>\n",
              "      <td>0.000000</td>\n",
              "      <td>0.000000</td>\n",
              "      <td>GAMBLING</td>\n",
              "    </tr>\n",
              "    <tr>\n",
              "      <th>19</th>\n",
              "      <td>19.0</td>\n",
              "      <td>0.000000</td>\n",
              "      <td>0.000000</td>\n",
              "      <td>0.000000</td>\n",
              "      <td>0.000000</td>\n",
              "      <td>0.000000</td>\n",
              "      <td>ARSON</td>\n",
              "    </tr>\n",
              "    <tr>\n",
              "      <th>5</th>\n",
              "      <td>5.0</td>\n",
              "      <td>0.000000</td>\n",
              "      <td>0.000000</td>\n",
              "      <td>0.000000</td>\n",
              "      <td>0.000000</td>\n",
              "      <td>0.000000</td>\n",
              "      <td>OTHER OFFENSE</td>\n",
              "    </tr>\n",
              "    <tr>\n",
              "      <th>32</th>\n",
              "      <td>32.0</td>\n",
              "      <td>0.000000</td>\n",
              "      <td>0.000000</td>\n",
              "      <td>0.000000</td>\n",
              "      <td>0.000000</td>\n",
              "      <td>0.000000</td>\n",
              "      <td>NON-CRIMINAL (SUBJECT SPECIFIED)</td>\n",
              "    </tr>\n",
              "    <tr>\n",
              "      <th>33</th>\n",
              "      <td>33.0</td>\n",
              "      <td>NaN</td>\n",
              "      <td>NaN</td>\n",
              "      <td>NaN</td>\n",
              "      <td>NaN</td>\n",
              "      <td>NaN</td>\n",
              "      <td>NaN</td>\n",
              "    </tr>\n",
              "  </tbody>\n",
              "</table>\n",
              "</div>\n",
              "      <button class=\"colab-df-convert\" onclick=\"convertToInteractive('df-bf4a381d-8e62-4072-aa8a-1371ab3562f5')\"\n",
              "              title=\"Convert this dataframe to an interactive table.\"\n",
              "              style=\"display:none;\">\n",
              "        \n",
              "  <svg xmlns=\"http://www.w3.org/2000/svg\" height=\"24px\"viewBox=\"0 0 24 24\"\n",
              "       width=\"24px\">\n",
              "    <path d=\"M0 0h24v24H0V0z\" fill=\"none\"/>\n",
              "    <path d=\"M18.56 5.44l.94 2.06.94-2.06 2.06-.94-2.06-.94-.94-2.06-.94 2.06-2.06.94zm-11 1L8.5 8.5l.94-2.06 2.06-.94-2.06-.94L8.5 2.5l-.94 2.06-2.06.94zm10 10l.94 2.06.94-2.06 2.06-.94-2.06-.94-.94-2.06-.94 2.06-2.06.94z\"/><path d=\"M17.41 7.96l-1.37-1.37c-.4-.4-.92-.59-1.43-.59-.52 0-1.04.2-1.43.59L10.3 9.45l-7.72 7.72c-.78.78-.78 2.05 0 2.83L4 21.41c.39.39.9.59 1.41.59.51 0 1.02-.2 1.41-.59l7.78-7.78 2.81-2.81c.8-.78.8-2.07 0-2.86zM5.41 20L4 18.59l7.72-7.72 1.47 1.35L5.41 20z\"/>\n",
              "  </svg>\n",
              "      </button>\n",
              "      \n",
              "  <style>\n",
              "    .colab-df-container {\n",
              "      display:flex;\n",
              "      flex-wrap:wrap;\n",
              "      gap: 12px;\n",
              "    }\n",
              "\n",
              "    .colab-df-convert {\n",
              "      background-color: #E8F0FE;\n",
              "      border: none;\n",
              "      border-radius: 50%;\n",
              "      cursor: pointer;\n",
              "      display: none;\n",
              "      fill: #1967D2;\n",
              "      height: 32px;\n",
              "      padding: 0 0 0 0;\n",
              "      width: 32px;\n",
              "    }\n",
              "\n",
              "    .colab-df-convert:hover {\n",
              "      background-color: #E2EBFA;\n",
              "      box-shadow: 0px 1px 2px rgba(60, 64, 67, 0.3), 0px 1px 3px 1px rgba(60, 64, 67, 0.15);\n",
              "      fill: #174EA6;\n",
              "    }\n",
              "\n",
              "    [theme=dark] .colab-df-convert {\n",
              "      background-color: #3B4455;\n",
              "      fill: #D2E3FC;\n",
              "    }\n",
              "\n",
              "    [theme=dark] .colab-df-convert:hover {\n",
              "      background-color: #434B5C;\n",
              "      box-shadow: 0px 1px 3px 1px rgba(0, 0, 0, 0.15);\n",
              "      filter: drop-shadow(0px 1px 2px rgba(0, 0, 0, 0.3));\n",
              "      fill: #FFFFFF;\n",
              "    }\n",
              "  </style>\n",
              "\n",
              "      <script>\n",
              "        const buttonEl =\n",
              "          document.querySelector('#df-bf4a381d-8e62-4072-aa8a-1371ab3562f5 button.colab-df-convert');\n",
              "        buttonEl.style.display =\n",
              "          google.colab.kernel.accessAllowed ? 'block' : 'none';\n",
              "\n",
              "        async function convertToInteractive(key) {\n",
              "          const element = document.querySelector('#df-bf4a381d-8e62-4072-aa8a-1371ab3562f5');\n",
              "          const dataTable =\n",
              "            await google.colab.kernel.invokeFunction('convertToInteractive',\n",
              "                                                     [key], {});\n",
              "          if (!dataTable) return;\n",
              "\n",
              "          const docLinkHtml = 'Like what you see? Visit the ' +\n",
              "            '<a target=\"_blank\" href=https://colab.research.google.com/notebooks/data_table.ipynb>data table notebook</a>'\n",
              "            + ' to learn more about interactive tables.';\n",
              "          element.innerHTML = '';\n",
              "          dataTable['output_type'] = 'display_data';\n",
              "          await google.colab.output.renderOutput(dataTable, element);\n",
              "          const docLink = document.createElement('div');\n",
              "          docLink.innerHTML = docLinkHtml;\n",
              "          element.appendChild(docLink);\n",
              "        }\n",
              "      </script>\n",
              "    </div>\n",
              "  </div>\n",
              "  "
            ]
          },
          "metadata": {},
          "execution_count": 126
        }
      ]
    },
    {
      "cell_type": "code",
      "source": [
        "test_data_pred = fittedModel.transform(test)"
      ],
      "metadata": {
        "id": "0kWyvyJWeOKC"
      },
      "execution_count": null,
      "outputs": []
    },
    {
      "cell_type": "code",
      "source": [
        "test_data_pred"
      ],
      "metadata": {
        "colab": {
          "base_uri": "https://localhost:8080/"
        },
        "id": "gAGashaWAQ3F",
        "outputId": "06ba280a-66b4-437a-cd29-43d507369f63"
      },
      "execution_count": null,
      "outputs": [
        {
          "output_type": "execute_result",
          "data": {
            "text/plain": [
              "DataFrame[_c0: int, ID: int, Case Number: string, Date: string, Block: string, IUCR: string, Primary Type: string, Description: string, Location Description: string, Arrest: string, Domestic: string, Beat: int, District: double, Ward: double, Community Area: double, FBI Code: string, X Coordinate: double, Y Coordinate: double, Year: int, Updated On: string, Latitude: double, Longitude: double, Location: string, date_time: timestamp, month: date, hour: int, week_day: int, year_month: int, month_day: int, date_number: int, Location Description_indexed: double, Arrest_indexed: double, Domestic_indexed: double, Beat_indexed: double, District_indexed: double, Ward_indexed: double, Community Area_indexed: double, FBI Code_indexed: double, hour_indexed: double, week_day_indexed: double, year_month_indexed: double, month_day_indexed: double, date_number_indexed: double, primary_type_indexed: double, features: vector, rawPrediction: vector, probability: vector, prediction: double]"
            ]
          },
          "metadata": {},
          "execution_count": 128
        }
      ]
    },
    {
      "cell_type": "code",
      "source": [
        "test_data_pred[[\"primary_type_indexed\", \"features\", \"prediction\"]].show()"
      ],
      "metadata": {
        "colab": {
          "base_uri": "https://localhost:8080/"
        },
        "id": "M8vIXooyeOGo",
        "outputId": "1141b863-3b3a-4a35-dd5c-712ebd136582"
      },
      "execution_count": null,
      "outputs": [
        {
          "output_type": "stream",
          "name": "stdout",
          "text": [
            "+--------------------+--------------------+----------+\n",
            "|primary_type_indexed|            features|prediction|\n",
            "+--------------------+--------------------+----------+\n",
            "|                 1.0|[2.0,1.0,1.0,83.0...|       1.0|\n",
            "|                 1.0|[12.0,0.0,0.0,248...|       0.0|\n",
            "|                 1.0|[3.0,0.0,0.0,186....|       0.0|\n",
            "|                11.0|[13.0,1.0,0.0,115...|      11.0|\n",
            "|                 0.0|[4.0,0.0,0.0,167....|       0.0|\n",
            "|                 0.0|[0.0,0.0,0.0,124....|       0.0|\n",
            "|                 1.0|[2.0,0.0,1.0,102....|       1.0|\n",
            "|                 0.0|[0.0,0.0,0.0,259....|       0.0|\n",
            "|                 7.0|[1.0,0.0,0.0,111....|       8.0|\n",
            "|                 0.0|[0.0,0.0,0.0,37.0...|       0.0|\n",
            "|                 0.0|[12.0,0.0,0.0,151...|       0.0|\n",
            "|                 0.0|[0.0,0.0,0.0,140....|       0.0|\n",
            "|                 0.0|[0.0,0.0,0.0,3.0,...|       0.0|\n",
            "|                 0.0|[11.0,0.0,0.0,224...|       0.0|\n",
            "|                 7.0|[1.0,0.0,0.0,116....|       6.0|\n",
            "|                 5.0|[2.0,0.0,0.0,14.0...|       2.0|\n",
            "|                 7.0|[0.0,0.0,0.0,22.0...|       7.0|\n",
            "|                 2.0|[1.0,0.0,0.0,86.0...|       2.0|\n",
            "|                 7.0|[8.0,0.0,0.0,241....|       7.0|\n",
            "|                 1.0|[3.0,0.0,0.0,114....|       2.0|\n",
            "+--------------------+--------------------+----------+\n",
            "only showing top 20 rows\n",
            "\n"
          ]
        }
      ]
    },
    {
      "cell_type": "code",
      "source": [
        "from pyspark.ml.evaluation import RegressionEvaluator\n",
        "regressionEvaluator = RegressionEvaluator(\n",
        "predictionCol=\"prediction\",\n",
        "labelCol=\"primary_type_indexed\",\n",
        "metricName=\"rmse\")\n",
        "rmse = regressionEvaluator.evaluate(test_data_pred)\n",
        "print(f\"RMSE is {rmse:.1f}\")"
      ],
      "metadata": {
        "id": "ngbcA8LCeOCw",
        "colab": {
          "base_uri": "https://localhost:8080/"
        },
        "outputId": "4487c669-a2f3-42fd-e069-70763169f05b"
      },
      "execution_count": null,
      "outputs": [
        {
          "output_type": "stream",
          "name": "stdout",
          "text": [
            "RMSE is 2.6\n"
          ]
        }
      ]
    },
    {
      "cell_type": "code",
      "source": [
        "r2 = regressionEvaluator.setMetricName(\"r2\").evaluate(test_data_pred)\n",
        "print(f\"R2 is {r2}\")"
      ],
      "metadata": {
        "colab": {
          "base_uri": "https://localhost:8080/"
        },
        "id": "5kx4c0OOBGvZ",
        "outputId": "744b9e34-7c5b-465a-c7db-163832c12791"
      },
      "execution_count": null,
      "outputs": [
        {
          "output_type": "stream",
          "name": "stdout",
          "text": [
            "R2 is 0.564094872400299\n"
          ]
        }
      ]
    }
  ]
}